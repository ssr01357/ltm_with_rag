{
 "cells": [
  {
   "cell_type": "code",
   "execution_count": 1,
   "metadata": {},
   "outputs": [
    {
     "name": "stderr",
     "output_type": "stream",
     "text": [
      "/home/yl3427/miniconda3/envs/vllm_env/lib/python3.9/site-packages/tqdm/auto.py:21: TqdmWarning: IProgress not found. Please update jupyter and ipywidgets. See https://ipywidgets.readthedocs.io/en/stable/user_install.html\n",
      "  from .autonotebook import tqdm as notebook_tqdm\n",
      "/home/yl3427/miniconda3/envs/vllm_env/lib/python3.9/site-packages/pydantic/_internal/_fields.py:161: UserWarning: Field \"model_name\" has conflict with protected namespace \"model_\".\n",
      "\n",
      "You may be able to resolve this warning by setting `model_config['protected_namespaces'] = ()`.\n",
      "  warnings.warn(\n"
     ]
    }
   ],
   "source": [
    "from torch.nn import DataParallel\n",
    "import torch\n",
    "import torch.nn.functional as F\n",
    "from transformers import AutoTokenizer, AutoModel\n",
    "from tqdm import tqdm\n",
    "import chromadb\n",
    "from chromadb.config import Settings\n",
    "import pymupdf\n",
    "import re\n",
    "from transformers import AutoTokenizer\n",
    "from sentence_transformers import SentenceTransformer\n",
    "import matplotlib.pyplot as plt\n",
    "from langchain.text_splitter import RecursiveCharacterTextSplitter\n",
    "from langchain.docstore.document import Document\n",
    "from langchain_community.embeddings import HuggingFaceBgeEmbeddings\n",
    "import pandas as pd\n",
    "import os\n",
    "\n",
    "# Set environment variable\n",
    "os.environ['PYTORCH_CUDA_ALLOC_CONF'] = 'expandable_segments:True'\n",
    "device = torch.device(\"cuda:0\" if torch.cuda.is_available() else \"cpu\")"
   ]
  },
  {
   "cell_type": "code",
   "execution_count": 2,
   "metadata": {},
   "outputs": [
    {
     "name": "stderr",
     "output_type": "stream",
     "text": [
      "Loading checkpoint shards: 100%|██████████| 4/4 [00:02<00:00,  1.69it/s]\n"
     ]
    },
    {
     "data": {
      "text/plain": [
       "NVEmbedModel(\n",
       "  (latent_attention_model): LatentAttentionModel(\n",
       "    (cross_attend_blocks): ModuleList(\n",
       "      (0): PreNorm(\n",
       "        (fn): Attention(\n",
       "          (to_q): Linear(in_features=4096, out_features=32768, bias=False)\n",
       "          (to_kv): Linear(in_features=4096, out_features=65536, bias=False)\n",
       "          (to_out): Linear(in_features=32768, out_features=4096, bias=False)\n",
       "        )\n",
       "        (norm): LayerNorm((4096,), eps=1e-05, elementwise_affine=True)\n",
       "        (norm_context): LayerNorm((4096,), eps=1e-05, elementwise_affine=True)\n",
       "      )\n",
       "      (1): PreNorm(\n",
       "        (fn): FeedForward(\n",
       "          (net): Sequential(\n",
       "            (0): Linear(in_features=4096, out_features=32768, bias=True)\n",
       "            (1): GEGLU()\n",
       "            (2): Linear(in_features=16384, out_features=4096, bias=True)\n",
       "          )\n",
       "        )\n",
       "        (norm): LayerNorm((4096,), eps=1e-05, elementwise_affine=True)\n",
       "      )\n",
       "    )\n",
       "  )\n",
       "  (embedding_model): BidirectionalMistralModel(\n",
       "    (embed_tokens): Embedding(32000, 4096)\n",
       "    (layers): ModuleList(\n",
       "      (0-31): 32 x MistralDecoderLayer(\n",
       "        (self_attn): MistralSdpaAttention(\n",
       "          (q_proj): Linear(in_features=4096, out_features=4096, bias=False)\n",
       "          (k_proj): Linear(in_features=4096, out_features=1024, bias=False)\n",
       "          (v_proj): Linear(in_features=4096, out_features=1024, bias=False)\n",
       "          (o_proj): Linear(in_features=4096, out_features=4096, bias=False)\n",
       "          (rotary_emb): MistralRotaryEmbedding()\n",
       "        )\n",
       "        (mlp): MistralMLP(\n",
       "          (gate_proj): Linear(in_features=4096, out_features=14336, bias=False)\n",
       "          (up_proj): Linear(in_features=4096, out_features=14336, bias=False)\n",
       "          (down_proj): Linear(in_features=14336, out_features=4096, bias=False)\n",
       "          (act_fn): SiLU()\n",
       "        )\n",
       "        (input_layernorm): MistralRMSNorm()\n",
       "        (post_attention_layernorm): MistralRMSNorm()\n",
       "      )\n",
       "    )\n",
       "    (norm): MistralRMSNorm()\n",
       "  )\n",
       ")"
      ]
     },
     "execution_count": 2,
     "metadata": {},
     "output_type": "execute_result"
    }
   ],
   "source": [
    "dir_path = \"/secure/shared_data/rag_embedding_model\"\n",
    "\n",
    "tokenizer = AutoTokenizer.from_pretrained(\"nvidia/NV-Embed-v2\", trust_remote_code=True, cache_dir=dir_path)\n",
    "embedding_model = AutoModel.from_pretrained(\"nvidia/NV-Embed-v2\", trust_remote_code=True, cache_dir=dir_path)\n",
    "\n",
    "embedding_model.to(device)\n",
    "embedding_model.half()"
   ]
  },
  {
   "cell_type": "code",
   "execution_count": 22,
   "metadata": {},
   "outputs": [],
   "source": [
    "def load_pdf(files=\"/home/yl3427/cylab/rag_tnm/selfCorrectionAgent/src/ajcc_7thed_cancer_staging_manual.pdf\"):\n",
    "    if not isinstance(files, list):\n",
    "        files = [files]  \n",
    "\n",
    "    documents = []\n",
    "    for file_path in files:\n",
    "        doc = pymupdf.open(file_path)\n",
    "        text = \"\"\n",
    "        \n",
    "        print(f\"{len(doc)} pages found in {file_path}\")\n",
    "        for page in doc:\n",
    "            text += page.get_text()\n",
    "\n",
    "        text = group_broken_paragraphs(text)\n",
    "        text = clean_extra_whitespace_within_paragraphs(text)\n",
    "\n",
    "        document = Document(\n",
    "            page_content=text,\n",
    "            metadata={\"source\": file_path}\n",
    "        )\n",
    "        documents.append(document)\n",
    "\n",
    "\n",
    "    return documents\n",
    "\n",
    "def clean_extra_whitespace_within_paragraphs(text):\n",
    "    return re.sub(r'[ \\t]+', ' ', text)\n",
    "\n",
    "def group_broken_paragraphs(text):\n",
    "    text = re.sub(r\"(?<!\\n)\\n(?!\\n)\", \" \", text)\n",
    "    # text = re.sub(r\"\\n{2,}\", \"\\n\", text)\n",
    "    return text"
   ]
  },
  {
   "cell_type": "code",
   "execution_count": 23,
   "metadata": {},
   "outputs": [],
   "source": [
    "def split_documents(\n",
    "    chunk_size: int,\n",
    "    knowledge_base,\n",
    "    tokenizer\n",
    "):\n",
    "    text_splitter = RecursiveCharacterTextSplitter.from_huggingface_tokenizer(\n",
    "        separators = [\"\\n\\n\", \"\\n\", '(?<=[.?\"\\s])\\s+'],\n",
    "        tokenizer=tokenizer,\n",
    "        chunk_size=chunk_size,\n",
    "        chunk_overlap=0,\n",
    "        add_start_index=True,\n",
    "        strip_whitespace=True,\n",
    "        is_separator_regex=True\n",
    "    )\n",
    "\n",
    "    docs_processed = (text_splitter.split_documents([doc]) for doc in knowledge_base)\n",
    "\n",
    "    unique_texts = set()\n",
    "    docs_processed_unique = []\n",
    "    for doc_chunk in docs_processed:\n",
    "        for doc in doc_chunk:\n",
    "            if doc.page_content not in unique_texts:\n",
    "                unique_texts.add(doc.page_content)\n",
    "                docs_processed_unique.append(doc)\n",
    "\n",
    "    return docs_processed_unique"
   ]
  },
  {
   "cell_type": "code",
   "execution_count": 24,
   "metadata": {},
   "outputs": [
    {
     "name": "stdout",
     "output_type": "stream",
     "text": [
      "23 pages found in /home/yl3427/cylab/rag_tnm/selfCorrectionAgent/src/ajcc_7thed_cancer_staging_manual.pdf\n"
     ]
    },
    {
     "data": {
      "text/plain": [
       "69"
      ]
     },
     "execution_count": 24,
     "metadata": {},
     "output_type": "execute_result"
    }
   ],
   "source": [
    "MAX_LENGTH = 512\n",
    "\n",
    "docs_processed = split_documents(\n",
    "    chunk_size = MAX_LENGTH, \n",
    "    knowledge_base = load_pdf(),\n",
    "    tokenizer = tokenizer,\n",
    ")\n",
    "len(docs_processed)"
   ]
  },
  {
   "cell_type": "code",
   "execution_count": 26,
   "metadata": {},
   "outputs": [
    {
     "name": "stdout",
     "output_type": "stream",
     "text": [
      "Maximum sequence length in chunks: 567\n"
     ]
    },
    {
     "data": {
      "image/png": "[encoded data removed]",
      "text/plain": [
       "<Figure size 640x480 with 1 Axes>"
      ]
     },
     "metadata": {},
     "output_type": "display_data"
    },
    {
     "data": {
      "text/plain": [
       "570"
      ]
     },
     "execution_count": 26,
     "metadata": {},
     "output_type": "execute_result"
    }
   ],
   "source": [
    "def plot_docs_tokens(docs_processed, tokenizer):\n",
    "    lengths = [len(tokenizer.encode(doc.page_content)) for doc in docs_processed]\n",
    "    print(f\"Maximum sequence length in chunks: {max(lengths)}\")\n",
    "    fig = pd.Series(lengths).hist()\n",
    "    plt.title(\"Distribution of document lengths in the knowledge base (in count of tokens)\")\n",
    "    plt.show()\n",
    "    return max(lengths)\n",
    "\n",
    "MAX_LENGTH = plot_docs_tokens(docs_processed, tokenizer)\n",
    "MAX_LENGTH = round(MAX_LENGTH, -1)\n",
    "MAX_LENGTH"
   ]
  },
  {
   "cell_type": "code",
   "execution_count": 27,
   "metadata": {},
   "outputs": [],
   "source": [
    "def embed_docs_in_chroma(docs, collection, max_length=MAX_LENGTH):\n",
    "    \n",
    "    pbar = tqdm(total=len(docs))\n",
    "\n",
    "    for doc in docs:\n",
    "        id = str(doc.metadata[\"start_index\"])\n",
    "        doc_text = doc.page_content\n",
    "\n",
    "        with torch.no_grad():\n",
    "            embeddings = embedding_model.encode([doc_text], max_length=max_length)\n",
    "            embeddings = embeddings.detach().cpu().numpy().tolist()\n",
    "\n",
    "        collection.add(\n",
    "            embeddings=embeddings,\n",
    "            # metadatas=[{}],\n",
    "            documents=[doc_text],\n",
    "            ids=[id]\n",
    "        )\n",
    "        pbar.update(1)\n",
    "        torch.cuda.empty_cache()\n",
    "        \n",
    "    pbar.close()"
   ]
  },
  {
   "cell_type": "code",
   "execution_count": 28,
   "metadata": {},
   "outputs": [
    {
     "data": {
      "text/plain": [
       "0"
      ]
     },
     "execution_count": 28,
     "metadata": {},
     "output_type": "execute_result"
    }
   ],
   "source": [
    "client = chromadb.PersistentClient(path=\"/home/yl3427/cylab/chroma_db\",\n",
    "                                   settings=Settings(allow_reset=True))\n",
    "\n",
    "brca_collection = client.get_or_create_collection(name = \"brca\", metadata={\"hnsw:space\": \"cosine\"})\n",
    "brca_collection.count()"
   ]
  },
  {
   "cell_type": "code",
   "execution_count": 29,
   "metadata": {},
   "outputs": [
    {
     "name": "stderr",
     "output_type": "stream",
     "text": [
      "  0%|          | 0/69 [00:00<?, ?it/s]/home/yl3427/.cache/huggingface/modules/transformers_modules/nvidia/NV-Embed-v2/26db444e203771ea231d32a795344655e1119d40/modeling_nvembed.py:349: UserWarning: To copy construct from a tensor, it is recommended to use sourceTensor.clone().detach() or sourceTensor.clone().detach().requires_grad_(True), rather than torch.tensor(sourceTensor).\n",
      "  'input_ids': torch.tensor(batch_dict.get('input_ids').to(batch_dict.get('input_ids')).long()),\n",
      "/home/yl3427/miniconda3/envs/vllm_env/lib/python3.9/site-packages/torch/backends/cuda/__init__.py:342: FutureWarning: torch.backends.cuda.sdp_kernel() is deprecated. In the future, this context manager will be removed. Please see, torch.nn.attention.sdpa_kernel() for the new context manager, with updated signature.\n",
      "  warnings.warn(\n",
      "100%|██████████| 69/69 [01:55<00:00,  1.67s/it]\n"
     ]
    },
    {
     "data": {
      "text/plain": [
       "69"
      ]
     },
     "execution_count": 29,
     "metadata": {},
     "output_type": "execute_result"
    }
   ],
   "source": [
    "embed_docs_in_chroma(docs_processed, brca_collection)\n",
    "brca_collection.count()"
   ]
  },
  {
   "cell_type": "markdown",
   "metadata": {},
   "source": [
    "# RAG - raw chunks"
   ]
  },
  {
   "cell_type": "code",
   "execution_count": 30,
   "metadata": {},
   "outputs": [
    {
     "data": {
      "text/plain": [
       "69"
      ]
     },
     "execution_count": 30,
     "metadata": {},
     "output_type": "execute_result"
    }
   ],
   "source": [
    "client = chromadb.PersistentClient(path=\"/home/yl3427/cylab/chroma_db\",\n",
    "                                   settings=Settings(allow_reset=True))\n",
    "\n",
    "brca_collection = client.get_collection(name = \"brca\")\n",
    "brca_collection.count()"
   ]
  },
  {
   "cell_type": "code",
   "execution_count": 31,
   "metadata": {},
   "outputs": [],
   "source": [
    "query_t14 = \"\"\"You are provided with a pathology report for a breast cancer patient and relevant chunks from the AJCC's TNM Staging System guidelines as context.\n",
    "Please review this report and determine the pathologic T stage of the patient's breast cancer, with the help of the context.\n",
    "As you analyze the report, explain step-by-step how you are interpreting the relevant information according to the AJCC guidelines and how it leads to the final decision regarding the T stage. Ignore any substaging information. Please select from the following four options: T1, T2, T3, T4.\n",
    "\"\"\"\n",
    "query_n03 = \"\"\"You are provided with a pathology report for a breast cancer patient and relevant chunks from the AJCC's TNM Staging System guidelines as context.\n",
    "Please review this report and determine the pathologic N stage of the patient's breast cancer, with the help of the context.\n",
    "As you analyze the report, explain step-by-step how you are interpreting the relevant information according to the AJCC guidelines and how it leads to the final decision regarding the N stage. Ignore any substaging information. Please select from the following four options: N0, N1, N2, N3.\n",
    "\"\"\"\n",
    "queries = [query_t14, query_n03]"
   ]
  },
  {
   "cell_type": "code",
   "execution_count": 32,
   "metadata": {},
   "outputs": [
    {
     "data": {
      "text/plain": [
       "[131, 131]"
      ]
     },
     "execution_count": 32,
     "metadata": {},
     "output_type": "execute_result"
    }
   ],
   "source": [
    "lengths = [len(tokenizer.encode(query)) for query in queries]\n",
    "lengths"
   ]
  },
  {
   "cell_type": "code",
   "execution_count": 33,
   "metadata": {},
   "outputs": [
    {
     "data": {
      "text/plain": [
       "{'ids': [['8197', '6623', '63617', '64906', '74670'],\n",
       "  ['8197', '71316', '69959', '74670', '6623']],\n",
       " 'distances': [[0.3787946421580234,\n",
       "   0.3809780981051395,\n",
       "   0.4006083019694724,\n",
       "   0.4033960491944447,\n",
       "   0.4076691735530952],\n",
       "  [0.385829505440451,\n",
       "   0.38841106948556725,\n",
       "   0.40128222121561097,\n",
       "   0.40742356737337837,\n",
       "   0.40899991809874836]],\n",
       " 'metadatas': None,\n",
       " 'embeddings': None,\n",
       " 'documents': [['Beginning with that initiative, six editions of the AJCC Staging Manual have been published, in which careful deﬁ nitions of the primary tumor (T), the status of the surrounding lymph nodes (N), and the presence of distant ANATOMIC STAGE/PROGNOSTIC GROUPS Stage 0 Tis N0 M0 Stage IA T1 * N0 M0 Stage IB T0 N1mi M0 T1 * N1mi M0 Stage IIA T0 N1 ** M0 T1 * N1 ** M0 T2 N0 M0 Stage IIB T2 N1 M0 T3 N0 M0 Stage IIIA T0 N2 M0 T1 * N2 M0 T2 N2 M0 T3 N1 M0 T3 N2 M0 Stage IIIB T4 N0 M0 T4 N1 M0 T4 N2 M0 Stage IIIC Any T N3 M0 Stage IV Any T Any N M1 ICD-O-3 TOPOGRAPHY CODES C50.0 Nipple C50.1 Central portion of breast C50.2 Upper inner quadrant of breast C50.3 Lower inner quadrant of breast C50.4 Upper outer quadrant of breast C50.5 Lower outer quadrant of breast C50.6 Axillary tail of breast C50.8 Overlapping lesion of breast C50.9 Breast, NOS ICD-O-3 HISTOLOGY CODE RANGES 8000–8576, 8940–8950, 8980–8981, 9020 Notes: * T1 includes T1mi. ** T0 and T1 tumors with nodal micrometastases only are excluded from Stage IIA and are classiﬁ ed Stage IB. ● M0 includes M0(i+). ● The designation pM0 is not valid; any M0 should be clinical. ● If a patient presents with M1 prior to neoadjuvant systemic therapy, the stage is considered stage IV and remains stage IV regardless of response to neoadjuvant therapy.',\n",
       "   'The registrars are requested to describe how they deﬁ ned response [by physical examination, imaging tech- niques (mammogram, ultrasound, magnetic resonance imaging (MRI)) or pathologically] ● Patients will be considered to have M1 (and therefore Stage IV) breast cancer if they have had clinically or radiographically detectable metastases, with or without biopsy, prior to neoadjuvant systemic therapy, regardless of their status after neoadjuvant systemic therapy In order to view this proof accurately, the Overprint Preview Option must be set to Always in Acrobat Professional or Adobe Reader. Please contact your Customer Service Representative if you have questions about finding this option. Job Name: -- /381449t Breast 349 32 INTRODUCTION This staging system for carcinoma of the breast applies to inva- sive (also designated inﬁ ltrating) as well as in situ carcinomas, with or without microinvasion. Microscopic conﬁ rmation of the diagnosis is mandatory, and the histologic type and grade of carcinoma should be recorded. For all sites (T, N, M), clinical staging (c) is determined using information identiﬁ ed prior to surgery or neoadjuvant therapy. Pathologic staging (p) includes information deﬁ ned at surgery. With neoadju- vant therapy a posttherapy pathologic staging is recorded using the “yp” designator. The year 2009 marks the 50th anniversary of codiﬁ ca- tion of tumor staging into the TNM system by the Ameri- can Joint Committee on Cancer (AJCC; originally designated the American Joint Committee for Cancer Staging and End- Results Reporting).',\n",
       "   'Designation should be made with the subscript “c” or “p” modiﬁ er to indicate whether the T classiﬁ cation was determined by clinical (physical examination or radiologic) or pathologic measurements, respectively. In general, pathologic determination should take precedence over clinical determination of T size. TX Primary tumor cannot be assessed T0 No evidence of primary tumor Tis Carcinoma in situ Tis (DCIS) Ductal carcinoma in situ Tis (LCIS) Lobular carcinoma in situ Tis (Paget’s) Paget’s disease of the nipple NOT associ- ated with invasive carcinoma and/or car- cinoma in situ (DCIS and/or LCIS) in the underlying breast parenchyma. Carcino- mas in the breast parenchyma associated with Paget’s disease are categorized based on the size and characteristics of the paren- chymal disease, although the presence of Paget’s disease should still be noted T1 Tumor ≤ 20 mm in greatest dimension T1mi Tumor ≤ 1 mm in greatest dimension T1a Tumor >1 mm but ≤ 5 mm in greatest dimension T1b Tumor >5 mm but ≤ 10 mm in greatest dimension T1c Tumor >10 mm but ≤ 20 mm in greatest dimension T2 Tumor >20 mm but ≤ 50 mm in greatest dimension T3 Tumor >50 mm in greatest dimension T4 Tumor of any size with direct extension to the chest wall and/or to the skin (ulcer- ation or skin nodules).',\n",
       "   'Note: Invasion of the dermis alone does not qualify as T4 T4a Extension to the chest wall, not including only pectoralis muscle adherence/invasion T4b Ulceration and/or ipsilateral satellite nodules and/or edema (including peau d’orange) of the skin, which do not meet the criteria for inﬂ ammatory carcinoma T4c Both T4a and T4b T4d Inflammatory carcinoma (see “Rules for Classification”) FIGURE 32.3. Observed survival rates for 211,645 cases with carcinoma of the breast. Data from the National Cancer Data Base (Commission on Cancer of the American College of Surgeons and the American Cancer Society) diagnosed in years 2001–2002. Stage 0 includes 30,263; Stage I, 85,278; Stage IIA, 43,047; Stage IIB, 17,665; Stage IIIA, 13,983; Stage IIIB, 4,533; Stage IIIC, 6,741; and Stage IV, 10,135. In order to view this proof accurately, the Overprint Preview Option must be set to Always in Acrobat Professional or Adobe Reader. Please contact your Customer Service Representative if you have questions about finding this option. Job Name: -- /381449t Breast 359 32 Posttreatment ypT. Clinical (pretreatment) T will be deﬁ ned by clinical and radiographic ﬁ ndings, while y pathologic (posttreat- ment) T will be determined by pathologic size and extension. The ypT will be measured as the largest single focus of invasive tumor, with the modiﬁ er “m” indicating multiple foci. The mea- surement of the largest tumor focus should not include areas of ﬁ brosis within the tumor bed.',\n",
       "   'The M category for patients treated with neoadjuvant therapy is the category assigned in the clinical stage, prior to initiation of neoadjuvant therapy. Identiﬁ cation of distant metastases after the start of therapy in cases where pretherapy evaluation showed no metastases is considered progression of disease. If a patient was designated to have detectable distant metastases (M1) before chemother- apy, the patient will be designated as M1 throughout. ANATOMIC STAGE/PROGNOSTIC GROUPS Stage 0 Tis N0 M0 Stage IA T1 * N0 M0 Stage IB T0 N1mi M0 T1 * N1mi M0 Stage IIA T0 N1 ** M0 T1 * N1 ** M0 T2 N0 M0 Stage IIB T2 N1 M0 T3 N0 M0 Stage IIIA T0 N2 M0 T1 * N2 M0 T2 N2 M0 T3 N1 M0 T3 N2 M0 Stage IIIB T4 N0 M0 T4 N1 M0 T4 N2 M0 Stage IIIC Any T N3 M0 Stage IV Any T Any N M1 In order to view this proof accurately, the Overprint Preview Option must be set to Always in Acrobat Professional or Adobe Reader. Please contact your Customer Service Representative if you have questions about finding this option. Job Name: -- /381449t Breast 361 32 Notes: * T1 includes T1mi. ** T0 and T1 tumors with nodal micrometastases only are excluded from Stage IIA and are classiﬁ ed Stage IB. ● M0 includes M0(i+). ● The designation pM0 is not valid; any M0 should be clinical. ● If a patient presents with M1 prior to neoadjuvant systemic therapy, the stage is considered Stage IV and remains Stage IV regardless of response to neoadjuvant therapy.'],\n",
       "  ['Beginning with that initiative, six editions of the AJCC Staging Manual have been published, in which careful deﬁ nitions of the primary tumor (T), the status of the surrounding lymph nodes (N), and the presence of distant ANATOMIC STAGE/PROGNOSTIC GROUPS Stage 0 Tis N0 M0 Stage IA T1 * N0 M0 Stage IB T0 N1mi M0 T1 * N1mi M0 Stage IIA T0 N1 ** M0 T1 * N1 ** M0 T2 N0 M0 Stage IIB T2 N1 M0 T3 N0 M0 Stage IIIA T0 N2 M0 T1 * N2 M0 T2 N2 M0 T3 N1 M0 T3 N2 M0 Stage IIIB T4 N0 M0 T4 N1 M0 T4 N2 M0 Stage IIIC Any T N3 M0 Stage IV Any T Any N M1 ICD-O-3 TOPOGRAPHY CODES C50.0 Nipple C50.1 Central portion of breast C50.2 Upper inner quadrant of breast C50.3 Lower inner quadrant of breast C50.4 Upper outer quadrant of breast C50.5 Lower outer quadrant of breast C50.6 Axillary tail of breast C50.8 Overlapping lesion of breast C50.9 Breast, NOS ICD-O-3 HISTOLOGY CODE RANGES 8000–8576, 8940–8950, 8980–8981, 9020 Notes: * T1 includes T1mi. ** T0 and T1 tumors with nodal micrometastases only are excluded from Stage IIA and are classiﬁ ed Stage IB. ● M0 includes M0(i+). ● The designation pM0 is not valid; any M0 should be clinical. ● If a patient presents with M1 prior to neoadjuvant systemic therapy, the stage is considered stage IV and remains stage IV regardless of response to neoadjuvant therapy.',\n",
       "   ' Job Name: -- /381449t 360 American Joint Committee on Cancer • 2010 Pathologic (pN)* (Continued) pN2 Metastases in 4–9 axillary lymph nodes; or in clinically detected **** internal mam- mary lymph nodes in the absence of axil- lary lymph node metastases pN2a Metastases in 4–9 axillary lymph nodes (at least one tumor deposit greater than 2.0 mm) pN2b Metastases in clinically detected **** inter- nal mammary lymph nodes in the absence of axillary lymph node metastases pN3 Metastases in ten or more axillary lymph nodes; or in infraclavicular (level III axillary) lymph nodes; or in clinically detected **** ipsilateral internal mammary lymph nodes in the presence of one or more positive level I, II axillary lymph nodes; or in more than three axillary lymph nodes and in internal mam- mary lymph nodes with micrometastases or macrometastases detected by sentinel lymph node biopsy but not clinically detected *** ; or in ipsilateral supraclavicular lymph nodes pN3a Metastases in ten or more axillary lymph nodes (at least one tumor deposit greater than 2.0 mm); or metastases to the infra- clavicular (level III axillary lymph) nodes pN3b Metastases in clinically detected **** ipsi- lateral internal mammary lymph nodes in the presence of one or more positive axillary lymph nodes; or in more than three axil- lary lymph nodes andin internal mammary lymph nodes with micro metastases or mac- rometastases detected by sentinel lymph node biopsy but not clinically detected *** pN3c Metastases in ipsilateral supraclavicular lymph nodes Notes: * Classiﬁ cation is based on axillary lymph node dissection with or without sentinel lymph node biopsy.',\n",
       "   'pN0(i−) No regional lymph node metastases histo- logically, negative IHC pN0(i+) Malignant cells in regional lymph node(s) no greater than 0.2 mm (detected by H&E or IHC including ITC) pN0 (mol−) No regional lymph node metastases histolog- ically, negative molecular ﬁ ndings (RT-PCR) pN0 (mol+) Positive molecular ﬁ ndings (RT-PCR), ** but no regional lymph node metastases detected by histology or IHC pN1 Micrometastases; or metastases in 1–3 axil- lary lymph nodes; and/or in internal mam- mary nodes with metastases detected by sentinel lymph node biopsy but not clinically detected *** pN1mi Micrometastases (greater than 0.2 mm and/ or more than 200 cells, but none greater than 2.0 mm) pN1a Metastases in 1–3 axillary lymph nodes, at least one metastasis greater than 2.0 mm pN1b Metastases in internal mammary nodes with micrometastases or macrometastases detected by sentinel lymph node biopsy but not clinically detected *** pN1c Metastases in 1–3 axillary lymph nodes and in internal mammary lymph nodes with microme- tastases or macrometastases detected by sentinel lymph node biopsy but not clinically detected In order to view this proof accurately, the Overprint Preview Option must be set to Always in Acrobat Professional or Adobe Reader. Please contact your Customer Service Representative if you have questions about finding this option.',\n",
       "   'The M category for patients treated with neoadjuvant therapy is the category assigned in the clinical stage, prior to initiation of neoadjuvant therapy. Identiﬁ cation of distant metastases after the start of therapy in cases where pretherapy evaluation showed no metastases is considered progression of disease. If a patient was designated to have detectable distant metastases (M1) before chemother- apy, the patient will be designated as M1 throughout. ANATOMIC STAGE/PROGNOSTIC GROUPS Stage 0 Tis N0 M0 Stage IA T1 * N0 M0 Stage IB T0 N1mi M0 T1 * N1mi M0 Stage IIA T0 N1 ** M0 T1 * N1 ** M0 T2 N0 M0 Stage IIB T2 N1 M0 T3 N0 M0 Stage IIIA T0 N2 M0 T1 * N2 M0 T2 N2 M0 T3 N1 M0 T3 N2 M0 Stage IIIB T4 N0 M0 T4 N1 M0 T4 N2 M0 Stage IIIC Any T N3 M0 Stage IV Any T Any N M1 In order to view this proof accurately, the Overprint Preview Option must be set to Always in Acrobat Professional or Adobe Reader. Please contact your Customer Service Representative if you have questions about finding this option. Job Name: -- /381449t Breast 361 32 Notes: * T1 includes T1mi. ** T0 and T1 tumors with nodal micrometastases only are excluded from Stage IIA and are classiﬁ ed Stage IB. ● M0 includes M0(i+). ● The designation pM0 is not valid; any M0 should be clinical. ● If a patient presents with M1 prior to neoadjuvant systemic therapy, the stage is considered Stage IV and remains Stage IV regardless of response to neoadjuvant therapy.',\n",
       "   'The registrars are requested to describe how they deﬁ ned response [by physical examination, imaging tech- niques (mammogram, ultrasound, magnetic resonance imaging (MRI)) or pathologically] ● Patients will be considered to have M1 (and therefore Stage IV) breast cancer if they have had clinically or radiographically detectable metastases, with or without biopsy, prior to neoadjuvant systemic therapy, regardless of their status after neoadjuvant systemic therapy In order to view this proof accurately, the Overprint Preview Option must be set to Always in Acrobat Professional or Adobe Reader. Please contact your Customer Service Representative if you have questions about finding this option. Job Name: -- /381449t Breast 349 32 INTRODUCTION This staging system for carcinoma of the breast applies to inva- sive (also designated inﬁ ltrating) as well as in situ carcinomas, with or without microinvasion. Microscopic conﬁ rmation of the diagnosis is mandatory, and the histologic type and grade of carcinoma should be recorded. For all sites (T, N, M), clinical staging (c) is determined using information identiﬁ ed prior to surgery or neoadjuvant therapy. Pathologic staging (p) includes information deﬁ ned at surgery. With neoadju- vant therapy a posttherapy pathologic staging is recorded using the “yp” designator. The year 2009 marks the 50th anniversary of codiﬁ ca- tion of tumor staging into the TNM system by the Ameri- can Joint Committee on Cancer (AJCC; originally designated the American Joint Committee for Cancer Staging and End- Results Reporting).']],\n",
       " 'uris': None,\n",
       " 'data': None,\n",
       " 'included': ['documents', 'distances']}"
      ]
     },
     "execution_count": 33,
     "metadata": {},
     "output_type": "execute_result"
    }
   ],
   "source": [
    "results = brca_collection.query(query_embeddings=embedding_model.encode(\n",
    "    queries, max_length=MAX_LENGTH).detach().cpu().numpy().tolist(),\n",
    "    include=[\"documents\", \"distances\"],\n",
    "    n_results=3,\n",
    "    )\n",
    "\n",
    "results"
   ]
  },
  {
   "cell_type": "code",
   "execution_count": 34,
   "metadata": {},
   "outputs": [
    {
     "name": "stdout",
     "output_type": "stream",
     "text": [
      "Beginning with that initiative, six editions of the AJCC Staging Manual have been published, in which careful deﬁ nitions of the primary tumor (T), the status of the surrounding lymph nodes (N), and the presence of distant ANATOMIC STAGE/PROGNOSTIC GROUPS Stage 0 Tis N0 M0 Stage IA T1 * N0 M0 Stage IB T0 N1mi M0 T1 * N1mi M0 Stage IIA T0 N1 ** M0 T1 * N1 ** M0 T2 N0 M0 Stage IIB T2 N1 M0 T3 N0 M0 Stage IIIA T0 N2 M0 T1 * N2 M0 T2 N2 M0 T3 N1 M0 T3 N2 M0 Stage IIIB T4 N0 M0 T4 N1 M0 T4 N2 M0 Stage IIIC Any T N3 M0 Stage IV Any T Any N M1 ICD-O-3 TOPOGRAPHY CODES C50.0 Nipple C50.1 Central portion of breast C50.2 Upper inner quadrant of breast C50.3 Lower inner quadrant of breast C50.4 Upper outer quadrant of breast C50.5 Lower outer quadrant of breast C50.6 Axillary tail of breast C50.8 Overlapping lesion of breast C50.9 Breast, NOS ICD-O-3 HISTOLOGY CODE RANGES 8000–8576, 8940–8950, 8980–8981, 9020 Notes: * T1 includes T1mi. ** T0 and T1 tumors with nodal micrometastases only are excluded from Stage IIA and are classiﬁ ed Stage IB. ● M0 includes M0(i+). ● The designation pM0 is not valid; any M0 should be clinical. ● If a patient presents with M1 prior to neoadjuvant systemic therapy, the stage is considered stage IV and remains stage IV regardless of response to neoadjuvant therapy.\n",
      "The registrars are requested to describe how they deﬁ ned response [by physical examination, imaging tech- niques (mammogram, ultrasound, magnetic resonance imaging (MRI)) or pathologically] ● Patients will be considered to have M1 (and therefore Stage IV) breast cancer if they have had clinically or radiographically detectable metastases, with or without biopsy, prior to neoadjuvant systemic therapy, regardless of their status after neoadjuvant systemic therapy In order to view this proof accurately, the Overprint Preview Option must be set to Always in Acrobat Professional or Adobe Reader. Please contact your Customer Service Representative if you have questions about finding this option. Job Name: -- /381449t Breast 349 32 INTRODUCTION This staging system for carcinoma of the breast applies to inva- sive (also designated inﬁ ltrating) as well as in situ carcinomas, with or without microinvasion. Microscopic conﬁ rmation of the diagnosis is mandatory, and the histologic type and grade of carcinoma should be recorded. For all sites (T, N, M), clinical staging (c) is determined using information identiﬁ ed prior to surgery or neoadjuvant therapy. Pathologic staging (p) includes information deﬁ ned at surgery. With neoadju- vant therapy a posttherapy pathologic staging is recorded using the “yp” designator. The year 2009 marks the 50th anniversary of codiﬁ ca- tion of tumor staging into the TNM system by the Ameri- can Joint Committee on Cancer (AJCC; originally designated the American Joint Committee for Cancer Staging and End- Results Reporting).\n",
      "Designation should be made with the subscript “c” or “p” modiﬁ er to indicate whether the T classiﬁ cation was determined by clinical (physical examination or radiologic) or pathologic measurements, respectively. In general, pathologic determination should take precedence over clinical determination of T size. TX Primary tumor cannot be assessed T0 No evidence of primary tumor Tis Carcinoma in situ Tis (DCIS) Ductal carcinoma in situ Tis (LCIS) Lobular carcinoma in situ Tis (Paget’s) Paget’s disease of the nipple NOT associ- ated with invasive carcinoma and/or car- cinoma in situ (DCIS and/or LCIS) in the underlying breast parenchyma. Carcino- mas in the breast parenchyma associated with Paget’s disease are categorized based on the size and characteristics of the paren- chymal disease, although the presence of Paget’s disease should still be noted T1 Tumor ≤ 20 mm in greatest dimension T1mi Tumor ≤ 1 mm in greatest dimension T1a Tumor >1 mm but ≤ 5 mm in greatest dimension T1b Tumor >5 mm but ≤ 10 mm in greatest dimension T1c Tumor >10 mm but ≤ 20 mm in greatest dimension T2 Tumor >20 mm but ≤ 50 mm in greatest dimension T3 Tumor >50 mm in greatest dimension T4 Tumor of any size with direct extension to the chest wall and/or to the skin (ulcer- ation or skin nodules).\n",
      "Note: Invasion of the dermis alone does not qualify as T4 T4a Extension to the chest wall, not including only pectoralis muscle adherence/invasion T4b Ulceration and/or ipsilateral satellite nodules and/or edema (including peau d’orange) of the skin, which do not meet the criteria for inﬂ ammatory carcinoma T4c Both T4a and T4b T4d Inflammatory carcinoma (see “Rules for Classification”) FIGURE 32.3. Observed survival rates for 211,645 cases with carcinoma of the breast. Data from the National Cancer Data Base (Commission on Cancer of the American College of Surgeons and the American Cancer Society) diagnosed in years 2001–2002. Stage 0 includes 30,263; Stage I, 85,278; Stage IIA, 43,047; Stage IIB, 17,665; Stage IIIA, 13,983; Stage IIIB, 4,533; Stage IIIC, 6,741; and Stage IV, 10,135. In order to view this proof accurately, the Overprint Preview Option must be set to Always in Acrobat Professional or Adobe Reader. Please contact your Customer Service Representative if you have questions about finding this option. Job Name: -- /381449t Breast 359 32 Posttreatment ypT. Clinical (pretreatment) T will be deﬁ ned by clinical and radiographic ﬁ ndings, while y pathologic (posttreat- ment) T will be determined by pathologic size and extension. The ypT will be measured as the largest single focus of invasive tumor, with the modiﬁ er “m” indicating multiple foci. The mea- surement of the largest tumor focus should not include areas of ﬁ brosis within the tumor bed.\n",
      "The M category for patients treated with neoadjuvant therapy is the category assigned in the clinical stage, prior to initiation of neoadjuvant therapy. Identiﬁ cation of distant metastases after the start of therapy in cases where pretherapy evaluation showed no metastases is considered progression of disease. If a patient was designated to have detectable distant metastases (M1) before chemother- apy, the patient will be designated as M1 throughout. ANATOMIC STAGE/PROGNOSTIC GROUPS Stage 0 Tis N0 M0 Stage IA T1 * N0 M0 Stage IB T0 N1mi M0 T1 * N1mi M0 Stage IIA T0 N1 ** M0 T1 * N1 ** M0 T2 N0 M0 Stage IIB T2 N1 M0 T3 N0 M0 Stage IIIA T0 N2 M0 T1 * N2 M0 T2 N2 M0 T3 N1 M0 T3 N2 M0 Stage IIIB T4 N0 M0 T4 N1 M0 T4 N2 M0 Stage IIIC Any T N3 M0 Stage IV Any T Any N M1 In order to view this proof accurately, the Overprint Preview Option must be set to Always in Acrobat Professional or Adobe Reader. Please contact your Customer Service Representative if you have questions about finding this option. Job Name: -- /381449t Breast 361 32 Notes: * T1 includes T1mi. ** T0 and T1 tumors with nodal micrometastases only are excluded from Stage IIA and are classiﬁ ed Stage IB. ● M0 includes M0(i+). ● The designation pM0 is not valid; any M0 should be clinical. ● If a patient presents with M1 prior to neoadjuvant systemic therapy, the stage is considered Stage IV and remains Stage IV regardless of response to neoadjuvant therapy.\n",
      "\n",
      "Beginning with that initiative, six editions of the AJCC Staging Manual have been published, in which careful deﬁ nitions of the primary tumor (T), the status of the surrounding lymph nodes (N), and the presence of distant ANATOMIC STAGE/PROGNOSTIC GROUPS Stage 0 Tis N0 M0 Stage IA T1 * N0 M0 Stage IB T0 N1mi M0 T1 * N1mi M0 Stage IIA T0 N1 ** M0 T1 * N1 ** M0 T2 N0 M0 Stage IIB T2 N1 M0 T3 N0 M0 Stage IIIA T0 N2 M0 T1 * N2 M0 T2 N2 M0 T3 N1 M0 T3 N2 M0 Stage IIIB T4 N0 M0 T4 N1 M0 T4 N2 M0 Stage IIIC Any T N3 M0 Stage IV Any T Any N M1 ICD-O-3 TOPOGRAPHY CODES C50.0 Nipple C50.1 Central portion of breast C50.2 Upper inner quadrant of breast C50.3 Lower inner quadrant of breast C50.4 Upper outer quadrant of breast C50.5 Lower outer quadrant of breast C50.6 Axillary tail of breast C50.8 Overlapping lesion of breast C50.9 Breast, NOS ICD-O-3 HISTOLOGY CODE RANGES 8000–8576, 8940–8950, 8980–8981, 9020 Notes: * T1 includes T1mi. ** T0 and T1 tumors with nodal micrometastases only are excluded from Stage IIA and are classiﬁ ed Stage IB. ● M0 includes M0(i+). ● The designation pM0 is not valid; any M0 should be clinical. ● If a patient presents with M1 prior to neoadjuvant systemic therapy, the stage is considered stage IV and remains stage IV regardless of response to neoadjuvant therapy.\n",
      " Job Name: -- /381449t 360 American Joint Committee on Cancer • 2010 Pathologic (pN)* (Continued) pN2 Metastases in 4–9 axillary lymph nodes; or in clinically detected **** internal mam- mary lymph nodes in the absence of axil- lary lymph node metastases pN2a Metastases in 4–9 axillary lymph nodes (at least one tumor deposit greater than 2.0 mm) pN2b Metastases in clinically detected **** inter- nal mammary lymph nodes in the absence of axillary lymph node metastases pN3 Metastases in ten or more axillary lymph nodes; or in infraclavicular (level III axillary) lymph nodes; or in clinically detected **** ipsilateral internal mammary lymph nodes in the presence of one or more positive level I, II axillary lymph nodes; or in more than three axillary lymph nodes and in internal mam- mary lymph nodes with micrometastases or macrometastases detected by sentinel lymph node biopsy but not clinically detected *** ; or in ipsilateral supraclavicular lymph nodes pN3a Metastases in ten or more axillary lymph nodes (at least one tumor deposit greater than 2.0 mm); or metastases to the infra- clavicular (level III axillary lymph) nodes pN3b Metastases in clinically detected **** ipsi- lateral internal mammary lymph nodes in the presence of one or more positive axillary lymph nodes; or in more than three axil- lary lymph nodes andin internal mammary lymph nodes with micro metastases or mac- rometastases detected by sentinel lymph node biopsy but not clinically detected *** pN3c Metastases in ipsilateral supraclavicular lymph nodes Notes: * Classiﬁ cation is based on axillary lymph node dissection with or without sentinel lymph node biopsy.\n",
      "pN0(i−) No regional lymph node metastases histo- logically, negative IHC pN0(i+) Malignant cells in regional lymph node(s) no greater than 0.2 mm (detected by H&E or IHC including ITC) pN0 (mol−) No regional lymph node metastases histolog- ically, negative molecular ﬁ ndings (RT-PCR) pN0 (mol+) Positive molecular ﬁ ndings (RT-PCR), ** but no regional lymph node metastases detected by histology or IHC pN1 Micrometastases; or metastases in 1–3 axil- lary lymph nodes; and/or in internal mam- mary nodes with metastases detected by sentinel lymph node biopsy but not clinically detected *** pN1mi Micrometastases (greater than 0.2 mm and/ or more than 200 cells, but none greater than 2.0 mm) pN1a Metastases in 1–3 axillary lymph nodes, at least one metastasis greater than 2.0 mm pN1b Metastases in internal mammary nodes with micrometastases or macrometastases detected by sentinel lymph node biopsy but not clinically detected *** pN1c Metastases in 1–3 axillary lymph nodes and in internal mammary lymph nodes with microme- tastases or macrometastases detected by sentinel lymph node biopsy but not clinically detected In order to view this proof accurately, the Overprint Preview Option must be set to Always in Acrobat Professional or Adobe Reader. Please contact your Customer Service Representative if you have questions about finding this option.\n",
      "The M category for patients treated with neoadjuvant therapy is the category assigned in the clinical stage, prior to initiation of neoadjuvant therapy. Identiﬁ cation of distant metastases after the start of therapy in cases where pretherapy evaluation showed no metastases is considered progression of disease. If a patient was designated to have detectable distant metastases (M1) before chemother- apy, the patient will be designated as M1 throughout. ANATOMIC STAGE/PROGNOSTIC GROUPS Stage 0 Tis N0 M0 Stage IA T1 * N0 M0 Stage IB T0 N1mi M0 T1 * N1mi M0 Stage IIA T0 N1 ** M0 T1 * N1 ** M0 T2 N0 M0 Stage IIB T2 N1 M0 T3 N0 M0 Stage IIIA T0 N2 M0 T1 * N2 M0 T2 N2 M0 T3 N1 M0 T3 N2 M0 Stage IIIB T4 N0 M0 T4 N1 M0 T4 N2 M0 Stage IIIC Any T N3 M0 Stage IV Any T Any N M1 In order to view this proof accurately, the Overprint Preview Option must be set to Always in Acrobat Professional or Adobe Reader. Please contact your Customer Service Representative if you have questions about finding this option. Job Name: -- /381449t Breast 361 32 Notes: * T1 includes T1mi. ** T0 and T1 tumors with nodal micrometastases only are excluded from Stage IIA and are classiﬁ ed Stage IB. ● M0 includes M0(i+). ● The designation pM0 is not valid; any M0 should be clinical. ● If a patient presents with M1 prior to neoadjuvant systemic therapy, the stage is considered Stage IV and remains Stage IV regardless of response to neoadjuvant therapy.\n",
      "The registrars are requested to describe how they deﬁ ned response [by physical examination, imaging tech- niques (mammogram, ultrasound, magnetic resonance imaging (MRI)) or pathologically] ● Patients will be considered to have M1 (and therefore Stage IV) breast cancer if they have had clinically or radiographically detectable metastases, with or without biopsy, prior to neoadjuvant systemic therapy, regardless of their status after neoadjuvant systemic therapy In order to view this proof accurately, the Overprint Preview Option must be set to Always in Acrobat Professional or Adobe Reader. Please contact your Customer Service Representative if you have questions about finding this option. Job Name: -- /381449t Breast 349 32 INTRODUCTION This staging system for carcinoma of the breast applies to inva- sive (also designated inﬁ ltrating) as well as in situ carcinomas, with or without microinvasion. Microscopic conﬁ rmation of the diagnosis is mandatory, and the histologic type and grade of carcinoma should be recorded. For all sites (T, N, M), clinical staging (c) is determined using information identiﬁ ed prior to surgery or neoadjuvant therapy. Pathologic staging (p) includes information deﬁ ned at surgery. With neoadju- vant therapy a posttherapy pathologic staging is recorded using the “yp” designator. The year 2009 marks the 50th anniversary of codiﬁ ca- tion of tumor staging into the TNM system by the Ameri- can Joint Committee on Cancer (AJCC; originally designated the American Joint Committee for Cancer Staging and End- Results Reporting).\n"
     ]
    }
   ],
   "source": [
    "rag_raw_t14 = '\\n'.join(results['documents'][0])\n",
    "rag_raw_n03 = '\\n'.join(results['documents'][1])\n",
    "\n",
    "print(rag_raw_t14)\n",
    "print()\n",
    "print(rag_raw_n03)"
   ]
  },
  {
   "cell_type": "markdown",
   "metadata": {},
   "source": [
    "# Long Term Memory (LTM) "
   ]
  },
  {
   "cell_type": "code",
   "execution_count": 35,
   "metadata": {},
   "outputs": [],
   "source": [
    "main_query_t14 = '''Please infer a list of general rules that help predict the T stage for breast cancer based on the AJCC's TNM Staging System. Ensure there is at least one rule for each T stage (T1, T2, T3, T4) in the list of rules.'''\n",
    "main_query_n03 = '''Please infer a list of general rules that help predict the N stage for breast cancer based on the AJCC's TNM Staging System. Ensure there is at least one rule for each N stage (N0, N1, N2, N3) in the list of rules.'''"
   ]
  },
  {
   "cell_type": "markdown",
   "metadata": {},
   "source": [
    "## vllm"
   ]
  },
  {
   "cell_type": "code",
   "execution_count": 59,
   "metadata": {},
   "outputs": [],
   "source": [
    "from openai import OpenAI\n",
    "\n",
    "def agent(prompt):\n",
    "    client = OpenAI(api_key = \"empty\",\n",
    "                base_url = \"http://localhost:8000/v1\")\n",
    "    messages = [{\"role\": \"user\", \"content\": prompt}]\n",
    "    response = client.chat.completions.create(\n",
    "        model = \"mistralai/Mixtral-8x7B-Instruct-v0.1\",\n",
    "        messages = messages,\n",
    "        temperature = 0.1)\n",
    "  \n",
    "    return response.choices[0].message.content"
   ]
  },
  {
   "cell_type": "markdown",
   "metadata": {},
   "source": [
    "## 1. ltm_zs"
   ]
  },
  {
   "cell_type": "code",
   "execution_count": 37,
   "metadata": {},
   "outputs": [
    {
     "name": "stderr",
     "output_type": "stream",
     "text": [
      "huggingface/tokenizers: The current process just got forked, after parallelism has already been used. Disabling parallelism to avoid deadlocks...\n",
      "To disable this warning, you can either:\n",
      "\t- Avoid using `tokenizers` before the fork if possible\n",
      "\t- Explicitly set the environment variable TOKENIZERS_PARALLELISM=(true | false)\n"
     ]
    },
    {
     "name": "stdout",
     "output_type": "stream",
     "text": [
      " Sure, I'd be happy to help with that! The American Joint Committee on Cancer (AJCC)'s TNM Staging System is a widely accepted method for staging breast cancer. The \"T\" in TNM refers to the size of the tumor and its extent of involvement in the breast. Here are some general rules that can help predict the T stage for breast cancer:\n",
      "\n",
      "* T1: The tumor is 2 centimeters (cm) or less in size. This can be further divided into T1mi (minimal invasion, tumor invades up to 0.1 cm), T1a (tumor invades 0.1 to 0.5 cm), T1b (tumor invades 0.5 to 1 cm), and T1c (tumor invades more than 1 cm but not more than 2 cm).\n",
      "* T2: The tumor is more than 2 cm but not more than 5 cm in size.\n",
      "* T3: The tumor is more than 5 cm in size. Alternatively, the tumor may be any size but has extension to the chest wall or skin. This can include inflammatory carcinoma, which is a clinical diagnosis characterized by diffuse erythema and edema of the breast skin.\n",
      "* T4: The tumor has extension to the chest wall and/or skin, regardless of tumor size. This can include ulceration or satellite skin nodules (T4a), invasion of the chest wall or ribs (T4b), or inflammatory carcinoma (T4d).\n",
      "\n",
      "It's important to note that these rules are general guidelines and may not apply to every case of breast cancer. The actual T stage should be determined by a qualified healthcare professional based on a thorough evaluation of the patient's medical history, physical examination, and diagnostic test results.\n",
      "\n",
      " Sure, I'd be happy to help with that! The AJCC's TNM Staging System is a widely accepted method for staging breast cancer, and it includes the assessment of regional lymph node involvement (N stage). Here are some general rules that can help predict the N stage for breast cancer:\n",
      "\n",
      "* N0: No lymph node involvement is found during clinical examination or imaging studies, and none of the sentinel lymph nodes (SLNs) or non-SLNs contain cancer cells upon pathological examination.\n",
      "* N1: Cancer is found in 1-3 axillary lymph nodes, and/or in the sentinel lymph node(s) with micrometastases (small clusters of cancer cells between 0.2-2.0 mm in size) or isolated tumor cells (small groups of cancer cells no larger than 0.2 mm in size).\n",
      "* N2: Cancer is found in 4-9 axillary lymph nodes, or in the inframammary (lower outer quadrant) or internal mammary lymph nodes.\n",
      "* N3: Cancer is found in 10 or more axillary lymph nodes, or in the ipsilateral (same side) supraclavicular lymph nodes. Additionally, cancer may be found in the inframammary or internal mammary lymph nodes with extranodal extension (cancer cells spreading beyond the lymph node into surrounding tissue).\n",
      "\n",
      "It's important to note that these rules are general guidelines and that the actual N stage for a patient with breast cancer will depend on a variety of factors, including the size and location of the tumor, the presence of any lymphovascular invasion, and the results of any imaging studies or biopsies. A qualified healthcare professional should always be consulted for an accurate diagnosis and staging of breast cancer.\n"
     ]
    }
   ],
   "source": [
    "ltm_zs_t14 = agent(main_query_t14)\n",
    "ltm_zs_n03 = agent(main_query_n03)\n",
    "\n",
    "print(ltm_zs_t14)\n",
    "print()\n",
    "print(ltm_zs_n03)"
   ]
  },
  {
   "cell_type": "markdown",
   "metadata": {},
   "source": [
    "## 2. ltm_rag1"
   ]
  },
  {
   "cell_type": "code",
   "execution_count": 44,
   "metadata": {},
   "outputs": [],
   "source": [
    "rule_generator_prompt = \"\"\"\n",
    "You are a helpful assistant. Based on the provided context, answer the question.\n",
    "\n",
    "Context:\n",
    "{context}\n",
    "\n",
    "Question:\n",
    "{question}\n",
    "\"\"\"\n",
    "# rule_generator_prompt_debug = \"\"\"\n",
    "# You are a helpful assistant. Based on the provided context, answer the question.\n",
    "\n",
    "# Context:\n",
    "# {context}\n",
    "\n",
    "# Question:\n",
    "# {question}\n",
    "# When you list rules, add a part of the context that supports each rule.\n",
    "# \"\"\""
   ]
  },
  {
   "cell_type": "code",
   "execution_count": 52,
   "metadata": {},
   "outputs": [
    {
     "name": "stderr",
     "output_type": "stream",
     "text": [
      "/home/yl3427/.cache/huggingface/modules/transformers_modules/nvidia/NV-Embed-v2/26db444e203771ea231d32a795344655e1119d40/modeling_nvembed.py:349: UserWarning: To copy construct from a tensor, it is recommended to use sourceTensor.clone().detach() or sourceTensor.clone().detach().requires_grad_(True), rather than torch.tensor(sourceTensor).\n",
      "  'input_ids': torch.tensor(batch_dict.get('input_ids').to(batch_dict.get('input_ids')).long()),\n",
      "/home/yl3427/miniconda3/envs/vllm_env/lib/python3.9/site-packages/torch/backends/cuda/__init__.py:342: FutureWarning: torch.backends.cuda.sdp_kernel() is deprecated. In the future, this context manager will be removed. Please see, torch.nn.attention.sdpa_kernel() for the new context manager, with updated signature.\n",
      "  warnings.warn(\n"
     ]
    }
   ],
   "source": [
    "# context generation\n",
    "results = brca_collection.query(query_embeddings=embedding_model.encode(\n",
    "    [main_query_t14, main_query_n03], max_length=MAX_LENGTH).detach().cpu().numpy().tolist(),\n",
    "    include=[\"documents\", \"distances\"],\n",
    "    n_results=2,\n",
    "    )\n",
    "\n",
    "context_t14 = '\\n'.join(results['documents'][0])\n",
    "context_n03 = '\\n'.join(results['documents'][1])"
   ]
  },
  {
   "cell_type": "code",
   "execution_count": 53,
   "metadata": {},
   "outputs": [
    {
     "data": {
      "text/plain": [
       "{'ids': [['8197', '6623'], ['8197', '74670']],\n",
       " 'distances': [[0.38070543457315864, 0.41135043590538667],\n",
       "  [0.3556204066343326, 0.3985895845341134]],\n",
       " 'metadatas': None,\n",
       " 'embeddings': None,\n",
       " 'documents': [['Beginning with that initiative, six editions of the AJCC Staging Manual have been published, in which careful deﬁ nitions of the primary tumor (T), the status of the surrounding lymph nodes (N), and the presence of distant ANATOMIC STAGE/PROGNOSTIC GROUPS Stage 0 Tis N0 M0 Stage IA T1 * N0 M0 Stage IB T0 N1mi M0 T1 * N1mi M0 Stage IIA T0 N1 ** M0 T1 * N1 ** M0 T2 N0 M0 Stage IIB T2 N1 M0 T3 N0 M0 Stage IIIA T0 N2 M0 T1 * N2 M0 T2 N2 M0 T3 N1 M0 T3 N2 M0 Stage IIIB T4 N0 M0 T4 N1 M0 T4 N2 M0 Stage IIIC Any T N3 M0 Stage IV Any T Any N M1 ICD-O-3 TOPOGRAPHY CODES C50.0 Nipple C50.1 Central portion of breast C50.2 Upper inner quadrant of breast C50.3 Lower inner quadrant of breast C50.4 Upper outer quadrant of breast C50.5 Lower outer quadrant of breast C50.6 Axillary tail of breast C50.8 Overlapping lesion of breast C50.9 Breast, NOS ICD-O-3 HISTOLOGY CODE RANGES 8000–8576, 8940–8950, 8980–8981, 9020 Notes: * T1 includes T1mi. ** T0 and T1 tumors with nodal micrometastases only are excluded from Stage IIA and are classiﬁ ed Stage IB. ● M0 includes M0(i+). ● The designation pM0 is not valid; any M0 should be clinical. ● If a patient presents with M1 prior to neoadjuvant systemic therapy, the stage is considered stage IV and remains stage IV regardless of response to neoadjuvant therapy.',\n",
       "   'The registrars are requested to describe how they deﬁ ned response [by physical examination, imaging tech- niques (mammogram, ultrasound, magnetic resonance imaging (MRI)) or pathologically] ● Patients will be considered to have M1 (and therefore Stage IV) breast cancer if they have had clinically or radiographically detectable metastases, with or without biopsy, prior to neoadjuvant systemic therapy, regardless of their status after neoadjuvant systemic therapy In order to view this proof accurately, the Overprint Preview Option must be set to Always in Acrobat Professional or Adobe Reader. Please contact your Customer Service Representative if you have questions about finding this option. Job Name: -- /381449t Breast 349 32 INTRODUCTION This staging system for carcinoma of the breast applies to inva- sive (also designated inﬁ ltrating) as well as in situ carcinomas, with or without microinvasion. Microscopic conﬁ rmation of the diagnosis is mandatory, and the histologic type and grade of carcinoma should be recorded. For all sites (T, N, M), clinical staging (c) is determined using information identiﬁ ed prior to surgery or neoadjuvant therapy. Pathologic staging (p) includes information deﬁ ned at surgery. With neoadju- vant therapy a posttherapy pathologic staging is recorded using the “yp” designator. The year 2009 marks the 50th anniversary of codiﬁ ca- tion of tumor staging into the TNM system by the Ameri- can Joint Committee on Cancer (AJCC; originally designated the American Joint Committee for Cancer Staging and End- Results Reporting).'],\n",
       "  ['Beginning with that initiative, six editions of the AJCC Staging Manual have been published, in which careful deﬁ nitions of the primary tumor (T), the status of the surrounding lymph nodes (N), and the presence of distant ANATOMIC STAGE/PROGNOSTIC GROUPS Stage 0 Tis N0 M0 Stage IA T1 * N0 M0 Stage IB T0 N1mi M0 T1 * N1mi M0 Stage IIA T0 N1 ** M0 T1 * N1 ** M0 T2 N0 M0 Stage IIB T2 N1 M0 T3 N0 M0 Stage IIIA T0 N2 M0 T1 * N2 M0 T2 N2 M0 T3 N1 M0 T3 N2 M0 Stage IIIB T4 N0 M0 T4 N1 M0 T4 N2 M0 Stage IIIC Any T N3 M0 Stage IV Any T Any N M1 ICD-O-3 TOPOGRAPHY CODES C50.0 Nipple C50.1 Central portion of breast C50.2 Upper inner quadrant of breast C50.3 Lower inner quadrant of breast C50.4 Upper outer quadrant of breast C50.5 Lower outer quadrant of breast C50.6 Axillary tail of breast C50.8 Overlapping lesion of breast C50.9 Breast, NOS ICD-O-3 HISTOLOGY CODE RANGES 8000–8576, 8940–8950, 8980–8981, 9020 Notes: * T1 includes T1mi. ** T0 and T1 tumors with nodal micrometastases only are excluded from Stage IIA and are classiﬁ ed Stage IB. ● M0 includes M0(i+). ● The designation pM0 is not valid; any M0 should be clinical. ● If a patient presents with M1 prior to neoadjuvant systemic therapy, the stage is considered stage IV and remains stage IV regardless of response to neoadjuvant therapy.',\n",
       "   'The M category for patients treated with neoadjuvant therapy is the category assigned in the clinical stage, prior to initiation of neoadjuvant therapy. Identiﬁ cation of distant metastases after the start of therapy in cases where pretherapy evaluation showed no metastases is considered progression of disease. If a patient was designated to have detectable distant metastases (M1) before chemother- apy, the patient will be designated as M1 throughout. ANATOMIC STAGE/PROGNOSTIC GROUPS Stage 0 Tis N0 M0 Stage IA T1 * N0 M0 Stage IB T0 N1mi M0 T1 * N1mi M0 Stage IIA T0 N1 ** M0 T1 * N1 ** M0 T2 N0 M0 Stage IIB T2 N1 M0 T3 N0 M0 Stage IIIA T0 N2 M0 T1 * N2 M0 T2 N2 M0 T3 N1 M0 T3 N2 M0 Stage IIIB T4 N0 M0 T4 N1 M0 T4 N2 M0 Stage IIIC Any T N3 M0 Stage IV Any T Any N M1 In order to view this proof accurately, the Overprint Preview Option must be set to Always in Acrobat Professional or Adobe Reader. Please contact your Customer Service Representative if you have questions about finding this option. Job Name: -- /381449t Breast 361 32 Notes: * T1 includes T1mi. ** T0 and T1 tumors with nodal micrometastases only are excluded from Stage IIA and are classiﬁ ed Stage IB. ● M0 includes M0(i+). ● The designation pM0 is not valid; any M0 should be clinical. ● If a patient presents with M1 prior to neoadjuvant systemic therapy, the stage is considered Stage IV and remains Stage IV regardless of response to neoadjuvant therapy.']],\n",
       " 'uris': None,\n",
       " 'data': None,\n",
       " 'included': ['documents', 'distances']}"
      ]
     },
     "execution_count": 53,
     "metadata": {},
     "output_type": "execute_result"
    }
   ],
   "source": [
    "results"
   ]
  },
  {
   "cell_type": "code",
   "execution_count": 54,
   "metadata": {},
   "outputs": [
    {
     "name": "stdout",
     "output_type": "stream",
     "text": [
      "Beginning with that initiative, six editions of the AJCC Staging Manual have been published, in which careful deﬁ nitions of the primary tumor (T), the status of the surrounding lymph nodes (N), and the presence of distant ANATOMIC STAGE/PROGNOSTIC GROUPS Stage 0 Tis N0 M0 Stage IA T1 * N0 M0 Stage IB T0 N1mi M0 T1 * N1mi M0 Stage IIA T0 N1 ** M0 T1 * N1 ** M0 T2 N0 M0 Stage IIB T2 N1 M0 T3 N0 M0 Stage IIIA T0 N2 M0 T1 * N2 M0 T2 N2 M0 T3 N1 M0 T3 N2 M0 Stage IIIB T4 N0 M0 T4 N1 M0 T4 N2 M0 Stage IIIC Any T N3 M0 Stage IV Any T Any N M1 ICD-O-3 TOPOGRAPHY CODES C50.0 Nipple C50.1 Central portion of breast C50.2 Upper inner quadrant of breast C50.3 Lower inner quadrant of breast C50.4 Upper outer quadrant of breast C50.5 Lower outer quadrant of breast C50.6 Axillary tail of breast C50.8 Overlapping lesion of breast C50.9 Breast, NOS ICD-O-3 HISTOLOGY CODE RANGES 8000–8576, 8940–8950, 8980–8981, 9020 Notes: * T1 includes T1mi. ** T0 and T1 tumors with nodal micrometastases only are excluded from Stage IIA and are classiﬁ ed Stage IB. ● M0 includes M0(i+). ● The designation pM0 is not valid; any M0 should be clinical. ● If a patient presents with M1 prior to neoadjuvant systemic therapy, the stage is considered stage IV and remains stage IV regardless of response to neoadjuvant therapy.\n",
      "The registrars are requested to describe how they deﬁ ned response [by physical examination, imaging tech- niques (mammogram, ultrasound, magnetic resonance imaging (MRI)) or pathologically] ● Patients will be considered to have M1 (and therefore Stage IV) breast cancer if they have had clinically or radiographically detectable metastases, with or without biopsy, prior to neoadjuvant systemic therapy, regardless of their status after neoadjuvant systemic therapy In order to view this proof accurately, the Overprint Preview Option must be set to Always in Acrobat Professional or Adobe Reader. Please contact your Customer Service Representative if you have questions about finding this option. Job Name: -- /381449t Breast 349 32 INTRODUCTION This staging system for carcinoma of the breast applies to inva- sive (also designated inﬁ ltrating) as well as in situ carcinomas, with or without microinvasion. Microscopic conﬁ rmation of the diagnosis is mandatory, and the histologic type and grade of carcinoma should be recorded. For all sites (T, N, M), clinical staging (c) is determined using information identiﬁ ed prior to surgery or neoadjuvant therapy. Pathologic staging (p) includes information deﬁ ned at surgery. With neoadju- vant therapy a posttherapy pathologic staging is recorded using the “yp” designator. The year 2009 marks the 50th anniversary of codiﬁ ca- tion of tumor staging into the TNM system by the Ameri- can Joint Committee on Cancer (AJCC; originally designated the American Joint Committee for Cancer Staging and End- Results Reporting).\n",
      "\n",
      "Beginning with that initiative, six editions of the AJCC Staging Manual have been published, in which careful deﬁ nitions of the primary tumor (T), the status of the surrounding lymph nodes (N), and the presence of distant ANATOMIC STAGE/PROGNOSTIC GROUPS Stage 0 Tis N0 M0 Stage IA T1 * N0 M0 Stage IB T0 N1mi M0 T1 * N1mi M0 Stage IIA T0 N1 ** M0 T1 * N1 ** M0 T2 N0 M0 Stage IIB T2 N1 M0 T3 N0 M0 Stage IIIA T0 N2 M0 T1 * N2 M0 T2 N2 M0 T3 N1 M0 T3 N2 M0 Stage IIIB T4 N0 M0 T4 N1 M0 T4 N2 M0 Stage IIIC Any T N3 M0 Stage IV Any T Any N M1 ICD-O-3 TOPOGRAPHY CODES C50.0 Nipple C50.1 Central portion of breast C50.2 Upper inner quadrant of breast C50.3 Lower inner quadrant of breast C50.4 Upper outer quadrant of breast C50.5 Lower outer quadrant of breast C50.6 Axillary tail of breast C50.8 Overlapping lesion of breast C50.9 Breast, NOS ICD-O-3 HISTOLOGY CODE RANGES 8000–8576, 8940–8950, 8980–8981, 9020 Notes: * T1 includes T1mi. ** T0 and T1 tumors with nodal micrometastases only are excluded from Stage IIA and are classiﬁ ed Stage IB. ● M0 includes M0(i+). ● The designation pM0 is not valid; any M0 should be clinical. ● If a patient presents with M1 prior to neoadjuvant systemic therapy, the stage is considered stage IV and remains stage IV regardless of response to neoadjuvant therapy.\n",
      "The M category for patients treated with neoadjuvant therapy is the category assigned in the clinical stage, prior to initiation of neoadjuvant therapy. Identiﬁ cation of distant metastases after the start of therapy in cases where pretherapy evaluation showed no metastases is considered progression of disease. If a patient was designated to have detectable distant metastases (M1) before chemother- apy, the patient will be designated as M1 throughout. ANATOMIC STAGE/PROGNOSTIC GROUPS Stage 0 Tis N0 M0 Stage IA T1 * N0 M0 Stage IB T0 N1mi M0 T1 * N1mi M0 Stage IIA T0 N1 ** M0 T1 * N1 ** M0 T2 N0 M0 Stage IIB T2 N1 M0 T3 N0 M0 Stage IIIA T0 N2 M0 T1 * N2 M0 T2 N2 M0 T3 N1 M0 T3 N2 M0 Stage IIIB T4 N0 M0 T4 N1 M0 T4 N2 M0 Stage IIIC Any T N3 M0 Stage IV Any T Any N M1 In order to view this proof accurately, the Overprint Preview Option must be set to Always in Acrobat Professional or Adobe Reader. Please contact your Customer Service Representative if you have questions about finding this option. Job Name: -- /381449t Breast 361 32 Notes: * T1 includes T1mi. ** T0 and T1 tumors with nodal micrometastases only are excluded from Stage IIA and are classiﬁ ed Stage IB. ● M0 includes M0(i+). ● The designation pM0 is not valid; any M0 should be clinical. ● If a patient presents with M1 prior to neoadjuvant systemic therapy, the stage is considered Stage IV and remains Stage IV regardless of response to neoadjuvant therapy.\n"
     ]
    }
   ],
   "source": [
    "print(context_t14)\n",
    "print()\n",
    "print(context_n03)"
   ]
  },
  {
   "cell_type": "code",
   "execution_count": 60,
   "metadata": {},
   "outputs": [],
   "source": [
    "ltm_rag1_t14 = agent(rule_generator_prompt.format(context=context_t14, question=main_query_t14))\n",
    "ltm_rag1_n03 = agent(rule_generator_prompt.format(context=context_n03, question=main_query_n03))"
   ]
  },
  {
   "cell_type": "code",
   "execution_count": 61,
   "metadata": {},
   "outputs": [
    {
     "name": "stdout",
     "output_type": "stream",
     "text": [
      " Sure, based on the AJCC's TNM Staging System for breast cancer, here are some general rules to help predict the T stage:\n",
      "\n",
      "1. T1: This stage includes invasive breast carcinomas that are 2 cm or less in size. This can be further divided into T1mi (microinvasion 0.1 cm or less), T1a (0.1 cm but less than 0.5 cm in size), T1b (0.5 cm but less than 1 cm in size), and T1c (1 cm but less than 2 cm in size).\n",
      "\n",
      "2. T2: This stage includes invasive breast carcinomas that are more than 2 cm but not more than 5 cm in size.\n",
      "\n",
      "3. T3: This stage includes invasive breast carcinomas that are more than 5 cm in size. It also includes tumors of any size with direct extension to the chest wall or skin.\n",
      "\n",
      "4. T4: This stage includes invasive breast carcinomas that have spread to the chest wall and/or the skin, resulting in ulceration (T4b) or satellite nodules (T4c), or inflammatory carcinoma (T4d). \n",
      "\n",
      "Please note that these are general rules and the actual T stage should be determined by a healthcare professional based on a variety of factors, including clinical examination, imaging studies, and pathological findings.\n",
      "\n",
      " Based on the provided context of the AJCC's TNM Staging System for breast cancer, here are the general rules to help predict the N stage:\n",
      "\n",
      "N0: \n",
      "If there are no positive lymph nodes in the axillary area, the N stage is N0. This means that the cancer has not spread to the lymph nodes.\n",
      "\n",
      "N1: \n",
      "1. If there are metastases to 1-3 axillary lymph nodes, or if there is a micrometastasis (size 0.2-2.0 mm) in a sentinel lymph node, the N stage is N1mi.\n",
      "2. If there are metastases to 1-3 axillary lymph nodes, with at least one tumor deposit greater than 2 mm, the N stage is N1.\n",
      "\n",
      "N2: \n",
      "If there are metastases to 4-9 axillary lymph nodes, or if there are clinically detected metastases to internal mammary lymph nodes in the absence of axillary metastases, the N stage is N2.\n",
      "\n",
      "N3: \n",
      "If there are metastases to 10 or more axillary lymph nodes, or if there are clinically detected metastases to ipsilateral internal mammary nodes in the presence of 1 or more positive axillary lymph nodes, or if there are clinically detected metastases to the ipsilateral supraclavicular lymph nodes, the N stage is N3.\n",
      "\n",
      "Additional notes:\n",
      "- T1 includes T1mi: This means that T1 tumors can include T1mi (microinvasive) tumors, which are 0.1 mm or greater in greatest dimension with stromal invasion 0.1 mm or more in length, not more than 1 mm in total.\n",
      "- T0 and T1 tumors with nodal micrometastases only are excluded from Stage IIA and are classified as Stage IB.\n",
      "- M0 includes M0(i+): This means that M0 (no distant metastasis) can include M0(i+) (microscopic residual tumor in a node or lesion that is not clinically apparent).\n",
      "- The designation pM0 is not valid; any M0 should be clinical. This means that the pathological designation pM0 (no microscopic evidence of distant metastasis) is not used; instead, the clinical designation M0 (no distant metastasis) should be used.\n",
      "- If a patient presents with M1 prior to neoadjuvant systemic therapy, the stage is considered stage IV and remains stage IV regardless of response to neoadjuvant therapy. This means that if distant metastases are detected before neoadjuvant systemic therapy, the patient will be classified as stage IV, and this stage will not change even if the therapy is successful.\n"
     ]
    }
   ],
   "source": [
    "print(ltm_rag1_t14)\n",
    "print()\n",
    "print(ltm_rag1_n03)"
   ]
  },
  {
   "cell_type": "code",
   "execution_count": 64,
   "metadata": {},
   "outputs": [
    {
     "name": "stdout",
     "output_type": "stream",
     "text": [
      " Sure, here are the general rules to predict the T stage for breast cancer based on the AJCC's TNM Staging System:\n",
      "\n",
      "1. T1 Stage:\n",
      "   - A tumor is ≤ 20 millimeters (mm) in greatest dimension. This includes tumors that are 20 mm or less in size with microinvasion (T1mi). \n",
      "   Supporting text: \"T1: Tumor ≤ 20 millimeters in greatest dimension.\"\n",
      "\n",
      "2. T2 Stage:\n",
      "   - A tumor is > 20 mm and ≤ 50 mm in greatest dimension.\n",
      "   Supporting text: \"T2: Tumor > 20 millimeters but ≤ 50 millimeters in greatest dimension.\"\n",
      "\n",
      "3. T3 Stage:\n",
      "   - A tumor is > 50 mm in greatest dimension.\n",
      "   Supporting text: \"T3: Tumor > 50 millimeters in greatest dimension.\"\n",
      "   OR\n",
      "   - The tumor has grown into the chest wall.\n",
      "   Supporting text: \"T3: Tumor of any size with direct extension to the chest wall.\"\n",
      "\n",
      "4. T4 Stage:\n",
      "   - The tumor has grown into the chest wall and the skin, with or without an ulcer (includes inflammatory carcinoma).\n",
      "   Supporting text: \"T4a: Tumor of any size with extension to the chest wall.\"\n",
      "   \"T4b: Inflammatory carcinoma.\"\n",
      "   OR\n",
      "   - There is fixation of the skin to the breast tissue.\n",
      "   Supporting text: \"T4c: Tumor of any size with fixation of the skin to the breast tissue.\"\n",
      "   OR\n",
      "   - The tumor has grown into the breast skin and there is an ulcer on the skin.\n",
      "   Supporting text: \"T4d: Inflammatory carcinoma.\"\n",
      "\n",
      "Please note that these rules are based on the clinical staging (c) which is determined using information identified prior to surgery or neoadjuvant therapy.\n"
     ]
    }
   ],
   "source": [
    "print(agent(rule_generator_prompt_debug.format(context=context_t14, question=main_query_t14)))\n"
   ]
  },
  {
   "cell_type": "code",
   "execution_count": 68,
   "metadata": {},
   "outputs": [
    {
     "name": "stdout",
     "output_type": "stream",
     "text": [
      " Yes, these rules accurately describe the T classification system for breast cancer staging as defined by the American Joint Committee on Cancer (AJCC). This system is used to describe the size and extent of the primary tumor and is a component of the overall stage grouping for breast cancer.\n",
      "\n",
      "* T1: Tumor is 2 cm or less in size\n",
      "\t+ T1mi: Microinvasion 0.1 cm or less\n",
      "\t+ T1a: Tumor is 0.1 cm but less than 0.5 cm in size\n",
      "\t+ T1b: Tumor is 0.5 cm but less than 1 cm in size\n",
      "\t+ T1c: Tumor is 1 cm but less than 2 cm in size\n",
      "* T2: Tumor is more than 2 cm but not more than 5 cm in size\n",
      "* T3: Tumor is more than 5 cm in size or tumor of any size with direct extension to the chest wall or skin\n",
      "* T4: Tumor has spread to the chest wall and/or the skin, resulting in ulceration (T4b) or satellite nodules (T4c), or inflammatory carcinoma (T4d)\n",
      "\n",
      "It is important to note that this is just one component of the overall staging system and that the final stage is determined by the combination of T, N (lymph node involvement), and M (distant metastasis) categories.\n"
     ]
    }
   ],
   "source": [
    "query = '''Do you think the following rules are all correct?\n",
    "\n",
    "\n",
    "\n",
    "1. T1: This stage includes invasive breast carcinomas that are 2 cm or less in size. This can be further divided into T1mi (microinvasion 0.1 cm or less), T1a (0.1 cm but less than 0.5 cm in size), T1b (0.5 cm but less than 1 cm in size), and T1c (1 cm but less than 2 cm in size).\n",
    "\n",
    "2. T2: This stage includes invasive breast carcinomas that are more than 2 cm but not more than 5 cm in size.\n",
    "\n",
    "3. T3: This stage includes invasive breast carcinomas that are more than 5 cm in size. It also includes tumors of any size with direct extension to the chest wall or skin.\n",
    "\n",
    "4. T4: This stage includes invasive breast carcinomas that have spread to the chest wall and/or the skin, resulting in ulceration (T4b) or satellite nodules (T4c), or inflammatory carcinoma (T4d). \n",
    "'''\n",
    "print(agent(query))"
   ]
  },
  {
   "cell_type": "markdown",
   "metadata": {},
   "source": [
    "## 3. ltm_rag2"
   ]
  },
  {
   "cell_type": "code",
   "execution_count": 69,
   "metadata": {},
   "outputs": [],
   "source": [
    "query_decomposer_prompt = \"\"\"\n",
    "You are a helpful assistant that decomposes an input query into multiple sub-queries.\n",
    "Your goal is to break down the input into a set of specific sub-questions that can be answered individually to cover the full scope of the original question.\n",
    "\n",
    "Generate at least 5 sub-queries related to the following input query: {question}\n",
    "\n",
    "\"\"\"\n",
    "rule_generator_prompt = \"\"\"\n",
    "You are a helpful assistant. Based on the provided context, answer the question.\n",
    "\n",
    "Context:\n",
    "{context}\n",
    "\n",
    "Question:\n",
    "{question}\n",
    "\"\"\""
   ]
  },
  {
   "cell_type": "code",
   "execution_count": 71,
   "metadata": {},
   "outputs": [
    {
     "name": "stdout",
     "output_type": "stream",
     "text": [
      " 1. What are the general rules for determining T1 stage in the AJCC's TNM Staging System for breast cancer?\n",
      "2. What are the specific criteria for classifying a breast cancer tumor as T1mi in the AJCC's TNM Staging System?\n",
      "3. What are the criteria for classifying a breast cancer tumor as T1a, T1b, or T1c in the AJCC's TNM Staging System?\n",
      "4. What are the general rules for determining T2 stage in the AJCC's TNM Staging System for breast cancer?\n",
      "5. What are the specific criteria for classifying a breast cancer tumor as T2a, T2b, or T2c in the AJCC's TNM Staging System?\n",
      "6. What are the general rules for determining T3 stage in the AJCC's TNM Staging System for breast cancer?\n",
      "7. What are the specific criteria for classifying a breast cancer tumor as T3a or T3b in the AJCC's TNM Staging System?\n",
      "8. What are the general rules for determining T4 stage in the AJCC's TNM Staging System for breast cancer?\n",
      "9. What are the specific criteria for classifying a breast cancer tumor as T4a, T4b, T4c, or T4d in the AJCC's TNM Staging System?\n",
      "10. How does the size of the primary tumor affect the T stage classification in the AJCC's TNM Staging System for breast cancer?\n",
      "11. How does the invasion of the primary tumor into the surrounding tissues affect the T stage classification in the AJCC's TNM Staging System for breast cancer?\n",
      "12. How does the presence of inflammatory breast cancer affect the T stage classification in the AJCC's TNM Staging System for breast cancer?\n"
     ]
    }
   ],
   "source": [
    "answer = agent(query_decomposer_prompt.format(question=main_query_t14))\n",
    "print(answer)"
   ]
  },
  {
   "cell_type": "code",
   "execution_count": 72,
   "metadata": {},
   "outputs": [
    {
     "data": {
      "text/plain": [
       "[\"1. What are the general rules for determining T1 stage in the AJCC's TNM Staging System for breast cancer?\",\n",
       " \"2. What are the specific criteria for classifying a breast cancer tumor as T1mi in the AJCC's TNM Staging System?\",\n",
       " \"3. What are the criteria for classifying a breast cancer tumor as T1a, T1b, or T1c in the AJCC's TNM Staging System?\",\n",
       " \"4. What are the general rules for determining T2 stage in the AJCC's TNM Staging System for breast cancer?\",\n",
       " \"5. What are the specific criteria for classifying a breast cancer tumor as T2a, T2b, or T2c in the AJCC's TNM Staging System?\",\n",
       " \"6. What are the general rules for determining T3 stage in the AJCC's TNM Staging System for breast cancer?\",\n",
       " \"7. What are the specific criteria for classifying a breast cancer tumor as T3a or T3b in the AJCC's TNM Staging System?\",\n",
       " \"8. What are the general rules for determining T4 stage in the AJCC's TNM Staging System for breast cancer?\",\n",
       " \"9. What are the specific criteria for classifying a breast cancer tumor as T4a, T4b, T4c, or T4d in the AJCC's TNM Staging System?\",\n",
       " \"10. How does the size of the primary tumor affect the T stage classification in the AJCC's TNM Staging System for breast cancer?\",\n",
       " \"11. How does the invasion of the primary tumor into the surrounding tissues affect the T stage classification in the AJCC's TNM Staging System for breast cancer?\",\n",
       " \"12. How does the presence of inflammatory breast cancer affect the T stage classification in the AJCC's TNM Staging System for breast cancer?\"]"
      ]
     },
     "execution_count": 72,
     "metadata": {},
     "output_type": "execute_result"
    }
   ],
   "source": [
    "subqueries = answer.split(\"\\n\")\n",
    "subqueries = [subquery.strip() for subquery in subqueries]\n",
    "subqueries"
   ]
  },
  {
   "cell_type": "code",
   "execution_count": 73,
   "metadata": {},
   "outputs": [
    {
     "name": "stderr",
     "output_type": "stream",
     "text": [
      "/home/yl3427/.cache/huggingface/modules/transformers_modules/nvidia/NV-Embed-v2/26db444e203771ea231d32a795344655e1119d40/modeling_nvembed.py:349: UserWarning: To copy construct from a tensor, it is recommended to use sourceTensor.clone().detach() or sourceTensor.clone().detach().requires_grad_(True), rather than torch.tensor(sourceTensor).\n",
      "  'input_ids': torch.tensor(batch_dict.get('input_ids').to(batch_dict.get('input_ids')).long()),\n",
      "/home/yl3427/miniconda3/envs/vllm_env/lib/python3.9/site-packages/torch/backends/cuda/__init__.py:342: FutureWarning: torch.backends.cuda.sdp_kernel() is deprecated. In the future, this context manager will be removed. Please see, torch.nn.attention.sdpa_kernel() for the new context manager, with updated signature.\n",
      "  warnings.warn(\n"
     ]
    },
    {
     "data": {
      "text/plain": [
       "{'ids': [['6623', '8197'],\n",
       "  ['97158', '6623'],\n",
       "  ['8197', '6623'],\n",
       "  ['6623', '11287'],\n",
       "  ['8197', '11287'],\n",
       "  ['6623', '8197'],\n",
       "  ['8197', '6623'],\n",
       "  ['6623', '8197'],\n",
       "  ['6623', '8197'],\n",
       "  ['11287', '8197'],\n",
       "  ['6623', '11287'],\n",
       "  ['6623', '8197']],\n",
       " 'distances': [[0.4259810183578404, 0.4446615432751976],\n",
       "  [0.3797847552285173, 0.41548979680414433],\n",
       "  [0.4219770116622841, 0.4339409677363867],\n",
       "  [0.43351378782912264, 0.4416555910016826],\n",
       "  [0.4478418064480554, 0.4617917987094833],\n",
       "  [0.4195603749285234, 0.4347584469487624],\n",
       "  [0.41844691034768755, 0.4348006217097409],\n",
       "  [0.3937680132930528, 0.43051555261952124],\n",
       "  [0.40607333345345253, 0.41147266619112244],\n",
       "  [0.4189710170968435, 0.4337464643278973],\n",
       "  [0.4179052646973067, 0.4181356717369664],\n",
       "  [0.4292932930949548, 0.4430581417754035]],\n",
       " 'metadatas': [[None, None],\n",
       "  [None, None],\n",
       "  [None, None],\n",
       "  [None, None],\n",
       "  [None, None],\n",
       "  [None, None],\n",
       "  [None, None],\n",
       "  [None, None],\n",
       "  [None, None],\n",
       "  [None, None],\n",
       "  [None, None],\n",
       "  [None, None]],\n",
       " 'embeddings': None,\n",
       " 'documents': [['The registrars are requested to describe how they deﬁ ned response [by physical examination, imaging tech- niques (mammogram, ultrasound, magnetic resonance imaging (MRI)) or pathologically] ● Patients will be considered to have M1 (and therefore Stage IV) breast cancer if they have had clinically or radiographically detectable metastases, with or without biopsy, prior to neoadjuvant systemic therapy, regardless of their status after neoadjuvant systemic therapy In order to view this proof accurately, the Overprint Preview Option must be set to Always in Acrobat Professional or Adobe Reader. Please contact your Customer Service Representative if you have questions about finding this option. Job Name: -- /381449t Breast 349 32 INTRODUCTION This staging system for carcinoma of the breast applies to inva- sive (also designated inﬁ ltrating) as well as in situ carcinomas, with or without microinvasion. Microscopic conﬁ rmation of the diagnosis is mandatory, and the histologic type and grade of carcinoma should be recorded. For all sites (T, N, M), clinical staging (c) is determined using information identiﬁ ed prior to surgery or neoadjuvant therapy. Pathologic staging (p) includes information deﬁ ned at surgery. With neoadju- vant therapy a posttherapy pathologic staging is recorded using the “yp” designator. The year 2009 marks the 50th anniversary of codiﬁ ca- tion of tumor staging into the TNM system by the Ameri- can Joint Committee on Cancer (AJCC; originally designated the American Joint Committee for Cancer Staging and End- Results Reporting).',\n",
       "   'Beginning with that initiative, six editions of the AJCC Staging Manual have been published, in which careful deﬁ nitions of the primary tumor (T), the status of the surrounding lymph nodes (N), and the presence of distant ANATOMIC STAGE/PROGNOSTIC GROUPS Stage 0 Tis N0 M0 Stage IA T1 * N0 M0 Stage IB T0 N1mi M0 T1 * N1mi M0 Stage IIA T0 N1 ** M0 T1 * N1 ** M0 T2 N0 M0 Stage IIB T2 N1 M0 T3 N0 M0 Stage IIIA T0 N2 M0 T1 * N2 M0 T2 N2 M0 T3 N1 M0 T3 N2 M0 Stage IIIB T4 N0 M0 T4 N1 M0 T4 N2 M0 Stage IIIC Any T N3 M0 Stage IV Any T Any N M1 ICD-O-3 TOPOGRAPHY CODES C50.0 Nipple C50.1 Central portion of breast C50.2 Upper inner quadrant of breast C50.3 Lower inner quadrant of breast C50.4 Upper outer quadrant of breast C50.5 Lower outer quadrant of breast C50.6 Axillary tail of breast C50.8 Overlapping lesion of breast C50.9 Breast, NOS ICD-O-3 HISTOLOGY CODE RANGES 8000–8576, 8940–8950, 8980–8981, 9020 Notes: * T1 includes T1mi. ** T0 and T1 tumors with nodal micrometastases only are excluded from Stage IIA and are classiﬁ ed Stage IB. ● M0 includes M0(i+). ● The designation pM0 is not valid; any M0 should be clinical. ● If a patient presents with M1 prior to neoadjuvant systemic therapy, the stage is considered stage IV and remains stage IV regardless of response to neoadjuvant therapy.'],\n",
       "  ['The AJCC Cancer Staging Manual has traditionally grouped breast cancer cases with exclusively nodal micrometastases (pN1mi) as having the same prognostic signiﬁ cance as mac- rometastases with respect to assigning an overall stage group- ing based on T, N, and M categorical classiﬁ cations. A recent analysis of data in the United States Surveillance, Epidemi- ology, and End Results (SEER) national cancer database has demonstrated that when nodal tumor deposits no larger than 2.0 mm are the only ﬁ nding in lymph nodes and the primary tumor is less than or equal to 2 cm (pT1) the incremental decrease in survival at 5 and 10 years was only 1% compared In order to view this proof accurately, the Overprint Preview Option must be set to Always in Acrobat Professional or Adobe Reader. Please contact your Customer Service Representative if you have questions about finding this option. Job Name: -- /381449t Breast 365 32 to patients with no nodal metastases detected. 47 Patients with tumors no larger than 2.0 cm (T1) represented 70% of the total population in the analysis, and in this subset calculated 10-year survival decreased from 78% to 77% to 73% for pN0, pN1mi, and pN1a, respectively. This does not justify classify- ing pN1mi cases with Stage II tumors. This analysis included data from 1992 to 2003 spanning the introduction and wide- spread adoption of sentinel lymph node biopsy. In this edi- tion of the manual, T1 tumors with nodal micrometastases (pN1mi) will be classiﬁ ed as Stage IB to indicate the better prognosis for the subset of breast cancer patients and to facili- tate further investigation. How should RT-PCR be classiﬁ ed in the detection of nodal tumor deposits?',\n",
       "   'The registrars are requested to describe how they deﬁ ned response [by physical examination, imaging tech- niques (mammogram, ultrasound, magnetic resonance imaging (MRI)) or pathologically] ● Patients will be considered to have M1 (and therefore Stage IV) breast cancer if they have had clinically or radiographically detectable metastases, with or without biopsy, prior to neoadjuvant systemic therapy, regardless of their status after neoadjuvant systemic therapy In order to view this proof accurately, the Overprint Preview Option must be set to Always in Acrobat Professional or Adobe Reader. Please contact your Customer Service Representative if you have questions about finding this option. Job Name: -- /381449t Breast 349 32 INTRODUCTION This staging system for carcinoma of the breast applies to inva- sive (also designated inﬁ ltrating) as well as in situ carcinomas, with or without microinvasion. Microscopic conﬁ rmation of the diagnosis is mandatory, and the histologic type and grade of carcinoma should be recorded. For all sites (T, N, M), clinical staging (c) is determined using information identiﬁ ed prior to surgery or neoadjuvant therapy. Pathologic staging (p) includes information deﬁ ned at surgery. With neoadju- vant therapy a posttherapy pathologic staging is recorded using the “yp” designator. The year 2009 marks the 50th anniversary of codiﬁ ca- tion of tumor staging into the TNM system by the Ameri- can Joint Committee on Cancer (AJCC; originally designated the American Joint Committee for Cancer Staging and End- Results Reporting).'],\n",
       "  ['Beginning with that initiative, six editions of the AJCC Staging Manual have been published, in which careful deﬁ nitions of the primary tumor (T), the status of the surrounding lymph nodes (N), and the presence of distant ANATOMIC STAGE/PROGNOSTIC GROUPS Stage 0 Tis N0 M0 Stage IA T1 * N0 M0 Stage IB T0 N1mi M0 T1 * N1mi M0 Stage IIA T0 N1 ** M0 T1 * N1 ** M0 T2 N0 M0 Stage IIB T2 N1 M0 T3 N0 M0 Stage IIIA T0 N2 M0 T1 * N2 M0 T2 N2 M0 T3 N1 M0 T3 N2 M0 Stage IIIB T4 N0 M0 T4 N1 M0 T4 N2 M0 Stage IIIC Any T N3 M0 Stage IV Any T Any N M1 ICD-O-3 TOPOGRAPHY CODES C50.0 Nipple C50.1 Central portion of breast C50.2 Upper inner quadrant of breast C50.3 Lower inner quadrant of breast C50.4 Upper outer quadrant of breast C50.5 Lower outer quadrant of breast C50.6 Axillary tail of breast C50.8 Overlapping lesion of breast C50.9 Breast, NOS ICD-O-3 HISTOLOGY CODE RANGES 8000–8576, 8940–8950, 8980–8981, 9020 Notes: * T1 includes T1mi. ** T0 and T1 tumors with nodal micrometastases only are excluded from Stage IIA and are classiﬁ ed Stage IB. ● M0 includes M0(i+). ● The designation pM0 is not valid; any M0 should be clinical. ● If a patient presents with M1 prior to neoadjuvant systemic therapy, the stage is considered stage IV and remains stage IV regardless of response to neoadjuvant therapy.',\n",
       "   'The registrars are requested to describe how they deﬁ ned response [by physical examination, imaging tech- niques (mammogram, ultrasound, magnetic resonance imaging (MRI)) or pathologically] ● Patients will be considered to have M1 (and therefore Stage IV) breast cancer if they have had clinically or radiographically detectable metastases, with or without biopsy, prior to neoadjuvant systemic therapy, regardless of their status after neoadjuvant systemic therapy In order to view this proof accurately, the Overprint Preview Option must be set to Always in Acrobat Professional or Adobe Reader. Please contact your Customer Service Representative if you have questions about finding this option. Job Name: -- /381449t Breast 349 32 INTRODUCTION This staging system for carcinoma of the breast applies to inva- sive (also designated inﬁ ltrating) as well as in situ carcinomas, with or without microinvasion. Microscopic conﬁ rmation of the diagnosis is mandatory, and the histologic type and grade of carcinoma should be recorded. For all sites (T, N, M), clinical staging (c) is determined using information identiﬁ ed prior to surgery or neoadjuvant therapy. Pathologic staging (p) includes information deﬁ ned at surgery. With neoadju- vant therapy a posttherapy pathologic staging is recorded using the “yp” designator. The year 2009 marks the 50th anniversary of codiﬁ ca- tion of tumor staging into the TNM system by the Ameri- can Joint Committee on Cancer (AJCC; originally designated the American Joint Committee for Cancer Staging and End- Results Reporting).'],\n",
       "  ['The registrars are requested to describe how they deﬁ ned response [by physical examination, imaging tech- niques (mammogram, ultrasound, magnetic resonance imaging (MRI)) or pathologically] ● Patients will be considered to have M1 (and therefore Stage IV) breast cancer if they have had clinically or radiographically detectable metastases, with or without biopsy, prior to neoadjuvant systemic therapy, regardless of their status after neoadjuvant systemic therapy In order to view this proof accurately, the Overprint Preview Option must be set to Always in Acrobat Professional or Adobe Reader. Please contact your Customer Service Representative if you have questions about finding this option. Job Name: -- /381449t Breast 349 32 INTRODUCTION This staging system for carcinoma of the breast applies to inva- sive (also designated inﬁ ltrating) as well as in situ carcinomas, with or without microinvasion. Microscopic conﬁ rmation of the diagnosis is mandatory, and the histologic type and grade of carcinoma should be recorded. For all sites (T, N, M), clinical staging (c) is determined using information identiﬁ ed prior to surgery or neoadjuvant therapy. Pathologic staging (p) includes information deﬁ ned at surgery. With neoadju- vant therapy a posttherapy pathologic staging is recorded using the “yp” designator. The year 2009 marks the 50th anniversary of codiﬁ ca- tion of tumor staging into the TNM system by the Ameri- can Joint Committee on Cancer (AJCC; originally designated the American Joint Committee for Cancer Staging and End- Results Reporting).',\n",
       "   'The system was generated to reﬂ ect the risk of distant recurrence and death subsequent to local therapy, which at the time was almost universally aggressive surgery (radical mastec- tomy) and postoperative radiation to the chest wall. Therefore, the primary objective of TNM staging was to provide a stan- dard nomenclature for prognosis of patients with newly diag- nosed breast cancer, and its main clinical utility was to prevent apparently futile therapy in those patients who were destined to die rapidly in spite of aggressive local treatments. Over the succeeding decades, remarkable progress has led to (1) less disﬁ guring surgery with modiﬁ ed radical mastectomies and breast conserving therapy, (2) dramatic improvements in the delivery and safety of radiation, (3) the recognition that early (adjuvant) systemic therapy reduces recurrences and mortality, and (4) a better understanding of biologic markers of prognosis, and perhaps more impor- tantly, of prediction of response to selective categories of systemic therapy, such as those targeting cancer cells positive for estrogen receptors (ER) and HER2 overexpression. 2 TNM staging has been used as a guide to select whether to apply systemic therapy based on anatomic prognosis. Increasingly, biologic factors, such as ER and HER2, have become impor- tant to select which therapy to give. These advances raise the questions: Is TNM staging still relevant for breast cancer in the twenty-ﬁ rst century and what, exactly, is the objective of TNM staging for patients with this disease? There are three potential answers to the second question: (1) To permit breast cancer investigators to remain linked to the past, in regards to studying categories of patients that accurately reﬂ ect prior groupings over the last six decades, (2) to permit current investigators in the ﬁ eld to communicate with one another in the same manner, and/ or (3) to improve individual patient care. The AJCC Breast Cancer Task force has struggled with these questions, both for the seventh edition as well as for past editions.'],\n",
       "  ['Beginning with that initiative, six editions of the AJCC Staging Manual have been published, in which careful deﬁ nitions of the primary tumor (T), the status of the surrounding lymph nodes (N), and the presence of distant ANATOMIC STAGE/PROGNOSTIC GROUPS Stage 0 Tis N0 M0 Stage IA T1 * N0 M0 Stage IB T0 N1mi M0 T1 * N1mi M0 Stage IIA T0 N1 ** M0 T1 * N1 ** M0 T2 N0 M0 Stage IIB T2 N1 M0 T3 N0 M0 Stage IIIA T0 N2 M0 T1 * N2 M0 T2 N2 M0 T3 N1 M0 T3 N2 M0 Stage IIIB T4 N0 M0 T4 N1 M0 T4 N2 M0 Stage IIIC Any T N3 M0 Stage IV Any T Any N M1 ICD-O-3 TOPOGRAPHY CODES C50.0 Nipple C50.1 Central portion of breast C50.2 Upper inner quadrant of breast C50.3 Lower inner quadrant of breast C50.4 Upper outer quadrant of breast C50.5 Lower outer quadrant of breast C50.6 Axillary tail of breast C50.8 Overlapping lesion of breast C50.9 Breast, NOS ICD-O-3 HISTOLOGY CODE RANGES 8000–8576, 8940–8950, 8980–8981, 9020 Notes: * T1 includes T1mi. ** T0 and T1 tumors with nodal micrometastases only are excluded from Stage IIA and are classiﬁ ed Stage IB. ● M0 includes M0(i+). ● The designation pM0 is not valid; any M0 should be clinical. ● If a patient presents with M1 prior to neoadjuvant systemic therapy, the stage is considered stage IV and remains stage IV regardless of response to neoadjuvant therapy.',\n",
       "   'The system was generated to reﬂ ect the risk of distant recurrence and death subsequent to local therapy, which at the time was almost universally aggressive surgery (radical mastec- tomy) and postoperative radiation to the chest wall. Therefore, the primary objective of TNM staging was to provide a stan- dard nomenclature for prognosis of patients with newly diag- nosed breast cancer, and its main clinical utility was to prevent apparently futile therapy in those patients who were destined to die rapidly in spite of aggressive local treatments. Over the succeeding decades, remarkable progress has led to (1) less disﬁ guring surgery with modiﬁ ed radical mastectomies and breast conserving therapy, (2) dramatic improvements in the delivery and safety of radiation, (3) the recognition that early (adjuvant) systemic therapy reduces recurrences and mortality, and (4) a better understanding of biologic markers of prognosis, and perhaps more impor- tantly, of prediction of response to selective categories of systemic therapy, such as those targeting cancer cells positive for estrogen receptors (ER) and HER2 overexpression. 2 TNM staging has been used as a guide to select whether to apply systemic therapy based on anatomic prognosis. Increasingly, biologic factors, such as ER and HER2, have become impor- tant to select which therapy to give. These advances raise the questions: Is TNM staging still relevant for breast cancer in the twenty-ﬁ rst century and what, exactly, is the objective of TNM staging for patients with this disease? There are three potential answers to the second question: (1) To permit breast cancer investigators to remain linked to the past, in regards to studying categories of patients that accurately reﬂ ect prior groupings over the last six decades, (2) to permit current investigators in the ﬁ eld to communicate with one another in the same manner, and/ or (3) to improve individual patient care. The AJCC Breast Cancer Task force has struggled with these questions, both for the seventh edition as well as for past editions.'],\n",
       "  ['The registrars are requested to describe how they deﬁ ned response [by physical examination, imaging tech- niques (mammogram, ultrasound, magnetic resonance imaging (MRI)) or pathologically] ● Patients will be considered to have M1 (and therefore Stage IV) breast cancer if they have had clinically or radiographically detectable metastases, with or without biopsy, prior to neoadjuvant systemic therapy, regardless of their status after neoadjuvant systemic therapy In order to view this proof accurately, the Overprint Preview Option must be set to Always in Acrobat Professional or Adobe Reader. Please contact your Customer Service Representative if you have questions about finding this option. Job Name: -- /381449t Breast 349 32 INTRODUCTION This staging system for carcinoma of the breast applies to inva- sive (also designated inﬁ ltrating) as well as in situ carcinomas, with or without microinvasion. Microscopic conﬁ rmation of the diagnosis is mandatory, and the histologic type and grade of carcinoma should be recorded. For all sites (T, N, M), clinical staging (c) is determined using information identiﬁ ed prior to surgery or neoadjuvant therapy. Pathologic staging (p) includes information deﬁ ned at surgery. With neoadju- vant therapy a posttherapy pathologic staging is recorded using the “yp” designator. The year 2009 marks the 50th anniversary of codiﬁ ca- tion of tumor staging into the TNM system by the Ameri- can Joint Committee on Cancer (AJCC; originally designated the American Joint Committee for Cancer Staging and End- Results Reporting).',\n",
       "   'Beginning with that initiative, six editions of the AJCC Staging Manual have been published, in which careful deﬁ nitions of the primary tumor (T), the status of the surrounding lymph nodes (N), and the presence of distant ANATOMIC STAGE/PROGNOSTIC GROUPS Stage 0 Tis N0 M0 Stage IA T1 * N0 M0 Stage IB T0 N1mi M0 T1 * N1mi M0 Stage IIA T0 N1 ** M0 T1 * N1 ** M0 T2 N0 M0 Stage IIB T2 N1 M0 T3 N0 M0 Stage IIIA T0 N2 M0 T1 * N2 M0 T2 N2 M0 T3 N1 M0 T3 N2 M0 Stage IIIB T4 N0 M0 T4 N1 M0 T4 N2 M0 Stage IIIC Any T N3 M0 Stage IV Any T Any N M1 ICD-O-3 TOPOGRAPHY CODES C50.0 Nipple C50.1 Central portion of breast C50.2 Upper inner quadrant of breast C50.3 Lower inner quadrant of breast C50.4 Upper outer quadrant of breast C50.5 Lower outer quadrant of breast C50.6 Axillary tail of breast C50.8 Overlapping lesion of breast C50.9 Breast, NOS ICD-O-3 HISTOLOGY CODE RANGES 8000–8576, 8940–8950, 8980–8981, 9020 Notes: * T1 includes T1mi. ** T0 and T1 tumors with nodal micrometastases only are excluded from Stage IIA and are classiﬁ ed Stage IB. ● M0 includes M0(i+). ● The designation pM0 is not valid; any M0 should be clinical. ● If a patient presents with M1 prior to neoadjuvant systemic therapy, the stage is considered stage IV and remains stage IV regardless of response to neoadjuvant therapy.'],\n",
       "  ['Beginning with that initiative, six editions of the AJCC Staging Manual have been published, in which careful deﬁ nitions of the primary tumor (T), the status of the surrounding lymph nodes (N), and the presence of distant ANATOMIC STAGE/PROGNOSTIC GROUPS Stage 0 Tis N0 M0 Stage IA T1 * N0 M0 Stage IB T0 N1mi M0 T1 * N1mi M0 Stage IIA T0 N1 ** M0 T1 * N1 ** M0 T2 N0 M0 Stage IIB T2 N1 M0 T3 N0 M0 Stage IIIA T0 N2 M0 T1 * N2 M0 T2 N2 M0 T3 N1 M0 T3 N2 M0 Stage IIIB T4 N0 M0 T4 N1 M0 T4 N2 M0 Stage IIIC Any T N3 M0 Stage IV Any T Any N M1 ICD-O-3 TOPOGRAPHY CODES C50.0 Nipple C50.1 Central portion of breast C50.2 Upper inner quadrant of breast C50.3 Lower inner quadrant of breast C50.4 Upper outer quadrant of breast C50.5 Lower outer quadrant of breast C50.6 Axillary tail of breast C50.8 Overlapping lesion of breast C50.9 Breast, NOS ICD-O-3 HISTOLOGY CODE RANGES 8000–8576, 8940–8950, 8980–8981, 9020 Notes: * T1 includes T1mi. ** T0 and T1 tumors with nodal micrometastases only are excluded from Stage IIA and are classiﬁ ed Stage IB. ● M0 includes M0(i+). ● The designation pM0 is not valid; any M0 should be clinical. ● If a patient presents with M1 prior to neoadjuvant systemic therapy, the stage is considered stage IV and remains stage IV regardless of response to neoadjuvant therapy.',\n",
       "   'The registrars are requested to describe how they deﬁ ned response [by physical examination, imaging tech- niques (mammogram, ultrasound, magnetic resonance imaging (MRI)) or pathologically] ● Patients will be considered to have M1 (and therefore Stage IV) breast cancer if they have had clinically or radiographically detectable metastases, with or without biopsy, prior to neoadjuvant systemic therapy, regardless of their status after neoadjuvant systemic therapy In order to view this proof accurately, the Overprint Preview Option must be set to Always in Acrobat Professional or Adobe Reader. Please contact your Customer Service Representative if you have questions about finding this option. Job Name: -- /381449t Breast 349 32 INTRODUCTION This staging system for carcinoma of the breast applies to inva- sive (also designated inﬁ ltrating) as well as in situ carcinomas, with or without microinvasion. Microscopic conﬁ rmation of the diagnosis is mandatory, and the histologic type and grade of carcinoma should be recorded. For all sites (T, N, M), clinical staging (c) is determined using information identiﬁ ed prior to surgery or neoadjuvant therapy. Pathologic staging (p) includes information deﬁ ned at surgery. With neoadju- vant therapy a posttherapy pathologic staging is recorded using the “yp” designator. The year 2009 marks the 50th anniversary of codiﬁ ca- tion of tumor staging into the TNM system by the Ameri- can Joint Committee on Cancer (AJCC; originally designated the American Joint Committee for Cancer Staging and End- Results Reporting).'],\n",
       "  ['The registrars are requested to describe how they deﬁ ned response [by physical examination, imaging tech- niques (mammogram, ultrasound, magnetic resonance imaging (MRI)) or pathologically] ● Patients will be considered to have M1 (and therefore Stage IV) breast cancer if they have had clinically or radiographically detectable metastases, with or without biopsy, prior to neoadjuvant systemic therapy, regardless of their status after neoadjuvant systemic therapy In order to view this proof accurately, the Overprint Preview Option must be set to Always in Acrobat Professional or Adobe Reader. Please contact your Customer Service Representative if you have questions about finding this option. Job Name: -- /381449t Breast 349 32 INTRODUCTION This staging system for carcinoma of the breast applies to inva- sive (also designated inﬁ ltrating) as well as in situ carcinomas, with or without microinvasion. Microscopic conﬁ rmation of the diagnosis is mandatory, and the histologic type and grade of carcinoma should be recorded. For all sites (T, N, M), clinical staging (c) is determined using information identiﬁ ed prior to surgery or neoadjuvant therapy. Pathologic staging (p) includes information deﬁ ned at surgery. With neoadju- vant therapy a posttherapy pathologic staging is recorded using the “yp” designator. The year 2009 marks the 50th anniversary of codiﬁ ca- tion of tumor staging into the TNM system by the Ameri- can Joint Committee on Cancer (AJCC; originally designated the American Joint Committee for Cancer Staging and End- Results Reporting).',\n",
       "   'Beginning with that initiative, six editions of the AJCC Staging Manual have been published, in which careful deﬁ nitions of the primary tumor (T), the status of the surrounding lymph nodes (N), and the presence of distant ANATOMIC STAGE/PROGNOSTIC GROUPS Stage 0 Tis N0 M0 Stage IA T1 * N0 M0 Stage IB T0 N1mi M0 T1 * N1mi M0 Stage IIA T0 N1 ** M0 T1 * N1 ** M0 T2 N0 M0 Stage IIB T2 N1 M0 T3 N0 M0 Stage IIIA T0 N2 M0 T1 * N2 M0 T2 N2 M0 T3 N1 M0 T3 N2 M0 Stage IIIB T4 N0 M0 T4 N1 M0 T4 N2 M0 Stage IIIC Any T N3 M0 Stage IV Any T Any N M1 ICD-O-3 TOPOGRAPHY CODES C50.0 Nipple C50.1 Central portion of breast C50.2 Upper inner quadrant of breast C50.3 Lower inner quadrant of breast C50.4 Upper outer quadrant of breast C50.5 Lower outer quadrant of breast C50.6 Axillary tail of breast C50.8 Overlapping lesion of breast C50.9 Breast, NOS ICD-O-3 HISTOLOGY CODE RANGES 8000–8576, 8940–8950, 8980–8981, 9020 Notes: * T1 includes T1mi. ** T0 and T1 tumors with nodal micrometastases only are excluded from Stage IIA and are classiﬁ ed Stage IB. ● M0 includes M0(i+). ● The designation pM0 is not valid; any M0 should be clinical. ● If a patient presents with M1 prior to neoadjuvant systemic therapy, the stage is considered stage IV and remains stage IV regardless of response to neoadjuvant therapy.'],\n",
       "  ['The registrars are requested to describe how they deﬁ ned response [by physical examination, imaging tech- niques (mammogram, ultrasound, magnetic resonance imaging (MRI)) or pathologically] ● Patients will be considered to have M1 (and therefore Stage IV) breast cancer if they have had clinically or radiographically detectable metastases, with or without biopsy, prior to neoadjuvant systemic therapy, regardless of their status after neoadjuvant systemic therapy In order to view this proof accurately, the Overprint Preview Option must be set to Always in Acrobat Professional or Adobe Reader. Please contact your Customer Service Representative if you have questions about finding this option. Job Name: -- /381449t Breast 349 32 INTRODUCTION This staging system for carcinoma of the breast applies to inva- sive (also designated inﬁ ltrating) as well as in situ carcinomas, with or without microinvasion. Microscopic conﬁ rmation of the diagnosis is mandatory, and the histologic type and grade of carcinoma should be recorded. For all sites (T, N, M), clinical staging (c) is determined using information identiﬁ ed prior to surgery or neoadjuvant therapy. Pathologic staging (p) includes information deﬁ ned at surgery. With neoadju- vant therapy a posttherapy pathologic staging is recorded using the “yp” designator. The year 2009 marks the 50th anniversary of codiﬁ ca- tion of tumor staging into the TNM system by the Ameri- can Joint Committee on Cancer (AJCC; originally designated the American Joint Committee for Cancer Staging and End- Results Reporting).',\n",
       "   'Beginning with that initiative, six editions of the AJCC Staging Manual have been published, in which careful deﬁ nitions of the primary tumor (T), the status of the surrounding lymph nodes (N), and the presence of distant ANATOMIC STAGE/PROGNOSTIC GROUPS Stage 0 Tis N0 M0 Stage IA T1 * N0 M0 Stage IB T0 N1mi M0 T1 * N1mi M0 Stage IIA T0 N1 ** M0 T1 * N1 ** M0 T2 N0 M0 Stage IIB T2 N1 M0 T3 N0 M0 Stage IIIA T0 N2 M0 T1 * N2 M0 T2 N2 M0 T3 N1 M0 T3 N2 M0 Stage IIIB T4 N0 M0 T4 N1 M0 T4 N2 M0 Stage IIIC Any T N3 M0 Stage IV Any T Any N M1 ICD-O-3 TOPOGRAPHY CODES C50.0 Nipple C50.1 Central portion of breast C50.2 Upper inner quadrant of breast C50.3 Lower inner quadrant of breast C50.4 Upper outer quadrant of breast C50.5 Lower outer quadrant of breast C50.6 Axillary tail of breast C50.8 Overlapping lesion of breast C50.9 Breast, NOS ICD-O-3 HISTOLOGY CODE RANGES 8000–8576, 8940–8950, 8980–8981, 9020 Notes: * T1 includes T1mi. ** T0 and T1 tumors with nodal micrometastases only are excluded from Stage IIA and are classiﬁ ed Stage IB. ● M0 includes M0(i+). ● The designation pM0 is not valid; any M0 should be clinical. ● If a patient presents with M1 prior to neoadjuvant systemic therapy, the stage is considered stage IV and remains stage IV regardless of response to neoadjuvant therapy.'],\n",
       "  ['The system was generated to reﬂ ect the risk of distant recurrence and death subsequent to local therapy, which at the time was almost universally aggressive surgery (radical mastec- tomy) and postoperative radiation to the chest wall. Therefore, the primary objective of TNM staging was to provide a stan- dard nomenclature for prognosis of patients with newly diag- nosed breast cancer, and its main clinical utility was to prevent apparently futile therapy in those patients who were destined to die rapidly in spite of aggressive local treatments. Over the succeeding decades, remarkable progress has led to (1) less disﬁ guring surgery with modiﬁ ed radical mastectomies and breast conserving therapy, (2) dramatic improvements in the delivery and safety of radiation, (3) the recognition that early (adjuvant) systemic therapy reduces recurrences and mortality, and (4) a better understanding of biologic markers of prognosis, and perhaps more impor- tantly, of prediction of response to selective categories of systemic therapy, such as those targeting cancer cells positive for estrogen receptors (ER) and HER2 overexpression. 2 TNM staging has been used as a guide to select whether to apply systemic therapy based on anatomic prognosis. Increasingly, biologic factors, such as ER and HER2, have become impor- tant to select which therapy to give. These advances raise the questions: Is TNM staging still relevant for breast cancer in the twenty-ﬁ rst century and what, exactly, is the objective of TNM staging for patients with this disease? There are three potential answers to the second question: (1) To permit breast cancer investigators to remain linked to the past, in regards to studying categories of patients that accurately reﬂ ect prior groupings over the last six decades, (2) to permit current investigators in the ﬁ eld to communicate with one another in the same manner, and/ or (3) to improve individual patient care. The AJCC Breast Cancer Task force has struggled with these questions, both for the seventh edition as well as for past editions.',\n",
       "   'Beginning with that initiative, six editions of the AJCC Staging Manual have been published, in which careful deﬁ nitions of the primary tumor (T), the status of the surrounding lymph nodes (N), and the presence of distant ANATOMIC STAGE/PROGNOSTIC GROUPS Stage 0 Tis N0 M0 Stage IA T1 * N0 M0 Stage IB T0 N1mi M0 T1 * N1mi M0 Stage IIA T0 N1 ** M0 T1 * N1 ** M0 T2 N0 M0 Stage IIB T2 N1 M0 T3 N0 M0 Stage IIIA T0 N2 M0 T1 * N2 M0 T2 N2 M0 T3 N1 M0 T3 N2 M0 Stage IIIB T4 N0 M0 T4 N1 M0 T4 N2 M0 Stage IIIC Any T N3 M0 Stage IV Any T Any N M1 ICD-O-3 TOPOGRAPHY CODES C50.0 Nipple C50.1 Central portion of breast C50.2 Upper inner quadrant of breast C50.3 Lower inner quadrant of breast C50.4 Upper outer quadrant of breast C50.5 Lower outer quadrant of breast C50.6 Axillary tail of breast C50.8 Overlapping lesion of breast C50.9 Breast, NOS ICD-O-3 HISTOLOGY CODE RANGES 8000–8576, 8940–8950, 8980–8981, 9020 Notes: * T1 includes T1mi. ** T0 and T1 tumors with nodal micrometastases only are excluded from Stage IIA and are classiﬁ ed Stage IB. ● M0 includes M0(i+). ● The designation pM0 is not valid; any M0 should be clinical. ● If a patient presents with M1 prior to neoadjuvant systemic therapy, the stage is considered stage IV and remains stage IV regardless of response to neoadjuvant therapy.'],\n",
       "  ['The registrars are requested to describe how they deﬁ ned response [by physical examination, imaging tech- niques (mammogram, ultrasound, magnetic resonance imaging (MRI)) or pathologically] ● Patients will be considered to have M1 (and therefore Stage IV) breast cancer if they have had clinically or radiographically detectable metastases, with or without biopsy, prior to neoadjuvant systemic therapy, regardless of their status after neoadjuvant systemic therapy In order to view this proof accurately, the Overprint Preview Option must be set to Always in Acrobat Professional or Adobe Reader. Please contact your Customer Service Representative if you have questions about finding this option. Job Name: -- /381449t Breast 349 32 INTRODUCTION This staging system for carcinoma of the breast applies to inva- sive (also designated inﬁ ltrating) as well as in situ carcinomas, with or without microinvasion. Microscopic conﬁ rmation of the diagnosis is mandatory, and the histologic type and grade of carcinoma should be recorded. For all sites (T, N, M), clinical staging (c) is determined using information identiﬁ ed prior to surgery or neoadjuvant therapy. Pathologic staging (p) includes information deﬁ ned at surgery. With neoadju- vant therapy a posttherapy pathologic staging is recorded using the “yp” designator. The year 2009 marks the 50th anniversary of codiﬁ ca- tion of tumor staging into the TNM system by the Ameri- can Joint Committee on Cancer (AJCC; originally designated the American Joint Committee for Cancer Staging and End- Results Reporting).',\n",
       "   'The system was generated to reﬂ ect the risk of distant recurrence and death subsequent to local therapy, which at the time was almost universally aggressive surgery (radical mastec- tomy) and postoperative radiation to the chest wall. Therefore, the primary objective of TNM staging was to provide a stan- dard nomenclature for prognosis of patients with newly diag- nosed breast cancer, and its main clinical utility was to prevent apparently futile therapy in those patients who were destined to die rapidly in spite of aggressive local treatments. Over the succeeding decades, remarkable progress has led to (1) less disﬁ guring surgery with modiﬁ ed radical mastectomies and breast conserving therapy, (2) dramatic improvements in the delivery and safety of radiation, (3) the recognition that early (adjuvant) systemic therapy reduces recurrences and mortality, and (4) a better understanding of biologic markers of prognosis, and perhaps more impor- tantly, of prediction of response to selective categories of systemic therapy, such as those targeting cancer cells positive for estrogen receptors (ER) and HER2 overexpression. 2 TNM staging has been used as a guide to select whether to apply systemic therapy based on anatomic prognosis. Increasingly, biologic factors, such as ER and HER2, have become impor- tant to select which therapy to give. These advances raise the questions: Is TNM staging still relevant for breast cancer in the twenty-ﬁ rst century and what, exactly, is the objective of TNM staging for patients with this disease? There are three potential answers to the second question: (1) To permit breast cancer investigators to remain linked to the past, in regards to studying categories of patients that accurately reﬂ ect prior groupings over the last six decades, (2) to permit current investigators in the ﬁ eld to communicate with one another in the same manner, and/ or (3) to improve individual patient care. The AJCC Breast Cancer Task force has struggled with these questions, both for the seventh edition as well as for past editions.'],\n",
       "  ['The registrars are requested to describe how they deﬁ ned response [by physical examination, imaging tech- niques (mammogram, ultrasound, magnetic resonance imaging (MRI)) or pathologically] ● Patients will be considered to have M1 (and therefore Stage IV) breast cancer if they have had clinically or radiographically detectable metastases, with or without biopsy, prior to neoadjuvant systemic therapy, regardless of their status after neoadjuvant systemic therapy In order to view this proof accurately, the Overprint Preview Option must be set to Always in Acrobat Professional or Adobe Reader. Please contact your Customer Service Representative if you have questions about finding this option. Job Name: -- /381449t Breast 349 32 INTRODUCTION This staging system for carcinoma of the breast applies to inva- sive (also designated inﬁ ltrating) as well as in situ carcinomas, with or without microinvasion. Microscopic conﬁ rmation of the diagnosis is mandatory, and the histologic type and grade of carcinoma should be recorded. For all sites (T, N, M), clinical staging (c) is determined using information identiﬁ ed prior to surgery or neoadjuvant therapy. Pathologic staging (p) includes information deﬁ ned at surgery. With neoadju- vant therapy a posttherapy pathologic staging is recorded using the “yp” designator. The year 2009 marks the 50th anniversary of codiﬁ ca- tion of tumor staging into the TNM system by the Ameri- can Joint Committee on Cancer (AJCC; originally designated the American Joint Committee for Cancer Staging and End- Results Reporting).',\n",
       "   'Beginning with that initiative, six editions of the AJCC Staging Manual have been published, in which careful deﬁ nitions of the primary tumor (T), the status of the surrounding lymph nodes (N), and the presence of distant ANATOMIC STAGE/PROGNOSTIC GROUPS Stage 0 Tis N0 M0 Stage IA T1 * N0 M0 Stage IB T0 N1mi M0 T1 * N1mi M0 Stage IIA T0 N1 ** M0 T1 * N1 ** M0 T2 N0 M0 Stage IIB T2 N1 M0 T3 N0 M0 Stage IIIA T0 N2 M0 T1 * N2 M0 T2 N2 M0 T3 N1 M0 T3 N2 M0 Stage IIIB T4 N0 M0 T4 N1 M0 T4 N2 M0 Stage IIIC Any T N3 M0 Stage IV Any T Any N M1 ICD-O-3 TOPOGRAPHY CODES C50.0 Nipple C50.1 Central portion of breast C50.2 Upper inner quadrant of breast C50.3 Lower inner quadrant of breast C50.4 Upper outer quadrant of breast C50.5 Lower outer quadrant of breast C50.6 Axillary tail of breast C50.8 Overlapping lesion of breast C50.9 Breast, NOS ICD-O-3 HISTOLOGY CODE RANGES 8000–8576, 8940–8950, 8980–8981, 9020 Notes: * T1 includes T1mi. ** T0 and T1 tumors with nodal micrometastases only are excluded from Stage IIA and are classiﬁ ed Stage IB. ● M0 includes M0(i+). ● The designation pM0 is not valid; any M0 should be clinical. ● If a patient presents with M1 prior to neoadjuvant systemic therapy, the stage is considered stage IV and remains stage IV regardless of response to neoadjuvant therapy.']],\n",
       " 'uris': None,\n",
       " 'data': None,\n",
       " 'included': ['metadatas', 'documents', 'distances']}"
      ]
     },
     "execution_count": 73,
     "metadata": {},
     "output_type": "execute_result"
    }
   ],
   "source": [
    "results = brca_collection.query(query_embeddings=embedding_model.encode(subqueries, max_length=MAX_LENGTH).detach().cpu().numpy().tolist(),\n",
    "                                                    include=[\"metadatas\", \"documents\", \"distances\"],\n",
    "                                                    n_results=2,\n",
    "                                                    )\n",
    "\n",
    "results"
   ]
  },
  {
   "cell_type": "code",
   "execution_count": 74,
   "metadata": {},
   "outputs": [
    {
     "name": "stdout",
     "output_type": "stream",
     "text": [
      "Add at 0, 0\n",
      "Add at 0, 1\n",
      "Add at 1, 0\n",
      "Skip at 1, 1\n",
      "Skip at 2, 0\n",
      "Skip at 2, 1\n",
      "Skip at 3, 0\n",
      "Add at 3, 1\n",
      "Skip at 4, 0\n",
      "Skip at 4, 1\n",
      "Skip at 5, 0\n",
      "Skip at 5, 1\n",
      "Skip at 6, 0\n",
      "Skip at 6, 1\n",
      "Skip at 7, 0\n",
      "Skip at 7, 1\n",
      "Skip at 8, 0\n",
      "Skip at 8, 1\n",
      "Skip at 9, 0\n",
      "Skip at 9, 1\n",
      "Skip at 10, 0\n",
      "Skip at 10, 1\n",
      "Skip at 11, 0\n",
      "Skip at 11, 1\n"
     ]
    }
   ],
   "source": [
    "retrieved_context = \"\"\n",
    "id_set = set()\n",
    "for query in range(len(results['documents'])):\n",
    "    # print(f\"For {query}st query: \")\n",
    "    for top in range(len(results['documents'][query])):\n",
    "        if results['ids'][query][top] in id_set:\n",
    "            print(f\"Skip at {query}, {top}\")\n",
    "            continue\n",
    "        else:\n",
    "            id_set.add(results['ids'][query][top])\n",
    "            retrieved_context += results['documents'][query][top]+\"\\n\"\n",
    "            print(f\"Add at {query}, {top}\")"
   ]
  },
  {
   "cell_type": "code",
   "execution_count": 76,
   "metadata": {},
   "outputs": [
    {
     "name": "stdout",
     "output_type": "stream",
     "text": [
      "The registrars are requested to describe how they deﬁ ned response [by physical examination, imaging tech- niques (mammogram, ultrasound, magnetic resonance imaging (MRI)) or pathologically] ● Patients will be considered to have M1 (and therefore Stage IV) breast cancer if they have had clinically or radiographically detectable metastases, with or without biopsy, prior to neoadjuvant systemic therapy, regardless of their status after neoadjuvant systemic therapy In order to view this proof accurately, the Overprint Preview Option must be set to Always in Acrobat Professional or Adobe Reader. Please contact your Customer Service Representative if you have questions about finding this option. Job Name: -- /381449t Breast 349 32 INTRODUCTION This staging system for carcinoma of the breast applies to inva- sive (also designated inﬁ ltrating) as well as in situ carcinomas, with or without microinvasion. Microscopic conﬁ rmation of the diagnosis is mandatory, and the histologic type and grade of carcinoma should be recorded. For all sites (T, N, M), clinical staging (c) is determined using information identiﬁ ed prior to surgery or neoadjuvant therapy. Pathologic staging (p) includes information deﬁ ned at surgery. With neoadju- vant therapy a posttherapy pathologic staging is recorded using the “yp” designator. The year 2009 marks the 50th anniversary of codiﬁ ca- tion of tumor staging into the TNM system by the Ameri- can Joint Committee on Cancer (AJCC; originally designated the American Joint Committee for Cancer Staging and End- Results Reporting).\n",
      "Beginning with that initiative, six editions of the AJCC Staging Manual have been published, in which careful deﬁ nitions of the primary tumor (T), the status of the surrounding lymph nodes (N), and the presence of distant ANATOMIC STAGE/PROGNOSTIC GROUPS Stage 0 Tis N0 M0 Stage IA T1 * N0 M0 Stage IB T0 N1mi M0 T1 * N1mi M0 Stage IIA T0 N1 ** M0 T1 * N1 ** M0 T2 N0 M0 Stage IIB T2 N1 M0 T3 N0 M0 Stage IIIA T0 N2 M0 T1 * N2 M0 T2 N2 M0 T3 N1 M0 T3 N2 M0 Stage IIIB T4 N0 M0 T4 N1 M0 T4 N2 M0 Stage IIIC Any T N3 M0 Stage IV Any T Any N M1 ICD-O-3 TOPOGRAPHY CODES C50.0 Nipple C50.1 Central portion of breast C50.2 Upper inner quadrant of breast C50.3 Lower inner quadrant of breast C50.4 Upper outer quadrant of breast C50.5 Lower outer quadrant of breast C50.6 Axillary tail of breast C50.8 Overlapping lesion of breast C50.9 Breast, NOS ICD-O-3 HISTOLOGY CODE RANGES 8000–8576, 8940–8950, 8980–8981, 9020 Notes: * T1 includes T1mi. ** T0 and T1 tumors with nodal micrometastases only are excluded from Stage IIA and are classiﬁ ed Stage IB. ● M0 includes M0(i+). ● The designation pM0 is not valid; any M0 should be clinical. ● If a patient presents with M1 prior to neoadjuvant systemic therapy, the stage is considered stage IV and remains stage IV regardless of response to neoadjuvant therapy.\n",
      "The AJCC Cancer Staging Manual has traditionally grouped breast cancer cases with exclusively nodal micrometastases (pN1mi) as having the same prognostic signiﬁ cance as mac- rometastases with respect to assigning an overall stage group- ing based on T, N, and M categorical classiﬁ cations. A recent analysis of data in the United States Surveillance, Epidemi- ology, and End Results (SEER) national cancer database has demonstrated that when nodal tumor deposits no larger than 2.0 mm are the only ﬁ nding in lymph nodes and the primary tumor is less than or equal to 2 cm (pT1) the incremental decrease in survival at 5 and 10 years was only 1% compared In order to view this proof accurately, the Overprint Preview Option must be set to Always in Acrobat Professional or Adobe Reader. Please contact your Customer Service Representative if you have questions about finding this option. Job Name: -- /381449t Breast 365 32 to patients with no nodal metastases detected. 47 Patients with tumors no larger than 2.0 cm (T1) represented 70% of the total population in the analysis, and in this subset calculated 10-year survival decreased from 78% to 77% to 73% for pN0, pN1mi, and pN1a, respectively. This does not justify classify- ing pN1mi cases with Stage II tumors. This analysis included data from 1992 to 2003 spanning the introduction and wide- spread adoption of sentinel lymph node biopsy. In this edi- tion of the manual, T1 tumors with nodal micrometastases (pN1mi) will be classiﬁ ed as Stage IB to indicate the better prognosis for the subset of breast cancer patients and to facili- tate further investigation. How should RT-PCR be classiﬁ ed in the detection of nodal tumor deposits?\n",
      "The system was generated to reﬂ ect the risk of distant recurrence and death subsequent to local therapy, which at the time was almost universally aggressive surgery (radical mastec- tomy) and postoperative radiation to the chest wall. Therefore, the primary objective of TNM staging was to provide a stan- dard nomenclature for prognosis of patients with newly diag- nosed breast cancer, and its main clinical utility was to prevent apparently futile therapy in those patients who were destined to die rapidly in spite of aggressive local treatments. Over the succeeding decades, remarkable progress has led to (1) less disﬁ guring surgery with modiﬁ ed radical mastectomies and breast conserving therapy, (2) dramatic improvements in the delivery and safety of radiation, (3) the recognition that early (adjuvant) systemic therapy reduces recurrences and mortality, and (4) a better understanding of biologic markers of prognosis, and perhaps more impor- tantly, of prediction of response to selective categories of systemic therapy, such as those targeting cancer cells positive for estrogen receptors (ER) and HER2 overexpression. 2 TNM staging has been used as a guide to select whether to apply systemic therapy based on anatomic prognosis. Increasingly, biologic factors, such as ER and HER2, have become impor- tant to select which therapy to give. These advances raise the questions: Is TNM staging still relevant for breast cancer in the twenty-ﬁ rst century and what, exactly, is the objective of TNM staging for patients with this disease? There are three potential answers to the second question: (1) To permit breast cancer investigators to remain linked to the past, in regards to studying categories of patients that accurately reﬂ ect prior groupings over the last six decades, (2) to permit current investigators in the ﬁ eld to communicate with one another in the same manner, and/ or (3) to improve individual patient care. The AJCC Breast Cancer Task force has struggled with these questions, both for the seventh edition as well as for past editions.\n",
      "\n"
     ]
    }
   ],
   "source": [
    "print(retrieved_context)"
   ]
  },
  {
   "cell_type": "code",
   "execution_count": 78,
   "metadata": {},
   "outputs": [
    {
     "name": "stdout",
     "output_type": "stream",
     "text": [
      " Based on the provided context, here are the general rules that help predict the T stage for breast cancer according to the AJCC's TNM Staging System:\n",
      "\n",
      "1. T1: This stage includes invasive breast carcinomas that are 2 cm or less in size. It can be further divided into T1a, T1b, and T1c based on the size of the tumor. T1a is for tumors 0.5 cm or less, T1b is for tumors larger than 0.5 cm but not more than 1 cm, and T1c is for tumors larger than 1 cm but not more than 2 cm.\n",
      "\n",
      "2. T2: This stage includes invasive breast carcinomas that are larger than 2 cm but not more than 5 cm.\n",
      "\n",
      "3. T3: This stage includes invasive breast carcinomas that are larger than 5 cm. It also includes breast carcinomas of any size with direct extension to the chest wall or skin.\n",
      "\n",
      "4. T4: This stage includes invasive breast carcinomas that have direct extension to the chest wall and/or skin. T4 can be further divided into T4a, T4b, T4c, and T4d based on the specific extent of the invasion. T4a is for tumors with extension to the chest wall, T4b is for inflammatory carcinoma, T4c is for tumors with both chest wall and skin involvement, and T4d is for inflammatory carcinoma with ipsilateral satellite nodules and/or edema of the skin that does not meet the criteria for T4b.\n",
      "\n",
      "Please note that these rules are based on the size and extent of the primary tumor and do not include the factors related to the nodal (N) and metastatic (M) stages.\n"
     ]
    }
   ],
   "source": [
    "ltm_rag2_t14 = agent(rule_generator_prompt.format(context = retrieved_context, question = main_query_t14))\n",
    "print(ltm_rag2_t14)"
   ]
  },
  {
   "cell_type": "code",
   "execution_count": 79,
   "metadata": {},
   "outputs": [
    {
     "name": "stdout",
     "output_type": "stream",
     "text": [
      " 1. What are the criteria for classifying the size of cancerous lymph nodes in the armpit (axillary nodes) for N0 stage in the AJCC's TNM Staging System for breast cancer?\n",
      "2. What are the specific rules to determine the N1 stage in the AJCC's TNM Staging System for breast cancer, in terms of the involvement of axillary lymph nodes?\n",
      "3. Can you outline the criteria for classifying the involvement of axillary lymph nodes and/or internal mammary lymph nodes for the N2 stage in the AJCC's TNM Staging System for breast cancer?\n",
      "4. What are the detailed requirements for the N3 stage in the AJCC's TNM Staging System for breast cancer, particularly in terms of the number and location of involved lymph nodes?\n",
      "5. Are there any additional factors, besides the number and location of involved lymph nodes, that might influence the assignment of N stage in the AJCC's TNM Staging System for breast cancer?\n"
     ]
    }
   ],
   "source": [
    "# n\n",
    "answer = agent(query_decomposer_prompt.format(question=main_query_n03))\n",
    "print(answer)"
   ]
  },
  {
   "cell_type": "code",
   "execution_count": 80,
   "metadata": {},
   "outputs": [
    {
     "data": {
      "text/plain": [
       "[\"1. What are the criteria for classifying the size of cancerous lymph nodes in the armpit (axillary nodes) for N0 stage in the AJCC's TNM Staging System for breast cancer?\",\n",
       " \"2. What are the specific rules to determine the N1 stage in the AJCC's TNM Staging System for breast cancer, in terms of the involvement of axillary lymph nodes?\",\n",
       " \"3. Can you outline the criteria for classifying the involvement of axillary lymph nodes and/or internal mammary lymph nodes for the N2 stage in the AJCC's TNM Staging System for breast cancer?\",\n",
       " \"4. What are the detailed requirements for the N3 stage in the AJCC's TNM Staging System for breast cancer, particularly in terms of the number and location of involved lymph nodes?\",\n",
       " \"5. Are there any additional factors, besides the number and location of involved lymph nodes, that might influence the assignment of N stage in the AJCC's TNM Staging System for breast cancer?\"]"
      ]
     },
     "execution_count": 80,
     "metadata": {},
     "output_type": "execute_result"
    }
   ],
   "source": [
    "subqueries = answer.split(\"\\n\")\n",
    "subqueries = [subquery.strip() for subquery in subqueries]\n",
    "subqueries"
   ]
  },
  {
   "cell_type": "code",
   "execution_count": 81,
   "metadata": {},
   "outputs": [
    {
     "name": "stderr",
     "output_type": "stream",
     "text": [
      "/home/yl3427/.cache/huggingface/modules/transformers_modules/nvidia/NV-Embed-v2/26db444e203771ea231d32a795344655e1119d40/modeling_nvembed.py:349: UserWarning: To copy construct from a tensor, it is recommended to use sourceTensor.clone().detach() or sourceTensor.clone().detach().requires_grad_(True), rather than torch.tensor(sourceTensor).\n",
      "  'input_ids': torch.tensor(batch_dict.get('input_ids').to(batch_dict.get('input_ids')).long()),\n",
      "/home/yl3427/miniconda3/envs/vllm_env/lib/python3.9/site-packages/torch/backends/cuda/__init__.py:342: FutureWarning: torch.backends.cuda.sdp_kernel() is deprecated. In the future, this context manager will be removed. Please see, torch.nn.attention.sdpa_kernel() for the new context manager, with updated signature.\n",
      "  warnings.warn(\n"
     ]
    },
    {
     "data": {
      "text/plain": [
       "{'ids': [['82147', '30009'],\n",
       "  ['8197', '6623'],\n",
       "  ['71316', '67023'],\n",
       "  ['8197', '6623'],\n",
       "  ['13360', '82147']],\n",
       " 'distances': [[0.3783628203322358, 0.38248441675223577],\n",
       "  [0.3894978424824532, 0.4056552650201183],\n",
       "  [0.36925876793302914, 0.37529702609773496],\n",
       "  [0.39672623757979386, 0.40486974755925564],\n",
       "  [0.3870707342380135, 0.4099014703108187]],\n",
       " 'metadatas': [[None, None],\n",
       "  [None, None],\n",
       "  [None, None],\n",
       "  [None, None],\n",
       "  [None, None]],\n",
       " 'embeddings': None,\n",
       " 'documents': [['Q: Should size criteria be used to distinguish between isolated tumor cells and micrometastases? A: Yes; see “Considerations” below; N category. The deﬁ ni- tion is now based on size, NOT how they were detected. Q: How should RT-PCR be used in the detection of small tumor deposits? A: If collected, it should be collected by the registrar, but not used for staging; see “Considerations” below; N category Q: Should the classiﬁ cation of pathologic lymph node status in node-positive (all nodes with deposits greater than 0.2 mm) patients be changed to reﬂ ect more clearly the prognostic signiﬁ - cance of number of affected nodes? A: It was changed in sixth edition; no change in seventh edition. Q: Should a ﬁ nding of positive internal mammary lymph nodes retain a current classiﬁ cation of N3? A: It was reclassiﬁ ed pN2b in the sixth edition. In the seventh edition, if positive internal mammary lymph nodes are iden- tiﬁ ed in the absence of axillary lymph node positivity, then it is classiﬁ ed N2b. If positive lymph nodes are identiﬁ ed in the presence of axillary lymph node positivity, then it is classiﬁ ed N3b. Q: Should a ﬁ nding of positive supraclavicular lymph nodes be classiﬁ ed as N3 rather than M1? A: It was reclassiﬁ ed pN3 from M1 in the sixth edition. No change in the seventh edition. Q: Are there other prognostic factors that are powerful enough to consider for inclusion in the TNM grading system? A: No. See “Considerations” below; B category regarding multiparameter assays. New Considerations Between Sixth and Seventh Editions. The Breast Cancer Task Force deliberated many important issues regarding the TNM staging system for the seventh edition.',\n",
       "   'If the primary tumor is invasive (with a possible exception of microinvasive cancer), resection of at least the low axillary lymph nodes (Level I) – that is, those lymph nodes located lat- eral to the lateral border of the pectoralis minor muscle – should be performed for pathologic (pN) classiﬁ cation. Such a resec- tion will ordinarily include six or more lymph nodes. Alter- natively, one or more sentinel lymph nodes may be resected and examined for pathologic classiﬁ cation [pN(sn)]. Certain histologic invasive cancer types [classic tubular carcinoma <1 cm, classic mucinous carcinoma <1 cm, and microinva- sive carcinoma (pT1mi)] have a very low incidence of axillary lymph node metastases and may not require an axillary lymph node dissection, although sentinel lymph node biopsy may be appropriate. Cancerous nodules in the axillary fat adjacent to the breast, without histologic evidence of residual lymph node tissue, are classiﬁ ed as regional lymph node metastases ( ≥ N1). Pathologic stage grouping includes the following two combi- nations of pathologic and clinical classiﬁ cations: pT pN pM, or pT pN cM. If surgery occurs after the patient has received neoadjuvant chemotherapy, hormonal therapy, immunother- apy, or radiation therapy, the preﬁ x “yp” should be used with the TNM classiﬁ cation, for example, ypTNM. Primary Tumor (T) Determining Tumor Size. The original size of a primary tumor (T) can be measured based on clinical ﬁ ndings (physi- cal examination and imaging modalities such as mammog- raphy, ultrasound, and MRI) and pathologic ﬁ ndings (gross and microscopic measurements).'],\n",
       "  ['Beginning with that initiative, six editions of the AJCC Staging Manual have been published, in which careful deﬁ nitions of the primary tumor (T), the status of the surrounding lymph nodes (N), and the presence of distant ANATOMIC STAGE/PROGNOSTIC GROUPS Stage 0 Tis N0 M0 Stage IA T1 * N0 M0 Stage IB T0 N1mi M0 T1 * N1mi M0 Stage IIA T0 N1 ** M0 T1 * N1 ** M0 T2 N0 M0 Stage IIB T2 N1 M0 T3 N0 M0 Stage IIIA T0 N2 M0 T1 * N2 M0 T2 N2 M0 T3 N1 M0 T3 N2 M0 Stage IIIB T4 N0 M0 T4 N1 M0 T4 N2 M0 Stage IIIC Any T N3 M0 Stage IV Any T Any N M1 ICD-O-3 TOPOGRAPHY CODES C50.0 Nipple C50.1 Central portion of breast C50.2 Upper inner quadrant of breast C50.3 Lower inner quadrant of breast C50.4 Upper outer quadrant of breast C50.5 Lower outer quadrant of breast C50.6 Axillary tail of breast C50.8 Overlapping lesion of breast C50.9 Breast, NOS ICD-O-3 HISTOLOGY CODE RANGES 8000–8576, 8940–8950, 8980–8981, 9020 Notes: * T1 includes T1mi. ** T0 and T1 tumors with nodal micrometastases only are excluded from Stage IIA and are classiﬁ ed Stage IB. ● M0 includes M0(i+). ● The designation pM0 is not valid; any M0 should be clinical. ● If a patient presents with M1 prior to neoadjuvant systemic therapy, the stage is considered stage IV and remains stage IV regardless of response to neoadjuvant therapy.',\n",
       "   'The registrars are requested to describe how they deﬁ ned response [by physical examination, imaging tech- niques (mammogram, ultrasound, magnetic resonance imaging (MRI)) or pathologically] ● Patients will be considered to have M1 (and therefore Stage IV) breast cancer if they have had clinically or radiographically detectable metastases, with or without biopsy, prior to neoadjuvant systemic therapy, regardless of their status after neoadjuvant systemic therapy In order to view this proof accurately, the Overprint Preview Option must be set to Always in Acrobat Professional or Adobe Reader. Please contact your Customer Service Representative if you have questions about finding this option. Job Name: -- /381449t Breast 349 32 INTRODUCTION This staging system for carcinoma of the breast applies to inva- sive (also designated inﬁ ltrating) as well as in situ carcinomas, with or without microinvasion. Microscopic conﬁ rmation of the diagnosis is mandatory, and the histologic type and grade of carcinoma should be recorded. For all sites (T, N, M), clinical staging (c) is determined using information identiﬁ ed prior to surgery or neoadjuvant therapy. Pathologic staging (p) includes information deﬁ ned at surgery. With neoadju- vant therapy a posttherapy pathologic staging is recorded using the “yp” designator. The year 2009 marks the 50th anniversary of codiﬁ ca- tion of tumor staging into the TNM system by the Ameri- can Joint Committee on Cancer (AJCC; originally designated the American Joint Committee for Cancer Staging and End- Results Reporting).'],\n",
       "  [' Job Name: -- /381449t 360 American Joint Committee on Cancer • 2010 Pathologic (pN)* (Continued) pN2 Metastases in 4–9 axillary lymph nodes; or in clinically detected **** internal mam- mary lymph nodes in the absence of axil- lary lymph node metastases pN2a Metastases in 4–9 axillary lymph nodes (at least one tumor deposit greater than 2.0 mm) pN2b Metastases in clinically detected **** inter- nal mammary lymph nodes in the absence of axillary lymph node metastases pN3 Metastases in ten or more axillary lymph nodes; or in infraclavicular (level III axillary) lymph nodes; or in clinically detected **** ipsilateral internal mammary lymph nodes in the presence of one or more positive level I, II axillary lymph nodes; or in more than three axillary lymph nodes and in internal mam- mary lymph nodes with micrometastases or macrometastases detected by sentinel lymph node biopsy but not clinically detected *** ; or in ipsilateral supraclavicular lymph nodes pN3a Metastases in ten or more axillary lymph nodes (at least one tumor deposit greater than 2.0 mm); or metastases to the infra- clavicular (level III axillary lymph) nodes pN3b Metastases in clinically detected **** ipsi- lateral internal mammary lymph nodes in the presence of one or more positive axillary lymph nodes; or in more than three axil- lary lymph nodes andin internal mammary lymph nodes with micro metastases or mac- rometastases detected by sentinel lymph node biopsy but not clinically detected *** pN3c Metastases in ipsilateral supraclavicular lymph nodes Notes: * Classiﬁ cation is based on axillary lymph node dissection with or without sentinel lymph node biopsy.',\n",
       "   'Regional Lymph Nodes (N) Clinical NX Regional lymph nodes cannot be assessed (e.g., previously removed) N0 No regional lymph node metastases N1 Metastases to movable ipsilateral level I, II axillary lymph node(s) N2 Metastases in ipsilateral level I, II axillary lymph nodes that are clinically ﬁ xed or matted; or in clinically detected * ipsilateral internal mammary nodes in the absence of clinically evident axillary lymph node metastases N2a Metastases in ipsilateral level I, II axillary lymph nodes ﬁ xed to one another (matted) or to other structures N2b Metastases only in clinically detected * ipsilateral inter- nal mammary nodes and in the absence of clinically evident level I, II axillary lymph node metastases N3 Metastases in ipsilateral infraclavicular (level III axil- lary) lymph node(s) with or without level I, II axillary lymph node involvement; or in clinically detected * ipsilateral internal mammary lymph node(s) with clinically evident level I, II axillary lymph node metastases; or metastases in ipsilateral supraclavicu- lar lymph node(s) with or without axillary or inter- nal mammary lymph node involvement N3a Metastases in ipsilateral infraclavicular lymph node(s) N3b Metastases in ipsilateral internal mammary lymph node(s) and axillary lymph node(s) N3c Metastases in ipsilateral supraclavicular lymph node(s) * Note : Clinically detected is deﬁ ned as detected by imaging stud- ies (excluding lymphoscintigraphy) or by clinical examination and having characteristics highly suspicious for malignancy or a presumed pathologic macrometastasis based on ﬁ ne needle aspiration biopsy with cytologic examination.'],\n",
       "  ['Beginning with that initiative, six editions of the AJCC Staging Manual have been published, in which careful deﬁ nitions of the primary tumor (T), the status of the surrounding lymph nodes (N), and the presence of distant ANATOMIC STAGE/PROGNOSTIC GROUPS Stage 0 Tis N0 M0 Stage IA T1 * N0 M0 Stage IB T0 N1mi M0 T1 * N1mi M0 Stage IIA T0 N1 ** M0 T1 * N1 ** M0 T2 N0 M0 Stage IIB T2 N1 M0 T3 N0 M0 Stage IIIA T0 N2 M0 T1 * N2 M0 T2 N2 M0 T3 N1 M0 T3 N2 M0 Stage IIIB T4 N0 M0 T4 N1 M0 T4 N2 M0 Stage IIIC Any T N3 M0 Stage IV Any T Any N M1 ICD-O-3 TOPOGRAPHY CODES C50.0 Nipple C50.1 Central portion of breast C50.2 Upper inner quadrant of breast C50.3 Lower inner quadrant of breast C50.4 Upper outer quadrant of breast C50.5 Lower outer quadrant of breast C50.6 Axillary tail of breast C50.8 Overlapping lesion of breast C50.9 Breast, NOS ICD-O-3 HISTOLOGY CODE RANGES 8000–8576, 8940–8950, 8980–8981, 9020 Notes: * T1 includes T1mi. ** T0 and T1 tumors with nodal micrometastases only are excluded from Stage IIA and are classiﬁ ed Stage IB. ● M0 includes M0(i+). ● The designation pM0 is not valid; any M0 should be clinical. ● If a patient presents with M1 prior to neoadjuvant systemic therapy, the stage is considered stage IV and remains stage IV regardless of response to neoadjuvant therapy.',\n",
       "   'The registrars are requested to describe how they deﬁ ned response [by physical examination, imaging tech- niques (mammogram, ultrasound, magnetic resonance imaging (MRI)) or pathologically] ● Patients will be considered to have M1 (and therefore Stage IV) breast cancer if they have had clinically or radiographically detectable metastases, with or without biopsy, prior to neoadjuvant systemic therapy, regardless of their status after neoadjuvant systemic therapy In order to view this proof accurately, the Overprint Preview Option must be set to Always in Acrobat Professional or Adobe Reader. Please contact your Customer Service Representative if you have questions about finding this option. Job Name: -- /381449t Breast 349 32 INTRODUCTION This staging system for carcinoma of the breast applies to inva- sive (also designated inﬁ ltrating) as well as in situ carcinomas, with or without microinvasion. Microscopic conﬁ rmation of the diagnosis is mandatory, and the histologic type and grade of carcinoma should be recorded. For all sites (T, N, M), clinical staging (c) is determined using information identiﬁ ed prior to surgery or neoadjuvant therapy. Pathologic staging (p) includes information deﬁ ned at surgery. With neoadju- vant therapy a posttherapy pathologic staging is recorded using the “yp” designator. The year 2009 marks the 50th anniversary of codiﬁ ca- tion of tumor staging into the TNM system by the Ameri- can Joint Committee on Cancer (AJCC; originally designated the American Joint Committee for Cancer Staging and End- Results Reporting).'],\n",
       "  ['Indeed, the Breast Cancer Task Force made a major change from the ﬁ fth edition to the sixth edition in recommending that the N staging category be divided into three categories based on the number of axillary lymph nodes involved. In this regard, the current Breast Cancer Task Force came to the conclu- sion that although the TNM staging system provides insight into whether a patient’s prognosis is so favorable the patient might forego systemic therapy, it is becoming anachronistic with regard to making recommendations for speciﬁ c types of systemic therapy. Although T, N, and M do still provide some value in determining a patient’s future outcome, the average clinician today must take into account multiple factors that relate both to prognosis and prediction. For example, testing for estrogen and progesterone receptor content as well as HER2 status is now considered standard of care. 3 Although these factors do have intrinsic prognostic value in regards to the risk of sub- sequent recurrence for patients who do not receive systemic therapy, their main utility is to guide whether a patient should or should not receive adjuvant endocrine (anti-estrogen) or anti-HER2 (such as trastuzumab) therapy. The use of these factors as predictive, rather than prognostic, markers is fun- damentally important in evaluation and care of patients with newly diagnosed breast cancer, but the Committee found it difﬁ cult to devise a scheme in which they might be incorpo- rated into the TNM system. The situation has become even more complex with the availability of multigene expression assays. 4 One such assay, based on a 70-gene prognostic signature developed by inves- tigators from Amsterdam, 5 has been cleared by the United States Food and Drug Administration for use in women who are less than 61 years old and who have stage I or II, node negative breast cancer, explicitly to “assess a patient’s risk for distant metastases.” (http://www.accessdata.fda.gov/scripts/ cdrh/cfdocs/cfPMN/pmn.cfm?ID=24303).',\n",
       "   'Q: Should size criteria be used to distinguish between isolated tumor cells and micrometastases? A: Yes; see “Considerations” below; N category. The deﬁ ni- tion is now based on size, NOT how they were detected. Q: How should RT-PCR be used in the detection of small tumor deposits? A: If collected, it should be collected by the registrar, but not used for staging; see “Considerations” below; N category Q: Should the classiﬁ cation of pathologic lymph node status in node-positive (all nodes with deposits greater than 0.2 mm) patients be changed to reﬂ ect more clearly the prognostic signiﬁ - cance of number of affected nodes? A: It was changed in sixth edition; no change in seventh edition. Q: Should a ﬁ nding of positive internal mammary lymph nodes retain a current classiﬁ cation of N3? A: It was reclassiﬁ ed pN2b in the sixth edition. In the seventh edition, if positive internal mammary lymph nodes are iden- tiﬁ ed in the absence of axillary lymph node positivity, then it is classiﬁ ed N2b. If positive lymph nodes are identiﬁ ed in the presence of axillary lymph node positivity, then it is classiﬁ ed N3b. Q: Should a ﬁ nding of positive supraclavicular lymph nodes be classiﬁ ed as N3 rather than M1? A: It was reclassiﬁ ed pN3 from M1 in the sixth edition. No change in the seventh edition. Q: Are there other prognostic factors that are powerful enough to consider for inclusion in the TNM grading system? A: No. See “Considerations” below; B category regarding multiparameter assays. New Considerations Between Sixth and Seventh Editions. The Breast Cancer Task Force deliberated many important issues regarding the TNM staging system for the seventh edition.']],\n",
       " 'uris': None,\n",
       " 'data': None,\n",
       " 'included': ['metadatas', 'documents', 'distances']}"
      ]
     },
     "execution_count": 81,
     "metadata": {},
     "output_type": "execute_result"
    }
   ],
   "source": [
    "results = brca_collection.query(query_embeddings=embedding_model.encode(subqueries, max_length=MAX_LENGTH).detach().cpu().numpy().tolist(),\n",
    "                                                    include=[\"metadatas\", \"documents\", \"distances\"],\n",
    "                                                    n_results=2,\n",
    "                                                    )\n",
    "\n",
    "results"
   ]
  },
  {
   "cell_type": "code",
   "execution_count": 82,
   "metadata": {},
   "outputs": [
    {
     "name": "stdout",
     "output_type": "stream",
     "text": [
      "Add at 0, 0\n",
      "Add at 0, 1\n",
      "Add at 1, 0\n",
      "Add at 1, 1\n",
      "Add at 2, 0\n",
      "Add at 2, 1\n",
      "Skip at 3, 0\n",
      "Skip at 3, 1\n",
      "Add at 4, 0\n",
      "Skip at 4, 1\n"
     ]
    }
   ],
   "source": [
    "retrieved_context = \"\"\n",
    "id_set = set()\n",
    "for query in range(len(results['documents'])):\n",
    "    # print(f\"For {query}st query: \")\n",
    "    for top in range(len(results['documents'][query])):\n",
    "        if results['ids'][query][top] in id_set:\n",
    "            print(f\"Skip at {query}, {top}\")\n",
    "            continue\n",
    "        else:\n",
    "            id_set.add(results['ids'][query][top])\n",
    "            retrieved_context += results['documents'][query][top]+\"\\n\"\n",
    "            print(f\"Add at {query}, {top}\")"
   ]
  },
  {
   "cell_type": "code",
   "execution_count": 83,
   "metadata": {},
   "outputs": [
    {
     "name": "stdout",
     "output_type": "stream",
     "text": [
      "Q: Should size criteria be used to distinguish between isolated tumor cells and micrometastases? A: Yes; see “Considerations” below; N category. The deﬁ ni- tion is now based on size, NOT how they were detected. Q: How should RT-PCR be used in the detection of small tumor deposits? A: If collected, it should be collected by the registrar, but not used for staging; see “Considerations” below; N category Q: Should the classiﬁ cation of pathologic lymph node status in node-positive (all nodes with deposits greater than 0.2 mm) patients be changed to reﬂ ect more clearly the prognostic signiﬁ - cance of number of affected nodes? A: It was changed in sixth edition; no change in seventh edition. Q: Should a ﬁ nding of positive internal mammary lymph nodes retain a current classiﬁ cation of N3? A: It was reclassiﬁ ed pN2b in the sixth edition. In the seventh edition, if positive internal mammary lymph nodes are iden- tiﬁ ed in the absence of axillary lymph node positivity, then it is classiﬁ ed N2b. If positive lymph nodes are identiﬁ ed in the presence of axillary lymph node positivity, then it is classiﬁ ed N3b. Q: Should a ﬁ nding of positive supraclavicular lymph nodes be classiﬁ ed as N3 rather than M1? A: It was reclassiﬁ ed pN3 from M1 in the sixth edition. No change in the seventh edition. Q: Are there other prognostic factors that are powerful enough to consider for inclusion in the TNM grading system? A: No. See “Considerations” below; B category regarding multiparameter assays. New Considerations Between Sixth and Seventh Editions. The Breast Cancer Task Force deliberated many important issues regarding the TNM staging system for the seventh edition.\n",
      "If the primary tumor is invasive (with a possible exception of microinvasive cancer), resection of at least the low axillary lymph nodes (Level I) – that is, those lymph nodes located lat- eral to the lateral border of the pectoralis minor muscle – should be performed for pathologic (pN) classiﬁ cation. Such a resec- tion will ordinarily include six or more lymph nodes. Alter- natively, one or more sentinel lymph nodes may be resected and examined for pathologic classiﬁ cation [pN(sn)]. Certain histologic invasive cancer types [classic tubular carcinoma <1 cm, classic mucinous carcinoma <1 cm, and microinva- sive carcinoma (pT1mi)] have a very low incidence of axillary lymph node metastases and may not require an axillary lymph node dissection, although sentinel lymph node biopsy may be appropriate. Cancerous nodules in the axillary fat adjacent to the breast, without histologic evidence of residual lymph node tissue, are classiﬁ ed as regional lymph node metastases ( ≥ N1). Pathologic stage grouping includes the following two combi- nations of pathologic and clinical classiﬁ cations: pT pN pM, or pT pN cM. If surgery occurs after the patient has received neoadjuvant chemotherapy, hormonal therapy, immunother- apy, or radiation therapy, the preﬁ x “yp” should be used with the TNM classiﬁ cation, for example, ypTNM. Primary Tumor (T) Determining Tumor Size. The original size of a primary tumor (T) can be measured based on clinical ﬁ ndings (physi- cal examination and imaging modalities such as mammog- raphy, ultrasound, and MRI) and pathologic ﬁ ndings (gross and microscopic measurements).\n",
      "Beginning with that initiative, six editions of the AJCC Staging Manual have been published, in which careful deﬁ nitions of the primary tumor (T), the status of the surrounding lymph nodes (N), and the presence of distant ANATOMIC STAGE/PROGNOSTIC GROUPS Stage 0 Tis N0 M0 Stage IA T1 * N0 M0 Stage IB T0 N1mi M0 T1 * N1mi M0 Stage IIA T0 N1 ** M0 T1 * N1 ** M0 T2 N0 M0 Stage IIB T2 N1 M0 T3 N0 M0 Stage IIIA T0 N2 M0 T1 * N2 M0 T2 N2 M0 T3 N1 M0 T3 N2 M0 Stage IIIB T4 N0 M0 T4 N1 M0 T4 N2 M0 Stage IIIC Any T N3 M0 Stage IV Any T Any N M1 ICD-O-3 TOPOGRAPHY CODES C50.0 Nipple C50.1 Central portion of breast C50.2 Upper inner quadrant of breast C50.3 Lower inner quadrant of breast C50.4 Upper outer quadrant of breast C50.5 Lower outer quadrant of breast C50.6 Axillary tail of breast C50.8 Overlapping lesion of breast C50.9 Breast, NOS ICD-O-3 HISTOLOGY CODE RANGES 8000–8576, 8940–8950, 8980–8981, 9020 Notes: * T1 includes T1mi. ** T0 and T1 tumors with nodal micrometastases only are excluded from Stage IIA and are classiﬁ ed Stage IB. ● M0 includes M0(i+). ● The designation pM0 is not valid; any M0 should be clinical. ● If a patient presents with M1 prior to neoadjuvant systemic therapy, the stage is considered stage IV and remains stage IV regardless of response to neoadjuvant therapy.\n",
      "The registrars are requested to describe how they deﬁ ned response [by physical examination, imaging tech- niques (mammogram, ultrasound, magnetic resonance imaging (MRI)) or pathologically] ● Patients will be considered to have M1 (and therefore Stage IV) breast cancer if they have had clinically or radiographically detectable metastases, with or without biopsy, prior to neoadjuvant systemic therapy, regardless of their status after neoadjuvant systemic therapy In order to view this proof accurately, the Overprint Preview Option must be set to Always in Acrobat Professional or Adobe Reader. Please contact your Customer Service Representative if you have questions about finding this option. Job Name: -- /381449t Breast 349 32 INTRODUCTION This staging system for carcinoma of the breast applies to inva- sive (also designated inﬁ ltrating) as well as in situ carcinomas, with or without microinvasion. Microscopic conﬁ rmation of the diagnosis is mandatory, and the histologic type and grade of carcinoma should be recorded. For all sites (T, N, M), clinical staging (c) is determined using information identiﬁ ed prior to surgery or neoadjuvant therapy. Pathologic staging (p) includes information deﬁ ned at surgery. With neoadju- vant therapy a posttherapy pathologic staging is recorded using the “yp” designator. The year 2009 marks the 50th anniversary of codiﬁ ca- tion of tumor staging into the TNM system by the Ameri- can Joint Committee on Cancer (AJCC; originally designated the American Joint Committee for Cancer Staging and End- Results Reporting).\n",
      " Job Name: -- /381449t 360 American Joint Committee on Cancer • 2010 Pathologic (pN)* (Continued) pN2 Metastases in 4–9 axillary lymph nodes; or in clinically detected **** internal mam- mary lymph nodes in the absence of axil- lary lymph node metastases pN2a Metastases in 4–9 axillary lymph nodes (at least one tumor deposit greater than 2.0 mm) pN2b Metastases in clinically detected **** inter- nal mammary lymph nodes in the absence of axillary lymph node metastases pN3 Metastases in ten or more axillary lymph nodes; or in infraclavicular (level III axillary) lymph nodes; or in clinically detected **** ipsilateral internal mammary lymph nodes in the presence of one or more positive level I, II axillary lymph nodes; or in more than three axillary lymph nodes and in internal mam- mary lymph nodes with micrometastases or macrometastases detected by sentinel lymph node biopsy but not clinically detected *** ; or in ipsilateral supraclavicular lymph nodes pN3a Metastases in ten or more axillary lymph nodes (at least one tumor deposit greater than 2.0 mm); or metastases to the infra- clavicular (level III axillary lymph) nodes pN3b Metastases in clinically detected **** ipsi- lateral internal mammary lymph nodes in the presence of one or more positive axillary lymph nodes; or in more than three axil- lary lymph nodes andin internal mammary lymph nodes with micro metastases or mac- rometastases detected by sentinel lymph node biopsy but not clinically detected *** pN3c Metastases in ipsilateral supraclavicular lymph nodes Notes: * Classiﬁ cation is based on axillary lymph node dissection with or without sentinel lymph node biopsy.\n",
      "Regional Lymph Nodes (N) Clinical NX Regional lymph nodes cannot be assessed (e.g., previously removed) N0 No regional lymph node metastases N1 Metastases to movable ipsilateral level I, II axillary lymph node(s) N2 Metastases in ipsilateral level I, II axillary lymph nodes that are clinically ﬁ xed or matted; or in clinically detected * ipsilateral internal mammary nodes in the absence of clinically evident axillary lymph node metastases N2a Metastases in ipsilateral level I, II axillary lymph nodes ﬁ xed to one another (matted) or to other structures N2b Metastases only in clinically detected * ipsilateral inter- nal mammary nodes and in the absence of clinically evident level I, II axillary lymph node metastases N3 Metastases in ipsilateral infraclavicular (level III axil- lary) lymph node(s) with or without level I, II axillary lymph node involvement; or in clinically detected * ipsilateral internal mammary lymph node(s) with clinically evident level I, II axillary lymph node metastases; or metastases in ipsilateral supraclavicu- lar lymph node(s) with or without axillary or inter- nal mammary lymph node involvement N3a Metastases in ipsilateral infraclavicular lymph node(s) N3b Metastases in ipsilateral internal mammary lymph node(s) and axillary lymph node(s) N3c Metastases in ipsilateral supraclavicular lymph node(s) * Note : Clinically detected is deﬁ ned as detected by imaging stud- ies (excluding lymphoscintigraphy) or by clinical examination and having characteristics highly suspicious for malignancy or a presumed pathologic macrometastasis based on ﬁ ne needle aspiration biopsy with cytologic examination.\n",
      "Indeed, the Breast Cancer Task Force made a major change from the ﬁ fth edition to the sixth edition in recommending that the N staging category be divided into three categories based on the number of axillary lymph nodes involved. In this regard, the current Breast Cancer Task Force came to the conclu- sion that although the TNM staging system provides insight into whether a patient’s prognosis is so favorable the patient might forego systemic therapy, it is becoming anachronistic with regard to making recommendations for speciﬁ c types of systemic therapy. Although T, N, and M do still provide some value in determining a patient’s future outcome, the average clinician today must take into account multiple factors that relate both to prognosis and prediction. For example, testing for estrogen and progesterone receptor content as well as HER2 status is now considered standard of care. 3 Although these factors do have intrinsic prognostic value in regards to the risk of sub- sequent recurrence for patients who do not receive systemic therapy, their main utility is to guide whether a patient should or should not receive adjuvant endocrine (anti-estrogen) or anti-HER2 (such as trastuzumab) therapy. The use of these factors as predictive, rather than prognostic, markers is fun- damentally important in evaluation and care of patients with newly diagnosed breast cancer, but the Committee found it difﬁ cult to devise a scheme in which they might be incorpo- rated into the TNM system. The situation has become even more complex with the availability of multigene expression assays. 4 One such assay, based on a 70-gene prognostic signature developed by inves- tigators from Amsterdam, 5 has been cleared by the United States Food and Drug Administration for use in women who are less than 61 years old and who have stage I or II, node negative breast cancer, explicitly to “assess a patient’s risk for distant metastases.” (http://www.accessdata.fda.gov/scripts/ cdrh/cfdocs/cfPMN/pmn.cfm?ID=24303).\n",
      "\n"
     ]
    }
   ],
   "source": [
    "print(retrieved_context)"
   ]
  },
  {
   "cell_type": "code",
   "execution_count": 84,
   "metadata": {},
   "outputs": [
    {
     "name": "stdout",
     "output_type": "stream",
     "text": [
      " 1. N0: No regional lymph node metastases. This means that there is no evidence of cancer in the lymph nodes near the breast after a clinical examination or imaging studies.\n",
      "2. N1: Metastases to movable ipsilateral level I, II axillary lymph node(s). This indicates that cancer has been found in the underarm lymph nodes and they are still moveable, meaning they are not attached to other structures.\n",
      "3. N2:\n",
      "a. Metastases in ipsilateral level I, II axillary lymph nodes that are clinically fixed or matted. This means that the cancer in the underarm lymph nodes has caused them to become attached to other structures.\n",
      "b. Metastases only in clinically detected ipsilateral internal mammary nodes in the absence of clinically evident axillary lymph node metastases. This indicates that cancer has been found in the lymph nodes near the breast bone but there is no evidence of cancer in the underarm lymph nodes.\n",
      "4. N3:\n",
      "a. Metastases in ipsilateral infraclavicular (level III axillary) lymph node(s) with or without level I, II axillary lymph node involvement. This means that cancer has been found in the lymph nodes below the collarbone, with or without involvement of the underarm lymph nodes.\n",
      "b. Metastases in ipsilateral internal mammary lymph node(s) with clinically evident level I, II axillary lymph node metastases. This indicates that cancer has been found in the lymph nodes near the breast bone and in the underarm lymph nodes.\n",
      "c. Metastases in ipsilateral supraclavicular lymph node(s) with or without axillary or internal mammary lymph node involvement. This means that cancer has been found in the lymph nodes above the collarbone, with or without involvement of the underarm or internal mammary lymph nodes.\n"
     ]
    }
   ],
   "source": [
    "ltm_rag2_n03 = agent(rule_generator_prompt.format(context = retrieved_context, question = main_query_n03))\n",
    "print(ltm_rag2_n03)"
   ]
  },
  {
   "cell_type": "markdown",
   "metadata": {},
   "source": [
    "# Writing context.json"
   ]
  },
  {
   "cell_type": "code",
   "execution_count": 86,
   "metadata": {},
   "outputs": [],
   "source": [
    "import json\n",
    "variables = {\n",
    "    \"rag_raw_t14\": rag_raw_t14,\n",
    "    \"rag_raw_n03\": rag_raw_n03,\n",
    "    \"ltm_zs_t14\": ltm_zs_t14,\n",
    "    \"ltm_zs_n03\": ltm_zs_n03,\n",
    "    \"ltm_rag1_t14\": ltm_rag1_t14,\n",
    "    \"ltm_rag1_n03\": ltm_rag1_n03,\n",
    "    \"ltm_rag2_t14\": ltm_rag2_t14,\n",
    "    \"ltm_rag2_n03\": ltm_rag2_n03\n",
    "}\n",
    "\n",
    "# Write the dictionary to a JSON file\n",
    "with open('context.json', 'w') as json_file:\n",
    "    json.dump(variables, json_file, indent=4)"
   ]
  },
  {
   "cell_type": "code",
   "execution_count": 87,
   "metadata": {},
   "outputs": [
    {
     "name": "stdout",
     "output_type": "stream",
     "text": [
      "Beginning with that initiative, six editions of the AJCC Staging Manual have been published, in which careful deﬁ nitions of the primary tumor (T), the status of the surrounding lymph nodes (N), and the presence of distant ANATOMIC STAGE/PROGNOSTIC GROUPS Stage 0 Tis N0 M0 Stage IA T1 * N0 M0 Stage IB T0 N1mi M0 T1 * N1mi M0 Stage IIA T0 N1 ** M0 T1 * N1 ** M0 T2 N0 M0 Stage IIB T2 N1 M0 T3 N0 M0 Stage IIIA T0 N2 M0 T1 * N2 M0 T2 N2 M0 T3 N1 M0 T3 N2 M0 Stage IIIB T4 N0 M0 T4 N1 M0 T4 N2 M0 Stage IIIC Any T N3 M0 Stage IV Any T Any N M1 ICD-O-3 TOPOGRAPHY CODES C50.0 Nipple C50.1 Central portion of breast C50.2 Upper inner quadrant of breast C50.3 Lower inner quadrant of breast C50.4 Upper outer quadrant of breast C50.5 Lower outer quadrant of breast C50.6 Axillary tail of breast C50.8 Overlapping lesion of breast C50.9 Breast, NOS ICD-O-3 HISTOLOGY CODE RANGES 8000–8576, 8940–8950, 8980–8981, 9020 Notes: * T1 includes T1mi. ** T0 and T1 tumors with nodal micrometastases only are excluded from Stage IIA and are classiﬁ ed Stage IB. ● M0 includes M0(i+). ● The designation pM0 is not valid; any M0 should be clinical. ● If a patient presents with M1 prior to neoadjuvant systemic therapy, the stage is considered stage IV and remains stage IV regardless of response to neoadjuvant therapy.\n",
      "The registrars are requested to describe how they deﬁ ned response [by physical examination, imaging tech- niques (mammogram, ultrasound, magnetic resonance imaging (MRI)) or pathologically] ● Patients will be considered to have M1 (and therefore Stage IV) breast cancer if they have had clinically or radiographically detectable metastases, with or without biopsy, prior to neoadjuvant systemic therapy, regardless of their status after neoadjuvant systemic therapy In order to view this proof accurately, the Overprint Preview Option must be set to Always in Acrobat Professional or Adobe Reader. Please contact your Customer Service Representative if you have questions about finding this option. Job Name: -- /381449t Breast 349 32 INTRODUCTION This staging system for carcinoma of the breast applies to inva- sive (also designated inﬁ ltrating) as well as in situ carcinomas, with or without microinvasion. Microscopic conﬁ rmation of the diagnosis is mandatory, and the histologic type and grade of carcinoma should be recorded. For all sites (T, N, M), clinical staging (c) is determined using information identiﬁ ed prior to surgery or neoadjuvant therapy. Pathologic staging (p) includes information deﬁ ned at surgery. With neoadju- vant therapy a posttherapy pathologic staging is recorded using the “yp” designator. The year 2009 marks the 50th anniversary of codiﬁ ca- tion of tumor staging into the TNM system by the Ameri- can Joint Committee on Cancer (AJCC; originally designated the American Joint Committee for Cancer Staging and End- Results Reporting).\n",
      "Designation should be made with the subscript “c” or “p” modiﬁ er to indicate whether the T classiﬁ cation was determined by clinical (physical examination or radiologic) or pathologic measurements, respectively. In general, pathologic determination should take precedence over clinical determination of T size. TX Primary tumor cannot be assessed T0 No evidence of primary tumor Tis Carcinoma in situ Tis (DCIS) Ductal carcinoma in situ Tis (LCIS) Lobular carcinoma in situ Tis (Paget’s) Paget’s disease of the nipple NOT associ- ated with invasive carcinoma and/or car- cinoma in situ (DCIS and/or LCIS) in the underlying breast parenchyma. Carcino- mas in the breast parenchyma associated with Paget’s disease are categorized based on the size and characteristics of the paren- chymal disease, although the presence of Paget’s disease should still be noted T1 Tumor ≤ 20 mm in greatest dimension T1mi Tumor ≤ 1 mm in greatest dimension T1a Tumor >1 mm but ≤ 5 mm in greatest dimension T1b Tumor >5 mm but ≤ 10 mm in greatest dimension T1c Tumor >10 mm but ≤ 20 mm in greatest dimension T2 Tumor >20 mm but ≤ 50 mm in greatest dimension T3 Tumor >50 mm in greatest dimension T4 Tumor of any size with direct extension to the chest wall and/or to the skin (ulcer- ation or skin nodules).\n",
      "Note: Invasion of the dermis alone does not qualify as T4 T4a Extension to the chest wall, not including only pectoralis muscle adherence/invasion T4b Ulceration and/or ipsilateral satellite nodules and/or edema (including peau d’orange) of the skin, which do not meet the criteria for inﬂ ammatory carcinoma T4c Both T4a and T4b T4d Inflammatory carcinoma (see “Rules for Classification”) FIGURE 32.3. Observed survival rates for 211,645 cases with carcinoma of the breast. Data from the National Cancer Data Base (Commission on Cancer of the American College of Surgeons and the American Cancer Society) diagnosed in years 2001–2002. Stage 0 includes 30,263; Stage I, 85,278; Stage IIA, 43,047; Stage IIB, 17,665; Stage IIIA, 13,983; Stage IIIB, 4,533; Stage IIIC, 6,741; and Stage IV, 10,135. In order to view this proof accurately, the Overprint Preview Option must be set to Always in Acrobat Professional or Adobe Reader. Please contact your Customer Service Representative if you have questions about finding this option. Job Name: -- /381449t Breast 359 32 Posttreatment ypT. Clinical (pretreatment) T will be deﬁ ned by clinical and radiographic ﬁ ndings, while y pathologic (posttreat- ment) T will be determined by pathologic size and extension. The ypT will be measured as the largest single focus of invasive tumor, with the modiﬁ er “m” indicating multiple foci. The mea- surement of the largest tumor focus should not include areas of ﬁ brosis within the tumor bed.\n",
      "The M category for patients treated with neoadjuvant therapy is the category assigned in the clinical stage, prior to initiation of neoadjuvant therapy. Identiﬁ cation of distant metastases after the start of therapy in cases where pretherapy evaluation showed no metastases is considered progression of disease. If a patient was designated to have detectable distant metastases (M1) before chemother- apy, the patient will be designated as M1 throughout. ANATOMIC STAGE/PROGNOSTIC GROUPS Stage 0 Tis N0 M0 Stage IA T1 * N0 M0 Stage IB T0 N1mi M0 T1 * N1mi M0 Stage IIA T0 N1 ** M0 T1 * N1 ** M0 T2 N0 M0 Stage IIB T2 N1 M0 T3 N0 M0 Stage IIIA T0 N2 M0 T1 * N2 M0 T2 N2 M0 T3 N1 M0 T3 N2 M0 Stage IIIB T4 N0 M0 T4 N1 M0 T4 N2 M0 Stage IIIC Any T N3 M0 Stage IV Any T Any N M1 In order to view this proof accurately, the Overprint Preview Option must be set to Always in Acrobat Professional or Adobe Reader. Please contact your Customer Service Representative if you have questions about finding this option. Job Name: -- /381449t Breast 361 32 Notes: * T1 includes T1mi. ** T0 and T1 tumors with nodal micrometastases only are excluded from Stage IIA and are classiﬁ ed Stage IB. ● M0 includes M0(i+). ● The designation pM0 is not valid; any M0 should be clinical. ● If a patient presents with M1 prior to neoadjuvant systemic therapy, the stage is considered Stage IV and remains Stage IV regardless of response to neoadjuvant therapy.\n",
      "\n",
      "Beginning with that initiative, six editions of the AJCC Staging Manual have been published, in which careful deﬁ nitions of the primary tumor (T), the status of the surrounding lymph nodes (N), and the presence of distant ANATOMIC STAGE/PROGNOSTIC GROUPS Stage 0 Tis N0 M0 Stage IA T1 * N0 M0 Stage IB T0 N1mi M0 T1 * N1mi M0 Stage IIA T0 N1 ** M0 T1 * N1 ** M0 T2 N0 M0 Stage IIB T2 N1 M0 T3 N0 M0 Stage IIIA T0 N2 M0 T1 * N2 M0 T2 N2 M0 T3 N1 M0 T3 N2 M0 Stage IIIB T4 N0 M0 T4 N1 M0 T4 N2 M0 Stage IIIC Any T N3 M0 Stage IV Any T Any N M1 ICD-O-3 TOPOGRAPHY CODES C50.0 Nipple C50.1 Central portion of breast C50.2 Upper inner quadrant of breast C50.3 Lower inner quadrant of breast C50.4 Upper outer quadrant of breast C50.5 Lower outer quadrant of breast C50.6 Axillary tail of breast C50.8 Overlapping lesion of breast C50.9 Breast, NOS ICD-O-3 HISTOLOGY CODE RANGES 8000–8576, 8940–8950, 8980–8981, 9020 Notes: * T1 includes T1mi. ** T0 and T1 tumors with nodal micrometastases only are excluded from Stage IIA and are classiﬁ ed Stage IB. ● M0 includes M0(i+). ● The designation pM0 is not valid; any M0 should be clinical. ● If a patient presents with M1 prior to neoadjuvant systemic therapy, the stage is considered stage IV and remains stage IV regardless of response to neoadjuvant therapy.\n",
      " Job Name: -- /381449t 360 American Joint Committee on Cancer • 2010 Pathologic (pN)* (Continued) pN2 Metastases in 4–9 axillary lymph nodes; or in clinically detected **** internal mam- mary lymph nodes in the absence of axil- lary lymph node metastases pN2a Metastases in 4–9 axillary lymph nodes (at least one tumor deposit greater than 2.0 mm) pN2b Metastases in clinically detected **** inter- nal mammary lymph nodes in the absence of axillary lymph node metastases pN3 Metastases in ten or more axillary lymph nodes; or in infraclavicular (level III axillary) lymph nodes; or in clinically detected **** ipsilateral internal mammary lymph nodes in the presence of one or more positive level I, II axillary lymph nodes; or in more than three axillary lymph nodes and in internal mam- mary lymph nodes with micrometastases or macrometastases detected by sentinel lymph node biopsy but not clinically detected *** ; or in ipsilateral supraclavicular lymph nodes pN3a Metastases in ten or more axillary lymph nodes (at least one tumor deposit greater than 2.0 mm); or metastases to the infra- clavicular (level III axillary lymph) nodes pN3b Metastases in clinically detected **** ipsi- lateral internal mammary lymph nodes in the presence of one or more positive axillary lymph nodes; or in more than three axil- lary lymph nodes andin internal mammary lymph nodes with micro metastases or mac- rometastases detected by sentinel lymph node biopsy but not clinically detected *** pN3c Metastases in ipsilateral supraclavicular lymph nodes Notes: * Classiﬁ cation is based on axillary lymph node dissection with or without sentinel lymph node biopsy.\n",
      "pN0(i−) No regional lymph node metastases histo- logically, negative IHC pN0(i+) Malignant cells in regional lymph node(s) no greater than 0.2 mm (detected by H&E or IHC including ITC) pN0 (mol−) No regional lymph node metastases histolog- ically, negative molecular ﬁ ndings (RT-PCR) pN0 (mol+) Positive molecular ﬁ ndings (RT-PCR), ** but no regional lymph node metastases detected by histology or IHC pN1 Micrometastases; or metastases in 1–3 axil- lary lymph nodes; and/or in internal mam- mary nodes with metastases detected by sentinel lymph node biopsy but not clinically detected *** pN1mi Micrometastases (greater than 0.2 mm and/ or more than 200 cells, but none greater than 2.0 mm) pN1a Metastases in 1–3 axillary lymph nodes, at least one metastasis greater than 2.0 mm pN1b Metastases in internal mammary nodes with micrometastases or macrometastases detected by sentinel lymph node biopsy but not clinically detected *** pN1c Metastases in 1–3 axillary lymph nodes and in internal mammary lymph nodes with microme- tastases or macrometastases detected by sentinel lymph node biopsy but not clinically detected In order to view this proof accurately, the Overprint Preview Option must be set to Always in Acrobat Professional or Adobe Reader. Please contact your Customer Service Representative if you have questions about finding this option.\n",
      "The M category for patients treated with neoadjuvant therapy is the category assigned in the clinical stage, prior to initiation of neoadjuvant therapy. Identiﬁ cation of distant metastases after the start of therapy in cases where pretherapy evaluation showed no metastases is considered progression of disease. If a patient was designated to have detectable distant metastases (M1) before chemother- apy, the patient will be designated as M1 throughout. ANATOMIC STAGE/PROGNOSTIC GROUPS Stage 0 Tis N0 M0 Stage IA T1 * N0 M0 Stage IB T0 N1mi M0 T1 * N1mi M0 Stage IIA T0 N1 ** M0 T1 * N1 ** M0 T2 N0 M0 Stage IIB T2 N1 M0 T3 N0 M0 Stage IIIA T0 N2 M0 T1 * N2 M0 T2 N2 M0 T3 N1 M0 T3 N2 M0 Stage IIIB T4 N0 M0 T4 N1 M0 T4 N2 M0 Stage IIIC Any T N3 M0 Stage IV Any T Any N M1 In order to view this proof accurately, the Overprint Preview Option must be set to Always in Acrobat Professional or Adobe Reader. Please contact your Customer Service Representative if you have questions about finding this option. Job Name: -- /381449t Breast 361 32 Notes: * T1 includes T1mi. ** T0 and T1 tumors with nodal micrometastases only are excluded from Stage IIA and are classiﬁ ed Stage IB. ● M0 includes M0(i+). ● The designation pM0 is not valid; any M0 should be clinical. ● If a patient presents with M1 prior to neoadjuvant systemic therapy, the stage is considered Stage IV and remains Stage IV regardless of response to neoadjuvant therapy.\n",
      "The registrars are requested to describe how they deﬁ ned response [by physical examination, imaging tech- niques (mammogram, ultrasound, magnetic resonance imaging (MRI)) or pathologically] ● Patients will be considered to have M1 (and therefore Stage IV) breast cancer if they have had clinically or radiographically detectable metastases, with or without biopsy, prior to neoadjuvant systemic therapy, regardless of their status after neoadjuvant systemic therapy In order to view this proof accurately, the Overprint Preview Option must be set to Always in Acrobat Professional or Adobe Reader. Please contact your Customer Service Representative if you have questions about finding this option. Job Name: -- /381449t Breast 349 32 INTRODUCTION This staging system for carcinoma of the breast applies to inva- sive (also designated inﬁ ltrating) as well as in situ carcinomas, with or without microinvasion. Microscopic conﬁ rmation of the diagnosis is mandatory, and the histologic type and grade of carcinoma should be recorded. For all sites (T, N, M), clinical staging (c) is determined using information identiﬁ ed prior to surgery or neoadjuvant therapy. Pathologic staging (p) includes information deﬁ ned at surgery. With neoadju- vant therapy a posttherapy pathologic staging is recorded using the “yp” designator. The year 2009 marks the 50th anniversary of codiﬁ ca- tion of tumor staging into the TNM system by the Ameri- can Joint Committee on Cancer (AJCC; originally designated the American Joint Committee for Cancer Staging and End- Results Reporting).\n",
      "\n",
      " Sure, I'd be happy to help with that! The American Joint Committee on Cancer (AJCC)'s TNM Staging System is a widely accepted method for staging breast cancer. The \"T\" in TNM refers to the size of the tumor and its extent of involvement in the breast. Here are some general rules that can help predict the T stage for breast cancer:\n",
      "\n",
      "* T1: The tumor is 2 centimeters (cm) or less in size. This can be further divided into T1mi (minimal invasion, tumor invades up to 0.1 cm), T1a (tumor invades 0.1 to 0.5 cm), T1b (tumor invades 0.5 to 1 cm), and T1c (tumor invades more than 1 cm but not more than 2 cm).\n",
      "* T2: The tumor is more than 2 cm but not more than 5 cm in size.\n",
      "* T3: The tumor is more than 5 cm in size. Alternatively, the tumor may be any size but has extension to the chest wall or skin. This can include inflammatory carcinoma, which is a clinical diagnosis characterized by diffuse erythema and edema of the breast skin.\n",
      "* T4: The tumor has extension to the chest wall and/or skin, regardless of tumor size. This can include ulceration or satellite skin nodules (T4a), invasion of the chest wall or ribs (T4b), or inflammatory carcinoma (T4d).\n",
      "\n",
      "It's important to note that these rules are general guidelines and may not apply to every case of breast cancer. The actual T stage should be determined by a qualified healthcare professional based on a thorough evaluation of the patient's medical history, physical examination, and diagnostic test results.\n",
      "\n",
      " Sure, I'd be happy to help with that! The AJCC's TNM Staging System is a widely accepted method for staging breast cancer, and it includes the assessment of regional lymph node involvement (N stage). Here are some general rules that can help predict the N stage for breast cancer:\n",
      "\n",
      "* N0: No lymph node involvement is found during clinical examination or imaging studies, and none of the sentinel lymph nodes (SLNs) or non-SLNs contain cancer cells upon pathological examination.\n",
      "* N1: Cancer is found in 1-3 axillary lymph nodes, and/or in the sentinel lymph node(s) with micrometastases (small clusters of cancer cells between 0.2-2.0 mm in size) or isolated tumor cells (small groups of cancer cells no larger than 0.2 mm in size).\n",
      "* N2: Cancer is found in 4-9 axillary lymph nodes, or in the inframammary (lower outer quadrant) or internal mammary lymph nodes.\n",
      "* N3: Cancer is found in 10 or more axillary lymph nodes, or in the ipsilateral (same side) supraclavicular lymph nodes. Additionally, cancer may be found in the inframammary or internal mammary lymph nodes with extranodal extension (cancer cells spreading beyond the lymph node into surrounding tissue).\n",
      "\n",
      "It's important to note that these rules are general guidelines and that the actual N stage for a patient with breast cancer will depend on a variety of factors, including the size and location of the tumor, the presence of any lymphovascular invasion, and the results of any imaging studies or biopsies. A qualified healthcare professional should always be consulted for an accurate diagnosis and staging of breast cancer.\n",
      "\n",
      " Sure, based on the AJCC's TNM Staging System for breast cancer, here are some general rules to help predict the T stage:\n",
      "\n",
      "1. T1: This stage includes invasive breast carcinomas that are 2 cm or less in size. This can be further divided into T1mi (microinvasion 0.1 cm or less), T1a (0.1 cm but less than 0.5 cm in size), T1b (0.5 cm but less than 1 cm in size), and T1c (1 cm but less than 2 cm in size).\n",
      "\n",
      "2. T2: This stage includes invasive breast carcinomas that are more than 2 cm but not more than 5 cm in size.\n",
      "\n",
      "3. T3: This stage includes invasive breast carcinomas that are more than 5 cm in size. It also includes tumors of any size with direct extension to the chest wall or skin.\n",
      "\n",
      "4. T4: This stage includes invasive breast carcinomas that have spread to the chest wall and/or the skin, resulting in ulceration (T4b) or satellite nodules (T4c), or inflammatory carcinoma (T4d). \n",
      "\n",
      "Please note that these are general rules and the actual T stage should be determined by a healthcare professional based on a variety of factors, including clinical examination, imaging studies, and pathological findings.\n",
      "\n",
      " Based on the provided context of the AJCC's TNM Staging System for breast cancer, here are the general rules to help predict the N stage:\n",
      "\n",
      "N0: \n",
      "If there are no positive lymph nodes in the axillary area, the N stage is N0. This means that the cancer has not spread to the lymph nodes.\n",
      "\n",
      "N1: \n",
      "1. If there are metastases to 1-3 axillary lymph nodes, or if there is a micrometastasis (size 0.2-2.0 mm) in a sentinel lymph node, the N stage is N1mi.\n",
      "2. If there are metastases to 1-3 axillary lymph nodes, with at least one tumor deposit greater than 2 mm, the N stage is N1.\n",
      "\n",
      "N2: \n",
      "If there are metastases to 4-9 axillary lymph nodes, or if there are clinically detected metastases to internal mammary lymph nodes in the absence of axillary metastases, the N stage is N2.\n",
      "\n",
      "N3: \n",
      "If there are metastases to 10 or more axillary lymph nodes, or if there are clinically detected metastases to ipsilateral internal mammary nodes in the presence of 1 or more positive axillary lymph nodes, or if there are clinically detected metastases to the ipsilateral supraclavicular lymph nodes, the N stage is N3.\n",
      "\n",
      "Additional notes:\n",
      "- T1 includes T1mi: This means that T1 tumors can include T1mi (microinvasive) tumors, which are 0.1 mm or greater in greatest dimension with stromal invasion 0.1 mm or more in length, not more than 1 mm in total.\n",
      "- T0 and T1 tumors with nodal micrometastases only are excluded from Stage IIA and are classified as Stage IB.\n",
      "- M0 includes M0(i+): This means that M0 (no distant metastasis) can include M0(i+) (microscopic residual tumor in a node or lesion that is not clinically apparent).\n",
      "- The designation pM0 is not valid; any M0 should be clinical. This means that the pathological designation pM0 (no microscopic evidence of distant metastasis) is not used; instead, the clinical designation M0 (no distant metastasis) should be used.\n",
      "- If a patient presents with M1 prior to neoadjuvant systemic therapy, the stage is considered stage IV and remains stage IV regardless of response to neoadjuvant therapy. This means that if distant metastases are detected before neoadjuvant systemic therapy, the patient will be classified as stage IV, and this stage will not change even if the therapy is successful.\n",
      "\n",
      " Based on the provided context, here are the general rules that help predict the T stage for breast cancer according to the AJCC's TNM Staging System:\n",
      "\n",
      "1. T1: This stage includes invasive breast carcinomas that are 2 cm or less in size. It can be further divided into T1a, T1b, and T1c based on the size of the tumor. T1a is for tumors 0.5 cm or less, T1b is for tumors larger than 0.5 cm but not more than 1 cm, and T1c is for tumors larger than 1 cm but not more than 2 cm.\n",
      "\n",
      "2. T2: This stage includes invasive breast carcinomas that are larger than 2 cm but not more than 5 cm.\n",
      "\n",
      "3. T3: This stage includes invasive breast carcinomas that are larger than 5 cm. It also includes breast carcinomas of any size with direct extension to the chest wall or skin.\n",
      "\n",
      "4. T4: This stage includes invasive breast carcinomas that have direct extension to the chest wall and/or skin. T4 can be further divided into T4a, T4b, T4c, and T4d based on the specific extent of the invasion. T4a is for tumors with extension to the chest wall, T4b is for inflammatory carcinoma, T4c is for tumors with both chest wall and skin involvement, and T4d is for inflammatory carcinoma with ipsilateral satellite nodules and/or edema of the skin that does not meet the criteria for T4b.\n",
      "\n",
      "Please note that these rules are based on the size and extent of the primary tumor and do not include the factors related to the nodal (N) and metastatic (M) stages.\n",
      "\n",
      " 1. N0: No regional lymph node metastases. This means that there is no evidence of cancer in the lymph nodes near the breast after a clinical examination or imaging studies.\n",
      "2. N1: Metastases to movable ipsilateral level I, II axillary lymph node(s). This indicates that cancer has been found in the underarm lymph nodes and they are still moveable, meaning they are not attached to other structures.\n",
      "3. N2:\n",
      "a. Metastases in ipsilateral level I, II axillary lymph nodes that are clinically fixed or matted. This means that the cancer in the underarm lymph nodes has caused them to become attached to other structures.\n",
      "b. Metastases only in clinically detected ipsilateral internal mammary nodes in the absence of clinically evident axillary lymph node metastases. This indicates that cancer has been found in the lymph nodes near the breast bone but there is no evidence of cancer in the underarm lymph nodes.\n",
      "4. N3:\n",
      "a. Metastases in ipsilateral infraclavicular (level III axillary) lymph node(s) with or without level I, II axillary lymph node involvement. This means that cancer has been found in the lymph nodes below the collarbone, with or without involvement of the underarm lymph nodes.\n",
      "b. Metastases in ipsilateral internal mammary lymph node(s) with clinically evident level I, II axillary lymph node metastases. This indicates that cancer has been found in the lymph nodes near the breast bone and in the underarm lymph nodes.\n",
      "c. Metastases in ipsilateral supraclavicular lymph node(s) with or without axillary or internal mammary lymph node involvement. This means that cancer has been found in the lymph nodes above the collarbone, with or without involvement of the underarm or internal mammary lymph nodes.\n"
     ]
    }
   ],
   "source": [
    "print(rag_raw_t14)\n",
    "print()\n",
    "print(rag_raw_n03)\n",
    "print()\n",
    "print(ltm_zs_t14)\n",
    "print()\n",
    "print(ltm_zs_n03)\n",
    "print()\n",
    "print(ltm_rag1_t14)\n",
    "print()\n",
    "print(ltm_rag1_n03)\n",
    "print()\n",
    "print(ltm_rag2_t14)\n",
    "print()\n",
    "print(ltm_rag2_n03)"
   ]
  },
  {
   "cell_type": "code",
   "execution_count": null,
   "metadata": {},
   "outputs": [],
   "source": []
  },
  {
   "cell_type": "code",
   "execution_count": 88,
   "metadata": {},
   "outputs": [],
   "source": [
    "with open(\"/home/yl3427/cylab/rag_tnm/selfCorrectionAgent/src/context.json\", \"r\") as f:\n",
    "    context = json.load(f)\n",
    "\n",
    "rag_raw_t14 = context[\"rag_raw_t14\"]\n",
    "rag_raw_n03 = context[\"rag_raw_n03\"]\n",
    "ltm_zs_t14 = context[\"ltm_zs_t14\"]\n",
    "ltm_zs_n03 = context[\"ltm_zs_n03\"]\n",
    "ltm_rag1_t14 = context[\"ltm_rag1_t14\"]\n",
    "ltm_rag1_n03 = context[\"ltm_rag1_n03\"]\n",
    "ltm_rag2_t14 = context[\"ltm_rag2_t14\"]\n",
    "ltm_rag2_n03 = context[\"ltm_rag2_n03\"]"
   ]
  },
  {
   "cell_type": "code",
   "execution_count": 89,
   "metadata": {},
   "outputs": [
    {
     "name": "stdout",
     "output_type": "stream",
     "text": [
      "Beginning with that initiative, six editions of the AJCC Staging Manual have been published, in which careful deﬁ nitions of the primary tumor (T), the status of the surrounding lymph nodes (N), and the presence of distant ANATOMIC STAGE/PROGNOSTIC GROUPS Stage 0 Tis N0 M0 Stage IA T1 * N0 M0 Stage IB T0 N1mi M0 T1 * N1mi M0 Stage IIA T0 N1 ** M0 T1 * N1 ** M0 T2 N0 M0 Stage IIB T2 N1 M0 T3 N0 M0 Stage IIIA T0 N2 M0 T1 * N2 M0 T2 N2 M0 T3 N1 M0 T3 N2 M0 Stage IIIB T4 N0 M0 T4 N1 M0 T4 N2 M0 Stage IIIC Any T N3 M0 Stage IV Any T Any N M1 ICD-O-3 TOPOGRAPHY CODES C50.0 Nipple C50.1 Central portion of breast C50.2 Upper inner quadrant of breast C50.3 Lower inner quadrant of breast C50.4 Upper outer quadrant of breast C50.5 Lower outer quadrant of breast C50.6 Axillary tail of breast C50.8 Overlapping lesion of breast C50.9 Breast, NOS ICD-O-3 HISTOLOGY CODE RANGES 8000–8576, 8940–8950, 8980–8981, 9020 Notes: * T1 includes T1mi. ** T0 and T1 tumors with nodal micrometastases only are excluded from Stage IIA and are classiﬁ ed Stage IB. ● M0 includes M0(i+). ● The designation pM0 is not valid; any M0 should be clinical. ● If a patient presents with M1 prior to neoadjuvant systemic therapy, the stage is considered stage IV and remains stage IV regardless of response to neoadjuvant therapy.\n",
      "The registrars are requested to describe how they deﬁ ned response [by physical examination, imaging tech- niques (mammogram, ultrasound, magnetic resonance imaging (MRI)) or pathologically] ● Patients will be considered to have M1 (and therefore Stage IV) breast cancer if they have had clinically or radiographically detectable metastases, with or without biopsy, prior to neoadjuvant systemic therapy, regardless of their status after neoadjuvant systemic therapy In order to view this proof accurately, the Overprint Preview Option must be set to Always in Acrobat Professional or Adobe Reader. Please contact your Customer Service Representative if you have questions about finding this option. Job Name: -- /381449t Breast 349 32 INTRODUCTION This staging system for carcinoma of the breast applies to inva- sive (also designated inﬁ ltrating) as well as in situ carcinomas, with or without microinvasion. Microscopic conﬁ rmation of the diagnosis is mandatory, and the histologic type and grade of carcinoma should be recorded. For all sites (T, N, M), clinical staging (c) is determined using information identiﬁ ed prior to surgery or neoadjuvant therapy. Pathologic staging (p) includes information deﬁ ned at surgery. With neoadju- vant therapy a posttherapy pathologic staging is recorded using the “yp” designator. The year 2009 marks the 50th anniversary of codiﬁ ca- tion of tumor staging into the TNM system by the Ameri- can Joint Committee on Cancer (AJCC; originally designated the American Joint Committee for Cancer Staging and End- Results Reporting).\n",
      "Designation should be made with the subscript “c” or “p” modiﬁ er to indicate whether the T classiﬁ cation was determined by clinical (physical examination or radiologic) or pathologic measurements, respectively. In general, pathologic determination should take precedence over clinical determination of T size. TX Primary tumor cannot be assessed T0 No evidence of primary tumor Tis Carcinoma in situ Tis (DCIS) Ductal carcinoma in situ Tis (LCIS) Lobular carcinoma in situ Tis (Paget’s) Paget’s disease of the nipple NOT associ- ated with invasive carcinoma and/or car- cinoma in situ (DCIS and/or LCIS) in the underlying breast parenchyma. Carcino- mas in the breast parenchyma associated with Paget’s disease are categorized based on the size and characteristics of the paren- chymal disease, although the presence of Paget’s disease should still be noted T1 Tumor ≤ 20 mm in greatest dimension T1mi Tumor ≤ 1 mm in greatest dimension T1a Tumor >1 mm but ≤ 5 mm in greatest dimension T1b Tumor >5 mm but ≤ 10 mm in greatest dimension T1c Tumor >10 mm but ≤ 20 mm in greatest dimension T2 Tumor >20 mm but ≤ 50 mm in greatest dimension T3 Tumor >50 mm in greatest dimension T4 Tumor of any size with direct extension to the chest wall and/or to the skin (ulcer- ation or skin nodules).\n",
      "Note: Invasion of the dermis alone does not qualify as T4 T4a Extension to the chest wall, not including only pectoralis muscle adherence/invasion T4b Ulceration and/or ipsilateral satellite nodules and/or edema (including peau d’orange) of the skin, which do not meet the criteria for inﬂ ammatory carcinoma T4c Both T4a and T4b T4d Inflammatory carcinoma (see “Rules for Classification”) FIGURE 32.3. Observed survival rates for 211,645 cases with carcinoma of the breast. Data from the National Cancer Data Base (Commission on Cancer of the American College of Surgeons and the American Cancer Society) diagnosed in years 2001–2002. Stage 0 includes 30,263; Stage I, 85,278; Stage IIA, 43,047; Stage IIB, 17,665; Stage IIIA, 13,983; Stage IIIB, 4,533; Stage IIIC, 6,741; and Stage IV, 10,135. In order to view this proof accurately, the Overprint Preview Option must be set to Always in Acrobat Professional or Adobe Reader. Please contact your Customer Service Representative if you have questions about finding this option. Job Name: -- /381449t Breast 359 32 Posttreatment ypT. Clinical (pretreatment) T will be deﬁ ned by clinical and radiographic ﬁ ndings, while y pathologic (posttreat- ment) T will be determined by pathologic size and extension. The ypT will be measured as the largest single focus of invasive tumor, with the modiﬁ er “m” indicating multiple foci. The mea- surement of the largest tumor focus should not include areas of ﬁ brosis within the tumor bed.\n",
      "The M category for patients treated with neoadjuvant therapy is the category assigned in the clinical stage, prior to initiation of neoadjuvant therapy. Identiﬁ cation of distant metastases after the start of therapy in cases where pretherapy evaluation showed no metastases is considered progression of disease. If a patient was designated to have detectable distant metastases (M1) before chemother- apy, the patient will be designated as M1 throughout. ANATOMIC STAGE/PROGNOSTIC GROUPS Stage 0 Tis N0 M0 Stage IA T1 * N0 M0 Stage IB T0 N1mi M0 T1 * N1mi M0 Stage IIA T0 N1 ** M0 T1 * N1 ** M0 T2 N0 M0 Stage IIB T2 N1 M0 T3 N0 M0 Stage IIIA T0 N2 M0 T1 * N2 M0 T2 N2 M0 T3 N1 M0 T3 N2 M0 Stage IIIB T4 N0 M0 T4 N1 M0 T4 N2 M0 Stage IIIC Any T N3 M0 Stage IV Any T Any N M1 In order to view this proof accurately, the Overprint Preview Option must be set to Always in Acrobat Professional or Adobe Reader. Please contact your Customer Service Representative if you have questions about finding this option. Job Name: -- /381449t Breast 361 32 Notes: * T1 includes T1mi. ** T0 and T1 tumors with nodal micrometastases only are excluded from Stage IIA and are classiﬁ ed Stage IB. ● M0 includes M0(i+). ● The designation pM0 is not valid; any M0 should be clinical. ● If a patient presents with M1 prior to neoadjuvant systemic therapy, the stage is considered Stage IV and remains Stage IV regardless of response to neoadjuvant therapy.\n",
      "\n",
      "Beginning with that initiative, six editions of the AJCC Staging Manual have been published, in which careful deﬁ nitions of the primary tumor (T), the status of the surrounding lymph nodes (N), and the presence of distant ANATOMIC STAGE/PROGNOSTIC GROUPS Stage 0 Tis N0 M0 Stage IA T1 * N0 M0 Stage IB T0 N1mi M0 T1 * N1mi M0 Stage IIA T0 N1 ** M0 T1 * N1 ** M0 T2 N0 M0 Stage IIB T2 N1 M0 T3 N0 M0 Stage IIIA T0 N2 M0 T1 * N2 M0 T2 N2 M0 T3 N1 M0 T3 N2 M0 Stage IIIB T4 N0 M0 T4 N1 M0 T4 N2 M0 Stage IIIC Any T N3 M0 Stage IV Any T Any N M1 ICD-O-3 TOPOGRAPHY CODES C50.0 Nipple C50.1 Central portion of breast C50.2 Upper inner quadrant of breast C50.3 Lower inner quadrant of breast C50.4 Upper outer quadrant of breast C50.5 Lower outer quadrant of breast C50.6 Axillary tail of breast C50.8 Overlapping lesion of breast C50.9 Breast, NOS ICD-O-3 HISTOLOGY CODE RANGES 8000–8576, 8940–8950, 8980–8981, 9020 Notes: * T1 includes T1mi. ** T0 and T1 tumors with nodal micrometastases only are excluded from Stage IIA and are classiﬁ ed Stage IB. ● M0 includes M0(i+). ● The designation pM0 is not valid; any M0 should be clinical. ● If a patient presents with M1 prior to neoadjuvant systemic therapy, the stage is considered stage IV and remains stage IV regardless of response to neoadjuvant therapy.\n",
      " Job Name: -- /381449t 360 American Joint Committee on Cancer • 2010 Pathologic (pN)* (Continued) pN2 Metastases in 4–9 axillary lymph nodes; or in clinically detected **** internal mam- mary lymph nodes in the absence of axil- lary lymph node metastases pN2a Metastases in 4–9 axillary lymph nodes (at least one tumor deposit greater than 2.0 mm) pN2b Metastases in clinically detected **** inter- nal mammary lymph nodes in the absence of axillary lymph node metastases pN3 Metastases in ten or more axillary lymph nodes; or in infraclavicular (level III axillary) lymph nodes; or in clinically detected **** ipsilateral internal mammary lymph nodes in the presence of one or more positive level I, II axillary lymph nodes; or in more than three axillary lymph nodes and in internal mam- mary lymph nodes with micrometastases or macrometastases detected by sentinel lymph node biopsy but not clinically detected *** ; or in ipsilateral supraclavicular lymph nodes pN3a Metastases in ten or more axillary lymph nodes (at least one tumor deposit greater than 2.0 mm); or metastases to the infra- clavicular (level III axillary lymph) nodes pN3b Metastases in clinically detected **** ipsi- lateral internal mammary lymph nodes in the presence of one or more positive axillary lymph nodes; or in more than three axil- lary lymph nodes andin internal mammary lymph nodes with micro metastases or mac- rometastases detected by sentinel lymph node biopsy but not clinically detected *** pN3c Metastases in ipsilateral supraclavicular lymph nodes Notes: * Classiﬁ cation is based on axillary lymph node dissection with or without sentinel lymph node biopsy.\n",
      "pN0(i−) No regional lymph node metastases histo- logically, negative IHC pN0(i+) Malignant cells in regional lymph node(s) no greater than 0.2 mm (detected by H&E or IHC including ITC) pN0 (mol−) No regional lymph node metastases histolog- ically, negative molecular ﬁ ndings (RT-PCR) pN0 (mol+) Positive molecular ﬁ ndings (RT-PCR), ** but no regional lymph node metastases detected by histology or IHC pN1 Micrometastases; or metastases in 1–3 axil- lary lymph nodes; and/or in internal mam- mary nodes with metastases detected by sentinel lymph node biopsy but not clinically detected *** pN1mi Micrometastases (greater than 0.2 mm and/ or more than 200 cells, but none greater than 2.0 mm) pN1a Metastases in 1–3 axillary lymph nodes, at least one metastasis greater than 2.0 mm pN1b Metastases in internal mammary nodes with micrometastases or macrometastases detected by sentinel lymph node biopsy but not clinically detected *** pN1c Metastases in 1–3 axillary lymph nodes and in internal mammary lymph nodes with microme- tastases or macrometastases detected by sentinel lymph node biopsy but not clinically detected In order to view this proof accurately, the Overprint Preview Option must be set to Always in Acrobat Professional or Adobe Reader. Please contact your Customer Service Representative if you have questions about finding this option.\n",
      "The M category for patients treated with neoadjuvant therapy is the category assigned in the clinical stage, prior to initiation of neoadjuvant therapy. Identiﬁ cation of distant metastases after the start of therapy in cases where pretherapy evaluation showed no metastases is considered progression of disease. If a patient was designated to have detectable distant metastases (M1) before chemother- apy, the patient will be designated as M1 throughout. ANATOMIC STAGE/PROGNOSTIC GROUPS Stage 0 Tis N0 M0 Stage IA T1 * N0 M0 Stage IB T0 N1mi M0 T1 * N1mi M0 Stage IIA T0 N1 ** M0 T1 * N1 ** M0 T2 N0 M0 Stage IIB T2 N1 M0 T3 N0 M0 Stage IIIA T0 N2 M0 T1 * N2 M0 T2 N2 M0 T3 N1 M0 T3 N2 M0 Stage IIIB T4 N0 M0 T4 N1 M0 T4 N2 M0 Stage IIIC Any T N3 M0 Stage IV Any T Any N M1 In order to view this proof accurately, the Overprint Preview Option must be set to Always in Acrobat Professional or Adobe Reader. Please contact your Customer Service Representative if you have questions about finding this option. Job Name: -- /381449t Breast 361 32 Notes: * T1 includes T1mi. ** T0 and T1 tumors with nodal micrometastases only are excluded from Stage IIA and are classiﬁ ed Stage IB. ● M0 includes M0(i+). ● The designation pM0 is not valid; any M0 should be clinical. ● If a patient presents with M1 prior to neoadjuvant systemic therapy, the stage is considered Stage IV and remains Stage IV regardless of response to neoadjuvant therapy.\n",
      "The registrars are requested to describe how they deﬁ ned response [by physical examination, imaging tech- niques (mammogram, ultrasound, magnetic resonance imaging (MRI)) or pathologically] ● Patients will be considered to have M1 (and therefore Stage IV) breast cancer if they have had clinically or radiographically detectable metastases, with or without biopsy, prior to neoadjuvant systemic therapy, regardless of their status after neoadjuvant systemic therapy In order to view this proof accurately, the Overprint Preview Option must be set to Always in Acrobat Professional or Adobe Reader. Please contact your Customer Service Representative if you have questions about finding this option. Job Name: -- /381449t Breast 349 32 INTRODUCTION This staging system for carcinoma of the breast applies to inva- sive (also designated inﬁ ltrating) as well as in situ carcinomas, with or without microinvasion. Microscopic conﬁ rmation of the diagnosis is mandatory, and the histologic type and grade of carcinoma should be recorded. For all sites (T, N, M), clinical staging (c) is determined using information identiﬁ ed prior to surgery or neoadjuvant therapy. Pathologic staging (p) includes information deﬁ ned at surgery. With neoadju- vant therapy a posttherapy pathologic staging is recorded using the “yp” designator. The year 2009 marks the 50th anniversary of codiﬁ ca- tion of tumor staging into the TNM system by the Ameri- can Joint Committee on Cancer (AJCC; originally designated the American Joint Committee for Cancer Staging and End- Results Reporting).\n",
      "\n",
      " Sure, I'd be happy to help with that! The American Joint Committee on Cancer (AJCC)'s TNM Staging System is a widely accepted method for staging breast cancer. The \"T\" in TNM refers to the size of the tumor and its extent of involvement in the breast. Here are some general rules that can help predict the T stage for breast cancer:\n",
      "\n",
      "* T1: The tumor is 2 centimeters (cm) or less in size. This can be further divided into T1mi (minimal invasion, tumor invades up to 0.1 cm), T1a (tumor invades 0.1 to 0.5 cm), T1b (tumor invades 0.5 to 1 cm), and T1c (tumor invades more than 1 cm but not more than 2 cm).\n",
      "* T2: The tumor is more than 2 cm but not more than 5 cm in size.\n",
      "* T3: The tumor is more than 5 cm in size. Alternatively, the tumor may be any size but has extension to the chest wall or skin. This can include inflammatory carcinoma, which is a clinical diagnosis characterized by diffuse erythema and edema of the breast skin.\n",
      "* T4: The tumor has extension to the chest wall and/or skin, regardless of tumor size. This can include ulceration or satellite skin nodules (T4a), invasion of the chest wall or ribs (T4b), or inflammatory carcinoma (T4d).\n",
      "\n",
      "It's important to note that these rules are general guidelines and may not apply to every case of breast cancer. The actual T stage should be determined by a qualified healthcare professional based on a thorough evaluation of the patient's medical history, physical examination, and diagnostic test results.\n",
      "\n",
      " Sure, I'd be happy to help with that! The AJCC's TNM Staging System is a widely accepted method for staging breast cancer, and it includes the assessment of regional lymph node involvement (N stage). Here are some general rules that can help predict the N stage for breast cancer:\n",
      "\n",
      "* N0: No lymph node involvement is found during clinical examination or imaging studies, and none of the sentinel lymph nodes (SLNs) or non-SLNs contain cancer cells upon pathological examination.\n",
      "* N1: Cancer is found in 1-3 axillary lymph nodes, and/or in the sentinel lymph node(s) with micrometastases (small clusters of cancer cells between 0.2-2.0 mm in size) or isolated tumor cells (small groups of cancer cells no larger than 0.2 mm in size).\n",
      "* N2: Cancer is found in 4-9 axillary lymph nodes, or in the inframammary (lower outer quadrant) or internal mammary lymph nodes.\n",
      "* N3: Cancer is found in 10 or more axillary lymph nodes, or in the ipsilateral (same side) supraclavicular lymph nodes. Additionally, cancer may be found in the inframammary or internal mammary lymph nodes with extranodal extension (cancer cells spreading beyond the lymph node into surrounding tissue).\n",
      "\n",
      "It's important to note that these rules are general guidelines and that the actual N stage for a patient with breast cancer will depend on a variety of factors, including the size and location of the tumor, the presence of any lymphovascular invasion, and the results of any imaging studies or biopsies. A qualified healthcare professional should always be consulted for an accurate diagnosis and staging of breast cancer.\n",
      "\n",
      " Sure, based on the AJCC's TNM Staging System for breast cancer, here are some general rules to help predict the T stage:\n",
      "\n",
      "1. T1: This stage includes invasive breast carcinomas that are 2 cm or less in size. This can be further divided into T1mi (microinvasion 0.1 cm or less), T1a (0.1 cm but less than 0.5 cm in size), T1b (0.5 cm but less than 1 cm in size), and T1c (1 cm but less than 2 cm in size).\n",
      "\n",
      "2. T2: This stage includes invasive breast carcinomas that are more than 2 cm but not more than 5 cm in size.\n",
      "\n",
      "3. T3: This stage includes invasive breast carcinomas that are more than 5 cm in size. It also includes tumors of any size with direct extension to the chest wall or skin.\n",
      "\n",
      "4. T4: This stage includes invasive breast carcinomas that have spread to the chest wall and/or the skin, resulting in ulceration (T4b) or satellite nodules (T4c), or inflammatory carcinoma (T4d). \n",
      "\n",
      "Please note that these are general rules and the actual T stage should be determined by a healthcare professional based on a variety of factors, including clinical examination, imaging studies, and pathological findings.\n",
      "\n",
      " Based on the provided context of the AJCC's TNM Staging System for breast cancer, here are the general rules to help predict the N stage:\n",
      "\n",
      "N0: \n",
      "If there are no positive lymph nodes in the axillary area, the N stage is N0. This means that the cancer has not spread to the lymph nodes.\n",
      "\n",
      "N1: \n",
      "1. If there are metastases to 1-3 axillary lymph nodes, or if there is a micrometastasis (size 0.2-2.0 mm) in a sentinel lymph node, the N stage is N1mi.\n",
      "2. If there are metastases to 1-3 axillary lymph nodes, with at least one tumor deposit greater than 2 mm, the N stage is N1.\n",
      "\n",
      "N2: \n",
      "If there are metastases to 4-9 axillary lymph nodes, or if there are clinically detected metastases to internal mammary lymph nodes in the absence of axillary metastases, the N stage is N2.\n",
      "\n",
      "N3: \n",
      "If there are metastases to 10 or more axillary lymph nodes, or if there are clinically detected metastases to ipsilateral internal mammary nodes in the presence of 1 or more positive axillary lymph nodes, or if there are clinically detected metastases to the ipsilateral supraclavicular lymph nodes, the N stage is N3.\n",
      "\n",
      "Additional notes:\n",
      "- T1 includes T1mi: This means that T1 tumors can include T1mi (microinvasive) tumors, which are 0.1 mm or greater in greatest dimension with stromal invasion 0.1 mm or more in length, not more than 1 mm in total.\n",
      "- T0 and T1 tumors with nodal micrometastases only are excluded from Stage IIA and are classified as Stage IB.\n",
      "- M0 includes M0(i+): This means that M0 (no distant metastasis) can include M0(i+) (microscopic residual tumor in a node or lesion that is not clinically apparent).\n",
      "- The designation pM0 is not valid; any M0 should be clinical. This means that the pathological designation pM0 (no microscopic evidence of distant metastasis) is not used; instead, the clinical designation M0 (no distant metastasis) should be used.\n",
      "- If a patient presents with M1 prior to neoadjuvant systemic therapy, the stage is considered stage IV and remains stage IV regardless of response to neoadjuvant therapy. This means that if distant metastases are detected before neoadjuvant systemic therapy, the patient will be classified as stage IV, and this stage will not change even if the therapy is successful.\n",
      "\n",
      " Based on the provided context, here are the general rules that help predict the T stage for breast cancer according to the AJCC's TNM Staging System:\n",
      "\n",
      "1. T1: This stage includes invasive breast carcinomas that are 2 cm or less in size. It can be further divided into T1a, T1b, and T1c based on the size of the tumor. T1a is for tumors 0.5 cm or less, T1b is for tumors larger than 0.5 cm but not more than 1 cm, and T1c is for tumors larger than 1 cm but not more than 2 cm.\n",
      "\n",
      "2. T2: This stage includes invasive breast carcinomas that are larger than 2 cm but not more than 5 cm.\n",
      "\n",
      "3. T3: This stage includes invasive breast carcinomas that are larger than 5 cm. It also includes breast carcinomas of any size with direct extension to the chest wall or skin.\n",
      "\n",
      "4. T4: This stage includes invasive breast carcinomas that have direct extension to the chest wall and/or skin. T4 can be further divided into T4a, T4b, T4c, and T4d based on the specific extent of the invasion. T4a is for tumors with extension to the chest wall, T4b is for inflammatory carcinoma, T4c is for tumors with both chest wall and skin involvement, and T4d is for inflammatory carcinoma with ipsilateral satellite nodules and/or edema of the skin that does not meet the criteria for T4b.\n",
      "\n",
      "Please note that these rules are based on the size and extent of the primary tumor and do not include the factors related to the nodal (N) and metastatic (M) stages.\n",
      "\n",
      " 1. N0: No regional lymph node metastases. This means that there is no evidence of cancer in the lymph nodes near the breast after a clinical examination or imaging studies.\n",
      "2. N1: Metastases to movable ipsilateral level I, II axillary lymph node(s). This indicates that cancer has been found in the underarm lymph nodes and they are still moveable, meaning they are not attached to other structures.\n",
      "3. N2:\n",
      "a. Metastases in ipsilateral level I, II axillary lymph nodes that are clinically fixed or matted. This means that the cancer in the underarm lymph nodes has caused them to become attached to other structures.\n",
      "b. Metastases only in clinically detected ipsilateral internal mammary nodes in the absence of clinically evident axillary lymph node metastases. This indicates that cancer has been found in the lymph nodes near the breast bone but there is no evidence of cancer in the underarm lymph nodes.\n",
      "4. N3:\n",
      "a. Metastases in ipsilateral infraclavicular (level III axillary) lymph node(s) with or without level I, II axillary lymph node involvement. This means that cancer has been found in the lymph nodes below the collarbone, with or without involvement of the underarm lymph nodes.\n",
      "b. Metastases in ipsilateral internal mammary lymph node(s) with clinically evident level I, II axillary lymph node metastases. This indicates that cancer has been found in the lymph nodes near the breast bone and in the underarm lymph nodes.\n",
      "c. Metastases in ipsilateral supraclavicular lymph node(s) with or without axillary or internal mammary lymph node involvement. This means that cancer has been found in the lymph nodes above the collarbone, with or without involvement of the underarm or internal mammary lymph nodes.\n"
     ]
    }
   ],
   "source": [
    "print(rag_raw_t14)\n",
    "print()\n",
    "print(rag_raw_n03)\n",
    "print()\n",
    "print(ltm_zs_t14)\n",
    "print()\n",
    "print(ltm_zs_n03)\n",
    "print()\n",
    "print(ltm_rag1_t14)\n",
    "print()\n",
    "print(ltm_rag1_n03)\n",
    "print()\n",
    "print(ltm_rag2_t14)\n",
    "print()\n",
    "print(ltm_rag2_n03)"
   ]
  }
 ],
 "metadata": {
  "kernelspec": {
   "display_name": "embed_env",
   "language": "python",
   "name": "python3"
  },
  "language_info": {
   "codemirror_mode": {
    "name": "ipython",
    "version": 3
   },
   "file_extension": ".py",
   "mimetype": "text/x-python",
   "name": "python",
   "nbconvert_exporter": "python",
   "pygments_lexer": "ipython3",
   "version": "3.9.19"
  }
 },
 "nbformat": 4,
 "nbformat_minor": 2
}
