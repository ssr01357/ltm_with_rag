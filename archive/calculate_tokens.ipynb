{
 "cells": [
  {
   "cell_type": "code",
   "execution_count": 1,
   "metadata": {},
   "outputs": [],
   "source": [
    "from transformers import AutoTokenizer\n",
    "import pandas as pd\n",
    "import os\n",
    "\n",
    "from src.prompts import system_instruction, basic_prompt\n",
    "\n",
    "def create_dir_if_not_exist(path):\n",
    "    isExist = os.path.exists(path)\n",
    "    if not isExist:\n",
    "        # Create a new directory because it does not exist\n",
    "        os.makedirs(path)\n",
    "        print(\"{} directory is created!\".format(path))\n",
    "    else:\n",
    "        print(\"{} alrady exists.\".format(path))\n",
    "\n",
    "def count_tokens_and_sort(df, tokenizer):\n",
    "    size_tokens = []\n",
    "    for _, row in df.iterrows():\n",
    "        input_ids = tokenizer(row[\"text\"], return_tensors='pt').input_ids.cuda()\n",
    "        start_index = input_ids.shape[-1]\n",
    "        size_tokens.append(start_index)\n",
    "\n",
    "    df[\"size_of_tokens\"] = size_tokens\n",
    "    df_sorted = df.sort_values(by=\"size_of_tokens\", ascending=False)\n",
    "    return df_sorted"
   ]
  },
  {
   "cell_type": "code",
   "execution_count": 2,
   "metadata": {},
   "outputs": [],
   "source": [
    "# indicate the dir for data (TCGA pathology reports)\n",
    "data_base_dir = \"/secure/shared_data/tcga_path_reports/\"\n",
    "\n",
    "model_name_or_path = \"m42-health/med42-70b\"\n",
    "cache_dir = \"/secure/chiahsuan/hf_cache\"\n",
    "# load tokenizer for counting the number of tokens for each report \n",
    "tokenizer = AutoTokenizer.from_pretrained(model_name_or_path,cache_dir=cache_dir)"
   ]
  },
  {
   "cell_type": "code",
   "execution_count": 3,
   "metadata": {},
   "outputs": [
    {
     "name": "stdout",
     "output_type": "stream",
     "text": [
      "m01_test_dir/greedy/ alrady exists.\n",
      "t14_test_dir/greedy/ alrady exists.\n",
      "n03_test_dir/greedy/ alrady exists.\n"
     ]
    }
   ],
   "source": [
    "# check if the required directories are there for processed dataset and results\n",
    "create_dir_if_not_exist(\"m01_test_dir/greedy/\")\n",
    "create_dir_if_not_exist(\"t14_test_dir/greedy/\")\n",
    "create_dir_if_not_exist(\"n03_test_dir/greedy/\")"
   ]
  },
  {
   "cell_type": "markdown",
   "metadata": {},
   "source": [
    "# T"
   ]
  },
  {
   "cell_type": "code",
   "execution_count": 4,
   "metadata": {},
   "outputs": [
    {
     "name": "stderr",
     "output_type": "stream",
     "text": [
      "huggingface/tokenizers: The current process just got forked, after parallelism has already been used. Disabling parallelism to avoid deadlocks...\n",
      "To disable this warning, you can either:\n",
      "\t- Avoid using `tokenizers` before the fork if possible\n",
      "\t- Explicitly set the environment variable TOKENIZERS_PARALLELISM=(true | false)\n",
      "huggingface/tokenizers: The current process just got forked, after parallelism has already been used. Disabling parallelism to avoid deadlocks...\n",
      "To disable this warning, you can either:\n",
      "\t- Avoid using `tokenizers` before the fork if possible\n",
      "\t- Explicitly set the environment variable TOKENIZERS_PARALLELISM=(true | false)\n"
     ]
    }
   ],
   "source": [
    "t14_df = pd.read_csv(data_base_dir+\"t14_data/Target_Data_T14_test.csv\")\n",
    "sorted_t14_df = count_tokens_and_sort(t14_df, tokenizer)"
   ]
  },
  {
   "cell_type": "code",
   "execution_count": 5,
   "metadata": {},
   "outputs": [
    {
     "name": "stdout",
     "output_type": "stream",
     "text": [
      "(1034, 4)\n",
      "(1016, 4)\n"
     ]
    },
    {
     "data": {
      "text/html": [
       "<div>\n",
       "<style scoped>\n",
       "    .dataframe tbody tr th:only-of-type {\n",
       "        vertical-align: middle;\n",
       "    }\n",
       "\n",
       "    .dataframe tbody tr th {\n",
       "        vertical-align: top;\n",
       "    }\n",
       "\n",
       "    .dataframe thead th {\n",
       "        text-align: right;\n",
       "    }\n",
       "</style>\n",
       "<table border=\"1\" class=\"dataframe\">\n",
       "  <thead>\n",
       "    <tr style=\"text-align: right;\">\n",
       "      <th></th>\n",
       "      <th>patient_filename</th>\n",
       "      <th>t</th>\n",
       "      <th>text</th>\n",
       "      <th>size_of_tokens</th>\n",
       "    </tr>\n",
       "  </thead>\n",
       "  <tbody>\n",
       "    <tr>\n",
       "      <th>15</th>\n",
       "      <td>TCGA-97-7941.f95131f4-d721-441f-86ee-d9981befc2a7</td>\n",
       "      <td>0</td>\n",
       "      <td>SPECIMENS: 1. F/S LEFT UPPER LOBE NODULE. 2. S...</td>\n",
       "      <td>3963</td>\n",
       "    </tr>\n",
       "    <tr>\n",
       "      <th>563</th>\n",
       "      <td>TCGA-RS-A6TO.6F3960E4-4E90-4CFD-B318-61C96F3F5281</td>\n",
       "      <td>3</td>\n",
       "      <td>Clinical Diagnosis &amp; History: Malignant lesion...</td>\n",
       "      <td>3919</td>\n",
       "    </tr>\n",
       "    <tr>\n",
       "      <th>350</th>\n",
       "      <td>TCGA-CN-4734.8fc796f0-16c1-4a0a-a686-d2802dc77c83</td>\n",
       "      <td>1</td>\n",
       "      <td>PATIENT HISTORY: CHIEF COMPLAINT/ PRE-OP/ POST...</td>\n",
       "      <td>3861</td>\n",
       "    </tr>\n",
       "    <tr>\n",
       "      <th>674</th>\n",
       "      <td>TCGA-CN-6019.6f28e868-5622-42e2-ba7a-80380e364ebb</td>\n",
       "      <td>3</td>\n",
       "      <td>Report Type. Date of Event. Authored by. Hosp/...</td>\n",
       "      <td>3809</td>\n",
       "    </tr>\n",
       "    <tr>\n",
       "      <th>7</th>\n",
       "      <td>TCGA-E2-A572.5CED2FBF-42DB-4D17-95C0-DEAE27BBFD02</td>\n",
       "      <td>1</td>\n",
       "      <td>SPECIMEN(S): A. LEFT BREAST AND AXILLARY CONTE...</td>\n",
       "      <td>3649</td>\n",
       "    </tr>\n",
       "    <tr>\n",
       "      <th>...</th>\n",
       "      <td>...</td>\n",
       "      <td>...</td>\n",
       "      <td>...</td>\n",
       "      <td>...</td>\n",
       "    </tr>\n",
       "    <tr>\n",
       "      <th>486</th>\n",
       "      <td>TCGA-VS-A9U7.3FB4D6F8-6625-49A7-AA2C-533FB9EC9310</td>\n",
       "      <td>0</td>\n",
       "      <td>PRIMARY SITE: Cervix. \"Uterine cervix biopsy\":...</td>\n",
       "      <td>53</td>\n",
       "    </tr>\n",
       "    <tr>\n",
       "      <th>891</th>\n",
       "      <td>TCGA-VS-A9UD.D0920498-DCB8-454A-A294-204A280D4129</td>\n",
       "      <td>2</td>\n",
       "      <td>PRIMARY SITE: Cervix. 1-\"Fragment of uterine c...</td>\n",
       "      <td>49</td>\n",
       "    </tr>\n",
       "    <tr>\n",
       "      <th>548</th>\n",
       "      <td>TCGA-VS-A959.10A6CADD-C99B-4A34-9D5D-02AD37C1AB80</td>\n",
       "      <td>1</td>\n",
       "      <td>PRIMARY SITE: Cervix. \"Uterine cervix biopsy\":...</td>\n",
       "      <td>35</td>\n",
       "    </tr>\n",
       "    <tr>\n",
       "      <th>577</th>\n",
       "      <td>TCGA-VS-A8EC.5D347DA8-4A0A-4E09-BCF3-DDD115D741C6</td>\n",
       "      <td>2</td>\n",
       "      <td>PRIMARY SITE: Cervix. \"Biopsy of the cervix\": ...</td>\n",
       "      <td>33</td>\n",
       "    </tr>\n",
       "    <tr>\n",
       "      <th>174</th>\n",
       "      <td>TCGA-VS-A8EI.B9B4DCAB-A369-496B-B36B-9E16041FD940</td>\n",
       "      <td>2</td>\n",
       "      <td>PRIMARY SITE: Cervix. 1 - \"Biopsy of cervix\": ...</td>\n",
       "      <td>32</td>\n",
       "    </tr>\n",
       "  </tbody>\n",
       "</table>\n",
       "<p>1016 rows × 4 columns</p>\n",
       "</div>"
      ],
      "text/plain": [
       "                                      patient_filename  t  \\\n",
       "15   TCGA-97-7941.f95131f4-d721-441f-86ee-d9981befc2a7  0   \n",
       "563  TCGA-RS-A6TO.6F3960E4-4E90-4CFD-B318-61C96F3F5281  3   \n",
       "350  TCGA-CN-4734.8fc796f0-16c1-4a0a-a686-d2802dc77c83  1   \n",
       "674  TCGA-CN-6019.6f28e868-5622-42e2-ba7a-80380e364ebb  3   \n",
       "7    TCGA-E2-A572.5CED2FBF-42DB-4D17-95C0-DEAE27BBFD02  1   \n",
       "..                                                 ... ..   \n",
       "486  TCGA-VS-A9U7.3FB4D6F8-6625-49A7-AA2C-533FB9EC9310  0   \n",
       "891  TCGA-VS-A9UD.D0920498-DCB8-454A-A294-204A280D4129  2   \n",
       "548  TCGA-VS-A959.10A6CADD-C99B-4A34-9D5D-02AD37C1AB80  1   \n",
       "577  TCGA-VS-A8EC.5D347DA8-4A0A-4E09-BCF3-DDD115D741C6  2   \n",
       "174  TCGA-VS-A8EI.B9B4DCAB-A369-496B-B36B-9E16041FD940  2   \n",
       "\n",
       "                                                  text  size_of_tokens  \n",
       "15   SPECIMENS: 1. F/S LEFT UPPER LOBE NODULE. 2. S...            3963  \n",
       "563  Clinical Diagnosis & History: Malignant lesion...            3919  \n",
       "350  PATIENT HISTORY: CHIEF COMPLAINT/ PRE-OP/ POST...            3861  \n",
       "674  Report Type. Date of Event. Authored by. Hosp/...            3809  \n",
       "7    SPECIMEN(S): A. LEFT BREAST AND AXILLARY CONTE...            3649  \n",
       "..                                                 ...             ...  \n",
       "486  PRIMARY SITE: Cervix. \"Uterine cervix biopsy\":...              53  \n",
       "891  PRIMARY SITE: Cervix. 1-\"Fragment of uterine c...              49  \n",
       "548  PRIMARY SITE: Cervix. \"Uterine cervix biopsy\":...              35  \n",
       "577  PRIMARY SITE: Cervix. \"Biopsy of the cervix\": ...              33  \n",
       "174  PRIMARY SITE: Cervix. 1 - \"Biopsy of cervix\": ...              32  \n",
       "\n",
       "[1016 rows x 4 columns]"
      ]
     },
     "execution_count": 5,
     "metadata": {},
     "output_type": "execute_result"
    }
   ],
   "source": [
    "print(sorted_t14_df.shape)\n",
    "t14_test_4096_all = sorted_t14_df[sorted_t14_df[\"size_of_tokens\"] < 4096]\n",
    "print(t14_test_4096_all.shape)\n",
    "t14_test_4096_all"
   ]
  },
  {
   "cell_type": "code",
   "execution_count": 6,
   "metadata": {},
   "outputs": [],
   "source": [
    "t14_test_4096_all.to_csv(\"./t14_test_dir/t14_4096_all_test.csv\")"
   ]
  },
  {
   "cell_type": "markdown",
   "metadata": {},
   "source": [
    "# N"
   ]
  },
  {
   "cell_type": "code",
   "execution_count": 7,
   "metadata": {},
   "outputs": [],
   "source": [
    "n03_df = pd.read_csv(data_base_dir+\"n03_data/Target_Data_N03_test.csv\")\n",
    "sortedn_n03_df = count_tokens_and_sort(n03_df, tokenizer)"
   ]
  },
  {
   "cell_type": "code",
   "execution_count": 8,
   "metadata": {},
   "outputs": [
    {
     "name": "stdout",
     "output_type": "stream",
     "text": [
      "(852, 4)\n",
      "(830, 4)\n"
     ]
    },
    {
     "data": {
      "text/html": [
       "<div>\n",
       "<style scoped>\n",
       "    .dataframe tbody tr th:only-of-type {\n",
       "        vertical-align: middle;\n",
       "    }\n",
       "\n",
       "    .dataframe tbody tr th {\n",
       "        vertical-align: top;\n",
       "    }\n",
       "\n",
       "    .dataframe thead th {\n",
       "        text-align: right;\n",
       "    }\n",
       "</style>\n",
       "<table border=\"1\" class=\"dataframe\">\n",
       "  <thead>\n",
       "    <tr style=\"text-align: right;\">\n",
       "      <th></th>\n",
       "      <th>patient_filename</th>\n",
       "      <th>n</th>\n",
       "      <th>text</th>\n",
       "      <th>size_of_tokens</th>\n",
       "    </tr>\n",
       "  </thead>\n",
       "  <tbody>\n",
       "    <tr>\n",
       "      <th>52</th>\n",
       "      <td>TCGA-A1-A0SB.BEC7EEA9-6DEA-4402-A3A1-07EF33D58174</td>\n",
       "      <td>0</td>\n",
       "      <td>Final Pathologic Diagnosis: A. Sentinel lymph ...</td>\n",
       "      <td>4091</td>\n",
       "    </tr>\n",
       "    <tr>\n",
       "      <th>153</th>\n",
       "      <td>TCGA-JY-A938.572009C2-F1D9-42A0-8489-4066729BA0E2</td>\n",
       "      <td>0</td>\n",
       "      <td>M. Facility: Specimen(s) Received. 1. Lymph-No...</td>\n",
       "      <td>4058</td>\n",
       "    </tr>\n",
       "    <tr>\n",
       "      <th>263</th>\n",
       "      <td>TCGA-A2-A4S1.041580F0-700A-4A47-83A6-207ED267E844</td>\n",
       "      <td>0</td>\n",
       "      <td>Rég. Att. M.D. This report contains correction...</td>\n",
       "      <td>4047</td>\n",
       "    </tr>\n",
       "    <tr>\n",
       "      <th>599</th>\n",
       "      <td>TCGA-97-A4M6.E697A53A-C377-4BC8-8D3F-79562DFF6F0A</td>\n",
       "      <td>0</td>\n",
       "      <td>SPECIMENS: 1. F/S LUNG, RIGHT LOWER LOBE WEDGE...</td>\n",
       "      <td>4020</td>\n",
       "    </tr>\n",
       "    <tr>\n",
       "      <th>129</th>\n",
       "      <td>TCGA-W6-AA0S.2F3CE1B3-0DFD-4729-8A52-5E0BDE92BD12</td>\n",
       "      <td>0</td>\n",
       "      <td>Surgical Pathology Specimen Source (enter 1 pe...</td>\n",
       "      <td>3827</td>\n",
       "    </tr>\n",
       "    <tr>\n",
       "      <th>...</th>\n",
       "      <td>...</td>\n",
       "      <td>...</td>\n",
       "      <td>...</td>\n",
       "      <td>...</td>\n",
       "    </tr>\n",
       "    <tr>\n",
       "      <th>105</th>\n",
       "      <td>TCGA-2G-AAFE.414A04CE-E608-48CB-86B6-BF901F888D28</td>\n",
       "      <td>1</td>\n",
       "      <td>Summary pathology report. Left orchidectomy; s...</td>\n",
       "      <td>62</td>\n",
       "    </tr>\n",
       "    <tr>\n",
       "      <th>551</th>\n",
       "      <td>TCGA-VS-A9UB.73D61A64-9435-4E72-898C-3A4E7C109CF3</td>\n",
       "      <td>0</td>\n",
       "      <td>PRIMARY SITE: Cervix. Biopsy of uterine cervix...</td>\n",
       "      <td>52</td>\n",
       "    </tr>\n",
       "    <tr>\n",
       "      <th>836</th>\n",
       "      <td>TCGA-VS-A952.B7893751-3A8F-4FD8-996F-D8C93C108336</td>\n",
       "      <td>0</td>\n",
       "      <td>PRIMARY SITE: Cervix. Biopsy of uterine cervix...</td>\n",
       "      <td>49</td>\n",
       "    </tr>\n",
       "    <tr>\n",
       "      <th>98</th>\n",
       "      <td>TCGA-VS-A9V2.0D5FE178-46D8-41A5-BA54-E9746F3D2B4C</td>\n",
       "      <td>0</td>\n",
       "      <td>PRIMARY SITE: Cervix. 1- \"Biopsy of cervix\": M...</td>\n",
       "      <td>46</td>\n",
       "    </tr>\n",
       "    <tr>\n",
       "      <th>89</th>\n",
       "      <td>TCGA-YS-A95B.F57E6E47-4A8E-42C2-ABB8-DD81EF21DBF6</td>\n",
       "      <td>3</td>\n",
       "      <td>PRIMARY SITE: Pleura. Pleural biopsy. Malign e...</td>\n",
       "      <td>26</td>\n",
       "    </tr>\n",
       "  </tbody>\n",
       "</table>\n",
       "<p>830 rows × 4 columns</p>\n",
       "</div>"
      ],
      "text/plain": [
       "                                      patient_filename  n  \\\n",
       "52   TCGA-A1-A0SB.BEC7EEA9-6DEA-4402-A3A1-07EF33D58174  0   \n",
       "153  TCGA-JY-A938.572009C2-F1D9-42A0-8489-4066729BA0E2  0   \n",
       "263  TCGA-A2-A4S1.041580F0-700A-4A47-83A6-207ED267E844  0   \n",
       "599  TCGA-97-A4M6.E697A53A-C377-4BC8-8D3F-79562DFF6F0A  0   \n",
       "129  TCGA-W6-AA0S.2F3CE1B3-0DFD-4729-8A52-5E0BDE92BD12  0   \n",
       "..                                                 ... ..   \n",
       "105  TCGA-2G-AAFE.414A04CE-E608-48CB-86B6-BF901F888D28  1   \n",
       "551  TCGA-VS-A9UB.73D61A64-9435-4E72-898C-3A4E7C109CF3  0   \n",
       "836  TCGA-VS-A952.B7893751-3A8F-4FD8-996F-D8C93C108336  0   \n",
       "98   TCGA-VS-A9V2.0D5FE178-46D8-41A5-BA54-E9746F3D2B4C  0   \n",
       "89   TCGA-YS-A95B.F57E6E47-4A8E-42C2-ABB8-DD81EF21DBF6  3   \n",
       "\n",
       "                                                  text  size_of_tokens  \n",
       "52   Final Pathologic Diagnosis: A. Sentinel lymph ...            4091  \n",
       "153  M. Facility: Specimen(s) Received. 1. Lymph-No...            4058  \n",
       "263  Rég. Att. M.D. This report contains correction...            4047  \n",
       "599  SPECIMENS: 1. F/S LUNG, RIGHT LOWER LOBE WEDGE...            4020  \n",
       "129  Surgical Pathology Specimen Source (enter 1 pe...            3827  \n",
       "..                                                 ...             ...  \n",
       "105  Summary pathology report. Left orchidectomy; s...              62  \n",
       "551  PRIMARY SITE: Cervix. Biopsy of uterine cervix...              52  \n",
       "836  PRIMARY SITE: Cervix. Biopsy of uterine cervix...              49  \n",
       "98   PRIMARY SITE: Cervix. 1- \"Biopsy of cervix\": M...              46  \n",
       "89   PRIMARY SITE: Pleura. Pleural biopsy. Malign e...              26  \n",
       "\n",
       "[830 rows x 4 columns]"
      ]
     },
     "execution_count": 8,
     "metadata": {},
     "output_type": "execute_result"
    }
   ],
   "source": [
    "print(n03_df.shape)\n",
    "n03_test_4096_all = sortedn_n03_df[sortedn_n03_df[\"size_of_tokens\"] < 4096]\n",
    "print(n03_test_4096_all.shape)\n",
    "n03_test_4096_all"
   ]
  },
  {
   "cell_type": "code",
   "execution_count": 9,
   "metadata": {},
   "outputs": [],
   "source": [
    "n03_test_4096_all.to_csv(\"./n03_test_dir/n03_4096_all_test.csv\")"
   ]
  },
  {
   "cell_type": "markdown",
   "metadata": {},
   "source": [
    "# M"
   ]
  },
  {
   "cell_type": "code",
   "execution_count": 10,
   "metadata": {},
   "outputs": [],
   "source": [
    "m01_df = pd.read_csv(data_base_dir+\"m01_data/Target_Data_M01_test.csv\")\n",
    "sortedn_m01_df = count_tokens_and_sort(m01_df, tokenizer)"
   ]
  },
  {
   "cell_type": "code",
   "execution_count": 11,
   "metadata": {},
   "outputs": [
    {
     "name": "stdout",
     "output_type": "stream",
     "text": [
      "(692, 4)\n",
      "(682, 4)\n"
     ]
    },
    {
     "data": {
      "text/html": [
       "<div>\n",
       "<style scoped>\n",
       "    .dataframe tbody tr th:only-of-type {\n",
       "        vertical-align: middle;\n",
       "    }\n",
       "\n",
       "    .dataframe tbody tr th {\n",
       "        vertical-align: top;\n",
       "    }\n",
       "\n",
       "    .dataframe thead th {\n",
       "        text-align: right;\n",
       "    }\n",
       "</style>\n",
       "<table border=\"1\" class=\"dataframe\">\n",
       "  <thead>\n",
       "    <tr style=\"text-align: right;\">\n",
       "      <th></th>\n",
       "      <th>patient_filename</th>\n",
       "      <th>m</th>\n",
       "      <th>text</th>\n",
       "      <th>size_of_tokens</th>\n",
       "    </tr>\n",
       "  </thead>\n",
       "  <tbody>\n",
       "    <tr>\n",
       "      <th>555</th>\n",
       "      <td>TCGA-A1-A0SB.BEC7EEA9-6DEA-4402-A3A1-07EF33D58174</td>\n",
       "      <td>0</td>\n",
       "      <td>Final Pathologic Diagnosis: A. Sentinel lymph ...</td>\n",
       "      <td>4091</td>\n",
       "    </tr>\n",
       "    <tr>\n",
       "      <th>352</th>\n",
       "      <td>TCGA-XF-A8HH.33C8B2EA-980D-4CDC-B8A9-B8583E04BCCA</td>\n",
       "      <td>0</td>\n",
       "      <td>SURGICAL PATHOLOGY RE PORT. FINAL DIAGNOSIS: R...</td>\n",
       "      <td>4060</td>\n",
       "    </tr>\n",
       "    <tr>\n",
       "      <th>506</th>\n",
       "      <td>TCGA-JY-A938.572009C2-F1D9-42A0-8489-4066729BA0E2</td>\n",
       "      <td>0</td>\n",
       "      <td>M. Facility: Specimen(s) Received. 1. Lymph-No...</td>\n",
       "      <td>4058</td>\n",
       "    </tr>\n",
       "    <tr>\n",
       "      <th>40</th>\n",
       "      <td>TCGA-RS-A6TO.6F3960E4-4E90-4CFD-B318-61C96F3F5281</td>\n",
       "      <td>0</td>\n",
       "      <td>Clinical Diagnosis &amp; History: Malignant lesion...</td>\n",
       "      <td>3919</td>\n",
       "    </tr>\n",
       "    <tr>\n",
       "      <th>63</th>\n",
       "      <td>TCGA-GU-A42P.EBD243F6-1508-4BDD-A2D4-58E23D812DF0</td>\n",
       "      <td>0</td>\n",
       "      <td>BIOPSY OR S. Patient Information. Provider Sta...</td>\n",
       "      <td>3852</td>\n",
       "    </tr>\n",
       "    <tr>\n",
       "      <th>...</th>\n",
       "      <td>...</td>\n",
       "      <td>...</td>\n",
       "      <td>...</td>\n",
       "      <td>...</td>\n",
       "    </tr>\n",
       "    <tr>\n",
       "      <th>249</th>\n",
       "      <td>TCGA-A8-A097.5B867CB6-F94D-435D-83E3-0ADB814B8077</td>\n",
       "      <td>0</td>\n",
       "      <td>Diagnosis: 1. Poorly differentiated invasive d...</td>\n",
       "      <td>67</td>\n",
       "    </tr>\n",
       "    <tr>\n",
       "      <th>291</th>\n",
       "      <td>TCGA-E8-A419.96AD2BE9-B8DF-4696-BD0F-61FA2CA60871</td>\n",
       "      <td>0</td>\n",
       "      <td>Laterality: Path Report:Tumor size (in cm):2.5...</td>\n",
       "      <td>63</td>\n",
       "    </tr>\n",
       "    <tr>\n",
       "      <th>434</th>\n",
       "      <td>TCGA-2G-AAF6.5892E026-307B-4A38-972F-92DF6ACF0A90</td>\n",
       "      <td>0</td>\n",
       "      <td>Summary pathology report. Right orchidectomy; ...</td>\n",
       "      <td>62</td>\n",
       "    </tr>\n",
       "    <tr>\n",
       "      <th>391</th>\n",
       "      <td>TCGA-A8-A09G.2728DB14-66D5-4E67-B9B6-63D93DBF509C</td>\n",
       "      <td>0</td>\n",
       "      <td>Diagnosis: ) Poorly differentiated invasive ca...</td>\n",
       "      <td>53</td>\n",
       "    </tr>\n",
       "    <tr>\n",
       "      <th>210</th>\n",
       "      <td>TCGA-2G-AAEW.02452377-4D36-4145-8492-B12046B855FC</td>\n",
       "      <td>0</td>\n",
       "      <td>Summary pathology report. Right orchidectomy; ...</td>\n",
       "      <td>48</td>\n",
       "    </tr>\n",
       "  </tbody>\n",
       "</table>\n",
       "<p>682 rows × 4 columns</p>\n",
       "</div>"
      ],
      "text/plain": [
       "                                      patient_filename  m  \\\n",
       "555  TCGA-A1-A0SB.BEC7EEA9-6DEA-4402-A3A1-07EF33D58174  0   \n",
       "352  TCGA-XF-A8HH.33C8B2EA-980D-4CDC-B8A9-B8583E04BCCA  0   \n",
       "506  TCGA-JY-A938.572009C2-F1D9-42A0-8489-4066729BA0E2  0   \n",
       "40   TCGA-RS-A6TO.6F3960E4-4E90-4CFD-B318-61C96F3F5281  0   \n",
       "63   TCGA-GU-A42P.EBD243F6-1508-4BDD-A2D4-58E23D812DF0  0   \n",
       "..                                                 ... ..   \n",
       "249  TCGA-A8-A097.5B867CB6-F94D-435D-83E3-0ADB814B8077  0   \n",
       "291  TCGA-E8-A419.96AD2BE9-B8DF-4696-BD0F-61FA2CA60871  0   \n",
       "434  TCGA-2G-AAF6.5892E026-307B-4A38-972F-92DF6ACF0A90  0   \n",
       "391  TCGA-A8-A09G.2728DB14-66D5-4E67-B9B6-63D93DBF509C  0   \n",
       "210  TCGA-2G-AAEW.02452377-4D36-4145-8492-B12046B855FC  0   \n",
       "\n",
       "                                                  text  size_of_tokens  \n",
       "555  Final Pathologic Diagnosis: A. Sentinel lymph ...            4091  \n",
       "352  SURGICAL PATHOLOGY RE PORT. FINAL DIAGNOSIS: R...            4060  \n",
       "506  M. Facility: Specimen(s) Received. 1. Lymph-No...            4058  \n",
       "40   Clinical Diagnosis & History: Malignant lesion...            3919  \n",
       "63   BIOPSY OR S. Patient Information. Provider Sta...            3852  \n",
       "..                                                 ...             ...  \n",
       "249  Diagnosis: 1. Poorly differentiated invasive d...              67  \n",
       "291  Laterality: Path Report:Tumor size (in cm):2.5...              63  \n",
       "434  Summary pathology report. Right orchidectomy; ...              62  \n",
       "391  Diagnosis: ) Poorly differentiated invasive ca...              53  \n",
       "210  Summary pathology report. Right orchidectomy; ...              48  \n",
       "\n",
       "[682 rows x 4 columns]"
      ]
     },
     "execution_count": 11,
     "metadata": {},
     "output_type": "execute_result"
    }
   ],
   "source": [
    "print(m01_df.shape)\n",
    "m01_test_4096_all = sortedn_m01_df[sortedn_m01_df[\"size_of_tokens\"] < 4096]\n",
    "print(m01_test_4096_all.shape)\n",
    "m01_test_4096_all"
   ]
  },
  {
   "cell_type": "code",
   "execution_count": 12,
   "metadata": {},
   "outputs": [],
   "source": [
    "m01_test_4096_all.to_csv(\"./m01_test_dir/m01_4096_all_test.csv\")"
   ]
  },
  {
   "cell_type": "markdown",
   "metadata": {},
   "source": [
    "# Unused Area \n",
    "the following cells are for testing only."
   ]
  },
  {
   "cell_type": "code",
   "execution_count": 13,
   "metadata": {},
   "outputs": [],
   "source": [
    "MED42_PROMPT_TEMPLATE = \"\"\"\n",
    "<|system|>:{system_instruction}\n",
    "<|prompter|>:{prompt}\n",
    "<|assistant|>:\n",
    "\"\"\"\n",
    "\n",
    "selc_text = m01_test_4096_all.iloc[0][\"text\"]\n",
    "filled_prompt = basic_prompt.format(report=selc_text)\n",
    "test_txt = MED42_PROMPT_TEMPLATE.format(system_instruction=system_instruction, prompt=filled_prompt)\n",
    "\n",
    "input_ids = tokenizer(test_txt, return_tensors='pt').input_ids.cuda()\n",
    "start_index = input_ids.shape[-1]"
   ]
  },
  {
   "cell_type": "code",
   "execution_count": 14,
   "metadata": {},
   "outputs": [
    {
     "data": {
      "text/plain": [
       "'\\n<|system|>:You are an expert at interpreting pathology reports for cancer staging.\\n<|prompter|>:You are provided with a pathology report for a cancer patient. \\nPlease review this report and determine the pathologic stage of the patient\\'s cancer. \\n\\nHere is the report:\\n```\\nFinal Pathologic Diagnosis: A. Sentinel lymph node #1, biopsy: No carcinoma in one lymph node (0/1); see. comment. B. Sentinel lymph node #2, biopsy: No carcinoma in one lymph node (0/1); see. comment. C. Breast, left, wire-guided partial mastectomy: 1. Adenoid cystic carcinoma, SBR Grade 1, 1.2 cm; see comment. 2. Microcalcifications involving benign ducts. 3. Atypical ductal hyperplasia. 4. Apocrine metaplasia. 5. Blopsy site changes. 6. Fibroadenoma. D. Breast, right, mammoplasty: 1. Intraductal papilloma. 2. Sclerosing adenosis. 3. Apocrine metaplasia. 4. Microcalcifications involving benign glands. 5. Microcysts. Page of 6. Working Draft. 6. Skin with no significant pathologic abnormality. 7. No carcinoma identified. E. Breast, left, mammoplasty: 1. Usual ductal hyperplasia. 2. Apocrine metaplasia. 3. Fibroadenoma. 4. Skin with no significant pathologic abnormality. 5. No carcinoma identified. Note: This is an unusual tumor. H&E sections show a relatively circumscribed tumor with large nests. of epithelial cells in a cribriform growth pattern. The stroma is sclerotic. The differential diagnosis. includes adenoid cystic carcinoma or a cribriform variant of invasive ductal carcinoma. A prior core. needle biopsy of the left breast at 6 o\\'clock (. ) was reviewed. Immunohistochemical studies were necessary to evaluate this case and establish the correct. diagnosis. The following immunohistochemical stains were performed and evaluated: ER: Positive, 2+ staining in 75% of cells. PR: Negative, no staining in any tumor cells. (internal positive control present). CD117: Positive. SMA: Focally positive, relatively high background. SMM: No myoepithelial cells present around most nests of tumor cells. p63: Positive in basaloid cells in most areas. The above Immunohistochemical stains support a diagnosis if adenoid cystic carcinoma. Although ER. expression is often negative in adenoid cystic carcinoma, the presence of basal cell Immunophenotype. (positive p63) and the positive CD117 support this diagnosis. Insofar as adenoid cystic carcinoma. represents a dual population of basaloid and epithelial cells, it may be that this example is somewhat. rich in the epithelial component thus explaining the ER positivity. The above interpretation may also. explain the rather diffuse CD117 staining. The absence of a define myoepithelial layer by the SMM. further supports the diagnosis. We recognize that this tumor was also sent for gene expression. profiling so correlation with those findings for a basaloid expression profile is also suggested. Drs. and. have reviewed selected stides form this case and. concur with the diagnosis of adenoid cystic carcinoma. Breast Tumor Synoptic Comment. - Laterality: Left. - Invasive tumor type: Adenoid cystic carcinoma. - Invasive tumor size: 1.2 cm. - Invasive tumor grade (modified Bloom-Richardson): Nuclear grade: 2. Mitotic count: 1 mitotic figures/10 HPF. Tubule/papilla formation: 1. Total points and overall grade = 4 points = grade 1. - Lymphatic-vascular Invasion: None. - Skin/nipple: No specific pathologic abnormalities. - Margins for invasive tumor: Negative. - Anterior (skin): N/A. - Posterior: Negative (tumor is > 1 cm away). - Inferior lateral margin (black ink): Negative; (tumor is >1 cm away, on stide C4). - Inferior medial margin (green Ink): Negative; (tumor is > 1 cm away, on slide C5). - Superior margin (blue Ink): Negative; (tumor is >1 cm away, on slide C3). - Microcalcifications: Present, involving benign ducts. Working Draft. - Lobular carcinoma in situ: None. - Lymph node status: Negative. - Total number sampled: 2. - AJCC/UICC stage: pT1cNOMX. Result of HER2/neu test: This carcinoma is negative for HER2/neu oncoprotein. over-expression. An immunohistochemical assay was performed by manual morphometry on block C3 using the CB11 monocional antibody to. HER2/neu oncoprotein. The staining Intensity of this carcinoma was 0 on a scale of 0-3. Carcinomas with staining intensity scores of 0 or 1 are considered negative for over-expression of HER2/neu oncoprotein. Those with a staining intensity score of 2 are considered indeterminate. We and others have observed that many carcinomas with. staining intensity scores of 2 do not show gene amplification. All carcinomas with staining intensity scores of 2 are therefore. submitted for FISH testing. The results of the FISH test are Issued directly from the molecular cytogenetics laboratory. Carcinomas with staining intensity scores of 3 are considered positive for over-expression of HER2/neu oncoprotein. Tumors in. this category show an excellent correlation between the results of immunohistochemical and FISH testing, and almost always show. gene amplification. In addition to the above findings, several lymph nodes are enlarged with a fairly monotonous. population of small lymphocytes, concerning for lymphoma. Immunohistochemical stains were. performed to characterize the small lymphocyte population as follows: CD20: Highlights widely scattered aggregates of small lymphoid cells, consistent with primary. follicies. - CD3: Highlights small lymphocytes predominantly in interfollicular areas. - CD21: Highlights aggregates of dendritic cells underlying B cell aggregates, confirming their Identity. as B cell follicles. - CD23: Highlights aggregates of dendritic cells underlying B cell aggregates, confirming their identity. as B cell follicies. Together, these findings are consistent with a diagnosis of benign quiescent nodes, and argue against. a diagnosis of lymphoma. Dr. of. Hematopathology has reviewed parts A and B and agrees with the above. interpretation. A preliminary diagnosis was given to. in Dr. clinic on. Additional. preliminary diagnosis given to. in Dr. clinic on. Intraoperative Consult Diagnosis. FS1 (A1) Sentinel lymph node #1 (half of the specimen), biopsy: Rare scattered atypical cells. Cannot completely rule out carcinoma. Defer to permanent. Dr. concurs. (Dr. FS2 (A2) Sentinel lymph node #1 (other half of the specimen), biopsy: Rare scattered atypical cells. Cannot completelv rule out carcinoma. Defer to permanent. Dr. concurs. (Dr. FS3 (B) Sentinel lymph node #2, blopsy: Rare scattered atypical cells. Cannot completely rule out. carcinoma. Defer to permanent. Dr. concurs. (Dr. Clinical History. The patient is a :year-old female with adenoid cystic carcinoma of the left breast vs. ductal. carcinoma. She has an additional lesion, seen on MRI, suspicious for carcinoma. The patient now. undergoes left wire-guided partial mastectomy and sentinel lymph node dissection with bilateral. mammoplasty for symmetry. Gross Description. Working Draft. The specimen is received in five parts, each labeled with the patient\\'s name and unit number. Parts. A-C are received fresh. Parts D-E are received in formalin. Part A, additionally labeled \"1 - sentinel lymph node # 1 count = 5900,\" consists of one soft, ovoid,. red-yellow, irregular, unoriented fibroadipose tissue fragment that is 3.2 x 2 x 1 cm. It is oriented by. a stitch placed by the surgeon marking the hottest spot. The stitch area is inked blue. Adipose tissue. is removed. Lymph node candidate is bisected. 50% of the lymph node candidate is submitted for. frozen section diagnosis 1, with the frozen section remnant submitted in cassette A1. The remaining. 50% of the lymph node candidate is submitted for frozen section diagnosis 2, with the frozen section. remnant submitted in cassette A2. The remaining adipose tissue is submitted in cassette A3. Part B, additionally labeled \"2 - sentinel lymph node #2 count = 12700,\" consists of one soft,. red-yellow, irregular, unoriented, ovoid, oriented fibroadipose tissue fragment that is 2 x 1.7 x 0.8 cm. A stitch Is placed by the surgeon marking the hottest spot; this area is inked blue. Adipose tissue is. removed. The lymph node candidate is bisected and submitted for frozen section diagnosis 3, with the. frozen section remnant submitted in cassette B1. The remaining adipose tissue is submitted in. cassette B2. Part C is labeled \"left breast needle localization biopsy.\". SPECIMEN TYPE: Wire-guided partial mastectomy. - SKIN ELLIPSE: Present. - NIPPLE: Not present. - ORIENTATION: - Double long suture: Lateral, on side with Telfa. - Short double suture: Superior. - Short single suture: Inferior, opposite of needle wire. - INKING (for microscopic evaluation): - Black: Lateral (Telfa side). Green: Medial (side opposite wire needle). - Blue: Superior (side with wire). - SIZE OF SPECIMEN: - Medial-lateral dimension: 6 cm. - Superior-inferior dimension: 6 cm. - Anterior-posterior dimension: 11.2 cm. - TOTAL NUMBER OF SLICES: 19. - First slice (slice 1): Anterior margin (skin). - Last slice (slice 19): Posterior margin. - GROSS PATHOLOGY: On serial sectioning, multiple nodules are Identified throughout the breast. parenchyma. A dominant, rubbery/hard, tan-pink mass is identified in slices 3-4 and measures 1 x 1. x. 0.8 cm. This mass is located centrally within the slices and is located 1.1 cm from the blue ink, 1. cm. from the green ink, and 1.5 cm from the black Ink. Two tan-white rubbery nodules are seen in. slice 5; one nodule measures 0.7 x 0.4 x 0.3 cm and is 0.7 cm from the blue ink. The other nodule. measures 0.3 x 0.3 x 0.3 cm and is 0.2 cm from the blue ink. A tan-yellow rubbery nodule is. identified In slice 7-8, measuring 0.4 x 0.3 x 0.3 cm. In addition, a white-tan rubbery nodular area. is. seen in slice 8, abutting the black ink and measuring 0.6 x 0.3 x 0.2 cm. A white-tan rubbery nodule. is also seen in slice 9, abutting the blue ink, and measuring 0.3 x 0.2 x 0.2 cm. An additional hard,. tan-pink nodule is seen in slice 9, measuring 0.3 x 0.3 x 0.3 cm. A tan-white rubbery nodule is seen. in slices 15-16, measuring 0.5 x 0.5 x 0.5 cm. This nodule is suspicious for a lymph node. The needle. tip is present in slice 15. Representative sections are submitted as follows: Cassette C1: Skin (slice 1). Cassettes C2-CS: Dominant mass in slices 3-4, entirely submitted. Cassette C6: Larger nodule, slice 5. Cassette C7: Smaller nodule, slice 5. Cassette C8: Nodule, slices 7-8. Cassette C9: Nodular area in slice 8, abutting black Ink. Cassette C10: Both nodules in slice 9. Cassette C11: Nodule, slice 11. Cassettes C12-C13: Nodule, slices 15-16, entirely submitted. Working Draft. Cassettes C14-C15: Posterior margin, perpendicularly sectioned. Part D, labeled \"right breast tissue and skin,\" consists of one fragment of fibrofatty tissue with. attached skin and multiple other fragments of skin and fibrofatty tissue measuring, in aggregate, 13 x. 10 x 3.5 cm and weighing 170 gm in total. The fragments of skin are grossly unremarkable, with no. suspicious lesions or areas. A single tan-yellow nodule measuring 0.1 x 0.1 x 0.1 cm is noted in one. of the fibrofatty tissue fragments, which also contains an area that is mostly fibrous. The largest. fibrofatty tissue fragment with attached skin, measuring 11.5 x 9.2 x 3.5 cm and the skin ellipse. measuring 8 x 7 cm, contains a single white-tan, rubbery, nodular area measuring 0.3 x 0.2 x 0.2 cm. The rest of the specimen is grossly unremarkable, with no other suspicious lesions seen. Representative sections are submitted as follows: Cassette D1: 0.1 x 0.1 x 0.1 cm nodule from fibrofatty tissue fragment. Cassette D2: Fibrous area from fibrofatty tissue fragment. Cassette D3: Nodular area from largest specimen. Cassette D4: Representative section skin and fibrofatty tissue from largest specimen. Part E, labeled \"left breast tissue and skin,\" consists of multiple fragments of fibrofatty tissue, as well. as multiple fragments of skin, in aggregate measuring 6.5 x 6.5 x 2.2 cm and weighing 154 gm in. total. The skin fragments are grossly unremarkable, with no suspicious areas or lesions seen. One. fibrofatty tissue fragment contains a tan-white, lobulated, rubbery, nodular area measuring 1.2 x 1.1 x. 1 cm. The rest of the fibrofatty tissue fragments are grossly unremarkable, with no suspicious lesions. or areas seen. Representative sections are submitted as follows: Cassette E1: Representative section of skin. Cassettes E2-E3: Nodule in fibrofatty tissue fragment, entirely submitted. Cassette E4: Representative section of fibrofatty tissue. /Pathology Resident. Fee Codes: Other Specimens. Specimen Class: Accessioned: Specimen(s) Received: Consult, Surgical w/ blocks or tissue. Final Diagnosis. Review of. from. Left breast, 6 o\\'clock, core needle biopsy: Malignant neoplasm with cribriform growth. pattern; see comment. MD. MD. _Specimen Class: Accessioned: Specimen(s) Received: Left Breast, Fine Needle Aspiration. Final Diagnosis. Left Breast, Fine Needle Aspiration: Fibroadipose tissue, see comment. Working Draft. Spccimen Class: Accessioned: Specimen(s) Received: Left breast, needle core biopsy 5:00, Scm from nipple. Final Diagnosis. Left breast, 5:00, 5 cm from nipple, needle core biopsy : 1. Fibroadenoma with microcalcifications see comment. 2. Fat necrosis.\\n```\\n\\nDoes this patient have metastatic disease? Please answer only Yes or No.\\n\\n<|assistant|>:\\n'"
      ]
     },
     "execution_count": 14,
     "metadata": {},
     "output_type": "execute_result"
    }
   ],
   "source": [
    "test_txt"
   ]
  },
  {
   "cell_type": "code",
   "execution_count": 15,
   "metadata": {},
   "outputs": [
    {
     "data": {
      "text/plain": [
       "4194"
      ]
     },
     "execution_count": 15,
     "metadata": {},
     "output_type": "execute_result"
    }
   ],
   "source": [
    "start_index"
   ]
  }
 ],
 "metadata": {
  "kernelspec": {
   "display_name": "cancer-staging",
   "language": "python",
   "name": "python3"
  },
  "language_info": {
   "codemirror_mode": {
    "name": "ipython",
    "version": 3
   },
   "file_extension": ".py",
   "mimetype": "text/x-python",
   "name": "python",
   "nbconvert_exporter": "python",
   "pygments_lexer": "ipython3",
   "version": "3.11.5"
  }
 },
 "nbformat": 4,
 "nbformat_minor": 2
}
