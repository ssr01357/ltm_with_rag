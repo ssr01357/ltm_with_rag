{
 "cells": [
  {
   "cell_type": "code",
   "execution_count": 1,
   "metadata": {},
   "outputs": [],
   "source": [
    "import pandas as pd\n",
    "import pickle\n",
    "\n",
    "base_data_dir = \"/secure/shared_data/tcga_path_reports/TCGA_Metadata/\"\n",
    "cancer_type_df = pickle.load(open(base_data_dir+'TCGA_cancer_types_binary.p','rb')) # indicate the cancer type for each patient\n",
    "t14_df = pd.read_csv(base_data_dir+'TCGA_T14_patients.csv')\n",
    "n03_df = pd.read_csv(base_data_dir+'TCGA_N03_patients.csv')\n",
    "m01_df = pd.read_csv(base_data_dir+'TCGA_M01_patients.csv')"
   ]
  },
  {
   "cell_type": "markdown",
   "metadata": {},
   "source": [
    "# 1. T Category"
   ]
  },
  {
   "cell_type": "code",
   "execution_count": 2,
   "metadata": {},
   "outputs": [
    {
     "data": {
      "text/html": [
       "<div>\n",
       "<style scoped>\n",
       "    .dataframe tbody tr th:only-of-type {\n",
       "        vertical-align: middle;\n",
       "    }\n",
       "\n",
       "    .dataframe tbody tr th {\n",
       "        vertical-align: top;\n",
       "    }\n",
       "\n",
       "    .dataframe thead th {\n",
       "        text-align: right;\n",
       "    }\n",
       "</style>\n",
       "<table border=\"1\" class=\"dataframe\">\n",
       "  <thead>\n",
       "    <tr style=\"text-align: right;\">\n",
       "      <th></th>\n",
       "      <th>type</th>\n",
       "      <th>patient_filename</th>\n",
       "    </tr>\n",
       "  </thead>\n",
       "  <tbody>\n",
       "    <tr>\n",
       "      <th>0</th>\n",
       "      <td>ACC</td>\n",
       "      <td>TCGA-OR-A5J1.8866FD87-4F6F-4D7E-B99A-7DD427ED3BB3</td>\n",
       "    </tr>\n",
       "    <tr>\n",
       "      <th>1</th>\n",
       "      <td>ACC</td>\n",
       "      <td>TCGA-OR-A5J2.345C34EE-F031-41A4-B955-BA054F2A3CE1</td>\n",
       "    </tr>\n",
       "    <tr>\n",
       "      <th>2</th>\n",
       "      <td>ACC</td>\n",
       "      <td>TCGA-OR-A5J3.83F53610-4F40-425B-9B69-BBB94234224F</td>\n",
       "    </tr>\n",
       "    <tr>\n",
       "      <th>3</th>\n",
       "      <td>ACC</td>\n",
       "      <td>TCGA-OR-A5J4.39E300DC-C01F-46BC-AE4C-D834458F1FF7</td>\n",
       "    </tr>\n",
       "    <tr>\n",
       "      <th>4</th>\n",
       "      <td>ACC</td>\n",
       "      <td>TCGA-OR-A5J5.BB63299C-B7F7-4F08-998D-C30E56CD6065</td>\n",
       "    </tr>\n",
       "    <tr>\n",
       "      <th>...</th>\n",
       "      <td>...</td>\n",
       "      <td>...</td>\n",
       "    </tr>\n",
       "    <tr>\n",
       "      <th>6882</th>\n",
       "      <td>UVM</td>\n",
       "      <td>TCGA-YZ-A980.A0ADAAFB-31A4-468A-9543-F4DFCCBCF0DC</td>\n",
       "    </tr>\n",
       "    <tr>\n",
       "      <th>6883</th>\n",
       "      <td>UVM</td>\n",
       "      <td>TCGA-YZ-A982.6D118D76-61C0-4643-A525-53E3313C149D</td>\n",
       "    </tr>\n",
       "    <tr>\n",
       "      <th>6884</th>\n",
       "      <td>UVM</td>\n",
       "      <td>TCGA-YZ-A983.04B1F253-2351-4BA6-A289-A22BC1E19C35</td>\n",
       "    </tr>\n",
       "    <tr>\n",
       "      <th>6885</th>\n",
       "      <td>UVM</td>\n",
       "      <td>TCGA-YZ-A984.ECC9EDD8-CE51-49B8-9B3A-52D69920080F</td>\n",
       "    </tr>\n",
       "    <tr>\n",
       "      <th>6886</th>\n",
       "      <td>UVM</td>\n",
       "      <td>TCGA-YZ-A985.61572A15-D011-4E41-A539-1FDB521F64F7</td>\n",
       "    </tr>\n",
       "  </tbody>\n",
       "</table>\n",
       "<p>6887 rows × 2 columns</p>\n",
       "</div>"
      ],
      "text/plain": [
       "     type                                   patient_filename\n",
       "0     ACC  TCGA-OR-A5J1.8866FD87-4F6F-4D7E-B99A-7DD427ED3BB3\n",
       "1     ACC  TCGA-OR-A5J2.345C34EE-F031-41A4-B955-BA054F2A3CE1\n",
       "2     ACC  TCGA-OR-A5J3.83F53610-4F40-425B-9B69-BBB94234224F\n",
       "3     ACC  TCGA-OR-A5J4.39E300DC-C01F-46BC-AE4C-D834458F1FF7\n",
       "4     ACC  TCGA-OR-A5J5.BB63299C-B7F7-4F08-998D-C30E56CD6065\n",
       "...   ...                                                ...\n",
       "6882  UVM  TCGA-YZ-A980.A0ADAAFB-31A4-468A-9543-F4DFCCBCF0DC\n",
       "6883  UVM  TCGA-YZ-A982.6D118D76-61C0-4643-A525-53E3313C149D\n",
       "6884  UVM  TCGA-YZ-A983.04B1F253-2351-4BA6-A289-A22BC1E19C35\n",
       "6885  UVM  TCGA-YZ-A984.ECC9EDD8-CE51-49B8-9B3A-52D69920080F\n",
       "6886  UVM  TCGA-YZ-A985.61572A15-D011-4E41-A539-1FDB521F64F7\n",
       "\n",
       "[6887 rows x 2 columns]"
      ]
     },
     "execution_count": 2,
     "metadata": {},
     "output_type": "execute_result"
    }
   ],
   "source": [
    "\"\"\" this cells creates a dataframe containing two columns: type (cancer types) and patient_filename\n",
    "\"\"\"\n",
    "t14_patient_df = cancer_type_df[cancer_type_df['patient'].isin(list(t14_df['case_submitter_id']))].copy() # case_submitter_id is the patient_id\n",
    "t14_patient_df.reset_index(inplace=True, drop=True)\n",
    "t14_patient_df['case_submitter_id']=t14_patient_df['patient']\n",
    "\n",
    "t14_merged_df = t14_patient_df.merge(t14_df, on='case_submitter_id')[['type','patient_filename','ajcc_pathologic_t','case_submitter_id']]\n",
    "t14_merged_df = t14_merged_df[t14_merged_df['ajcc_pathologic_t']!='T0']\n",
    "t14_merged_df = t14_merged_df[t14_merged_df['ajcc_pathologic_t']!='TX']\n",
    "\n",
    "t14_merged_df.reset_index(inplace=True, drop=True)\n",
    "t14_meta = t14_merged_df[[\"type\", \"patient_filename\"]]\n",
    "t14_meta"
   ]
  },
  {
   "cell_type": "code",
   "execution_count": 3,
   "metadata": {},
   "outputs": [
    {
     "name": "stdout",
     "output_type": "stream",
     "text": [
      "(1031, 2)\n",
      "(486, 2)\n"
     ]
    }
   ],
   "source": [
    "\"\"\" select patients who are BRCA and LUAD\n",
    "\"\"\"\n",
    "brca_t14_patients = t14_meta[t14_meta[\"type\"] == \"BRCA\"].copy()\n",
    "print(brca_t14_patients.shape)\n",
    "luad_t14_patients = t14_meta[t14_meta[\"type\"] == \"LUAD\"].copy()\n",
    "print(luad_t14_patients.shape)"
   ]
  },
  {
   "cell_type": "markdown",
   "metadata": {},
   "source": [
    "## 1.1 Select BRCA/LUAD patients in T category"
   ]
  },
  {
   "cell_type": "code",
   "execution_count": 11,
   "metadata": {},
   "outputs": [
    {
     "name": "stdout",
     "output_type": "stream",
     "text": [
      "BRCA training pd: (885, 4) and testing pd: (146, 4)\n",
      "LUAD training pd: (409, 4) and testing pd: (77, 4)\n"
     ]
    }
   ],
   "source": [
    "t14_data_path = \"/secure/shared_data/tcga_path_reports/t14_data/\"\n",
    "t14_training_pd = pd.read_csv(t14_data_path+\"Target_Data_T14.csv\")\n",
    "t14_testing_pd = pd.read_csv(t14_data_path+\"Target_Data_T14_test.csv\")\n",
    "\n",
    "t14_brca_training = t14_training_pd.merge(brca_t14_patients, on=\"patient_filename\")\n",
    "t14_brca_testing = t14_testing_pd.merge(brca_t14_patients, on=\"patient_filename\")\n",
    "print(\"BRCA training pd: {} and testing pd: {}\".format(t14_brca_training.shape, t14_brca_testing.shape))\n",
    "\n",
    "t14_luad_training = t14_training_pd.merge(luad_t14_patients, on=\"patient_filename\")\n",
    "t14_luad_testing = t14_testing_pd.merge(luad_t14_patients, on=\"patient_filename\")\n",
    "print(\"LUAD training pd: {} and testing pd: {}\".format(t14_luad_training.shape, t14_luad_testing.shape))"
   ]
  },
  {
   "cell_type": "code",
   "execution_count": 16,
   "metadata": {},
   "outputs": [],
   "source": [
    "t14_brca_training.to_csv(t14_data_path+\"BRCA_T14_training.csv\")\n",
    "t14_brca_testing.to_csv(t14_data_path+\"BRCA_T14_testing.csv\")\n",
    "t14_luad_training.to_csv(t14_data_path+\"LUAD_T14_training.csv\")\n",
    "t14_luad_testing.to_csv(t14_data_path+\"LUAD_T14_testing.csv\")"
   ]
  },
  {
   "cell_type": "markdown",
   "metadata": {},
   "source": [
    "## 1.2 Analyze ZSCOT Results for BRCA/LUAD Patients"
   ]
  },
  {
   "cell_type": "code",
   "execution_count": 4,
   "metadata": {},
   "outputs": [
    {
     "name": "stdout",
     "output_type": "stream",
     "text": [
      "All Test: (1034, 7)\n",
      "BRCA: (146, 8)\n",
      "LUAD: (77, 8)\n"
     ]
    }
   ],
   "source": [
    "t14_ZSCOT_path = \"/secure/shared_data/tnm/t14_res/med42-t0.7-tp0.95-nrs1.csv\"\n",
    "# load the ZS-COT results\n",
    "t14_ZSCOT_df = pd.read_csv(t14_ZSCOT_path)\n",
    "print(\"All Test:\", t14_ZSCOT_df.shape)\n",
    "\n",
    "# only select ZS-COT results for patients who have BRCA\n",
    "t14_ZSCOT_brca = t14_ZSCOT_df.merge(brca_t14_patients, on=\"patient_filename\")\n",
    "print(\"BRCA:\", t14_ZSCOT_brca.shape)\n",
    "\n",
    "# only select ZS-COT results for patients who have LUAD\n",
    "t14_ZSCOT_luad = t14_ZSCOT_df.merge(luad_t14_patients, on=\"patient_filename\")\n",
    "print(\"LUAD:\", t14_ZSCOT_luad.shape)\n"
   ]
  },
  {
   "cell_type": "markdown",
   "metadata": {},
   "source": [
    "# 2. N Category"
   ]
  },
  {
   "cell_type": "code",
   "execution_count": 7,
   "metadata": {},
   "outputs": [
    {
     "data": {
      "text/html": [
       "<div>\n",
       "<style scoped>\n",
       "    .dataframe tbody tr th:only-of-type {\n",
       "        vertical-align: middle;\n",
       "    }\n",
       "\n",
       "    .dataframe tbody tr th {\n",
       "        vertical-align: top;\n",
       "    }\n",
       "\n",
       "    .dataframe thead th {\n",
       "        text-align: right;\n",
       "    }\n",
       "</style>\n",
       "<table border=\"1\" class=\"dataframe\">\n",
       "  <thead>\n",
       "    <tr style=\"text-align: right;\">\n",
       "      <th></th>\n",
       "      <th>type</th>\n",
       "      <th>patient_filename</th>\n",
       "    </tr>\n",
       "  </thead>\n",
       "  <tbody>\n",
       "    <tr>\n",
       "      <th>0</th>\n",
       "      <td>ACC</td>\n",
       "      <td>TCGA-OR-A5J1.8866FD87-4F6F-4D7E-B99A-7DD427ED3BB3</td>\n",
       "    </tr>\n",
       "    <tr>\n",
       "      <th>1</th>\n",
       "      <td>ACC</td>\n",
       "      <td>TCGA-OR-A5J2.345C34EE-F031-41A4-B955-BA054F2A3CE1</td>\n",
       "    </tr>\n",
       "    <tr>\n",
       "      <th>2</th>\n",
       "      <td>ACC</td>\n",
       "      <td>TCGA-OR-A5J3.83F53610-4F40-425B-9B69-BBB94234224F</td>\n",
       "    </tr>\n",
       "    <tr>\n",
       "      <th>3</th>\n",
       "      <td>ACC</td>\n",
       "      <td>TCGA-OR-A5J4.39E300DC-C01F-46BC-AE4C-D834458F1FF7</td>\n",
       "    </tr>\n",
       "    <tr>\n",
       "      <th>4</th>\n",
       "      <td>ACC</td>\n",
       "      <td>TCGA-OR-A5J5.BB63299C-B7F7-4F08-998D-C30E56CD6065</td>\n",
       "    </tr>\n",
       "    <tr>\n",
       "      <th>...</th>\n",
       "      <td>...</td>\n",
       "      <td>...</td>\n",
       "    </tr>\n",
       "    <tr>\n",
       "      <th>5673</th>\n",
       "      <td>UVM</td>\n",
       "      <td>TCGA-WC-A882.BCFE115C-4472-4221-86B3-75B122F9B425</td>\n",
       "    </tr>\n",
       "    <tr>\n",
       "      <th>5674</th>\n",
       "      <td>UVM</td>\n",
       "      <td>TCGA-WC-A883.FDE93561-B0B0-495F-8BBD-932EA3B7D02D</td>\n",
       "    </tr>\n",
       "    <tr>\n",
       "      <th>5675</th>\n",
       "      <td>UVM</td>\n",
       "      <td>TCGA-WC-A884.21C6D225-052E-4E12-A639-A1B671E22CE4</td>\n",
       "    </tr>\n",
       "    <tr>\n",
       "      <th>5676</th>\n",
       "      <td>UVM</td>\n",
       "      <td>TCGA-WC-A885.1D5AEA80-D8C7-444F-BFB4-1B3822C8D17B</td>\n",
       "    </tr>\n",
       "    <tr>\n",
       "      <th>5677</th>\n",
       "      <td>UVM</td>\n",
       "      <td>TCGA-WC-A888.513B512E-E9DF-4628-BD36-CADBF3725D9A</td>\n",
       "    </tr>\n",
       "  </tbody>\n",
       "</table>\n",
       "<p>5678 rows × 2 columns</p>\n",
       "</div>"
      ],
      "text/plain": [
       "     type                                   patient_filename\n",
       "0     ACC  TCGA-OR-A5J1.8866FD87-4F6F-4D7E-B99A-7DD427ED3BB3\n",
       "1     ACC  TCGA-OR-A5J2.345C34EE-F031-41A4-B955-BA054F2A3CE1\n",
       "2     ACC  TCGA-OR-A5J3.83F53610-4F40-425B-9B69-BBB94234224F\n",
       "3     ACC  TCGA-OR-A5J4.39E300DC-C01F-46BC-AE4C-D834458F1FF7\n",
       "4     ACC  TCGA-OR-A5J5.BB63299C-B7F7-4F08-998D-C30E56CD6065\n",
       "...   ...                                                ...\n",
       "5673  UVM  TCGA-WC-A882.BCFE115C-4472-4221-86B3-75B122F9B425\n",
       "5674  UVM  TCGA-WC-A883.FDE93561-B0B0-495F-8BBD-932EA3B7D02D\n",
       "5675  UVM  TCGA-WC-A884.21C6D225-052E-4E12-A639-A1B671E22CE4\n",
       "5676  UVM  TCGA-WC-A885.1D5AEA80-D8C7-444F-BFB4-1B3822C8D17B\n",
       "5677  UVM  TCGA-WC-A888.513B512E-E9DF-4628-BD36-CADBF3725D9A\n",
       "\n",
       "[5678 rows x 2 columns]"
      ]
     },
     "execution_count": 7,
     "metadata": {},
     "output_type": "execute_result"
    }
   ],
   "source": [
    "n03_patient_df = cancer_type_df[cancer_type_df['patient'].isin(list(n03_df['case_submitter_id']))].copy()\n",
    "#print(n03_patient_df.shape)\n",
    "n03_patient_df.reset_index(inplace=True, drop=True)\n",
    "n03_patient_df['case_submitter_id']=n03_patient_df['patient']\n",
    "\n",
    "n03_merged_df = n03_patient_df.merge(n03_df, on='case_submitter_id')[['type','patient_filename','ajcc_pathologic_n','case_submitter_id']]\n",
    "n03_merged_df = n03_merged_df[n03_merged_df['ajcc_pathologic_n']!='NX']\n",
    "n03_merged_df = n03_merged_df[n03_merged_df['ajcc_pathologic_n']!='N0 (i+)']\n",
    "n03_merged_df = n03_merged_df[n03_merged_df['ajcc_pathologic_n']!='N0 (i-)']\n",
    "n03_merged_df = n03_merged_df[n03_merged_df['ajcc_pathologic_n']!='N0 (mol+)']\n",
    "\n",
    "\n",
    "n03_merged_df.reset_index(inplace=True, drop=True)\n",
    "list_n=[]\n",
    "for a_value in list(n03_merged_df['ajcc_pathologic_n']):\n",
    "    if a_value == 'N0':\n",
    "        list_n.append(0)\n",
    "    elif '1' in a_value:\n",
    "        list_n.append(1)\n",
    "    elif '2' in a_value:\n",
    "        list_n.append(2)\n",
    "    elif '3' in a_value:\n",
    "        list_n.append(3)\n",
    "    else:\n",
    "        print(a_value) #Check for any unrecognized terms \n",
    "\n",
    "n03_meta = n03_merged_df[[\"type\", \"patient_filename\"]]\n",
    "n03_meta"
   ]
  },
  {
   "cell_type": "code",
   "execution_count": 8,
   "metadata": {},
   "outputs": [
    {
     "name": "stdout",
     "output_type": "stream",
     "text": [
      "(800, 2)\n",
      "(477, 2)\n"
     ]
    }
   ],
   "source": [
    "\"\"\" select patients who are BRCA and LUAD\n",
    "\"\"\"\n",
    "brca_n03_patients = n03_meta[n03_meta[\"type\"] == \"BRCA\"].copy()\n",
    "print(brca_n03_patients.shape)\n",
    "luad_n03_patients = n03_meta[n03_meta[\"type\"] == \"LUAD\"].copy()\n",
    "print(luad_n03_patients.shape)"
   ]
  },
  {
   "cell_type": "markdown",
   "metadata": {},
   "source": [
    "## 2.1 Select BRCA/LUAD patients in N category"
   ]
  },
  {
   "cell_type": "code",
   "execution_count": 10,
   "metadata": {},
   "outputs": [
    {
     "name": "stdout",
     "output_type": "stream",
     "text": [
      "BRCA training pd: (669, 4) and testing pd: (131, 4)\n",
      "LUAD training pd: (395, 4) and testing pd: (82, 4)\n"
     ]
    }
   ],
   "source": [
    "n03_data_path = \"/secure/shared_data/tcga_path_reports/n03_data/\"\n",
    "n03_training_pd = pd.read_csv(n03_data_path+\"Target_Data_N03.csv\")\n",
    "n03_testing_pd = pd.read_csv(n03_data_path+\"Target_Data_N03_test.csv\")\n",
    "\n",
    "n03_brca_training = n03_training_pd.merge(brca_n03_patients, on=\"patient_filename\")\n",
    "n03_brca_testing = n03_testing_pd.merge(brca_n03_patients, on=\"patient_filename\")\n",
    "print(\"BRCA training pd: {} and testing pd: {}\".format(n03_brca_training.shape, n03_brca_testing.shape))\n",
    "\n",
    "n03_luad_training = n03_training_pd.merge(luad_n03_patients, on=\"patient_filename\")\n",
    "n03_luad_testing = n03_testing_pd.merge(luad_n03_patients, on=\"patient_filename\")\n",
    "print(\"LUAD training pd: {} and testing pd: {}\".format(n03_luad_training.shape, n03_luad_testing.shape))"
   ]
  },
  {
   "cell_type": "code",
   "execution_count": 17,
   "metadata": {},
   "outputs": [],
   "source": [
    "n03_brca_training.to_csv(n03_data_path+\"BRCA_N03_training.csv\")\n",
    "n03_brca_testing.to_csv(n03_data_path+\"BRCA_N03_testing.csv\")\n",
    "n03_luad_training.to_csv(n03_data_path+\"LUAD_N03_training.csv\")\n",
    "n03_luad_testing.to_csv(n03_data_path+\"LUAD_N03_testing.csv\")"
   ]
  },
  {
   "cell_type": "markdown",
   "metadata": {},
   "source": [
    "## 2.2 Analyze ZSCOT Results for BRCA/LUAD Patients"
   ]
  },
  {
   "cell_type": "code",
   "execution_count": 7,
   "metadata": {},
   "outputs": [
    {
     "name": "stdout",
     "output_type": "stream",
     "text": [
      "All Test: (852, 7)\n",
      "BRCA: (131, 8)\n",
      "LUAD: (82, 8)\n"
     ]
    }
   ],
   "source": [
    "n03_ZSCOT_path = \"/secure/shared_data/tnm/n03_res/med42-t0.7-tp0.95-nrs1.csv\"\n",
    "# load the ZS-COT results\n",
    "n03_ZSCOT_df = pd.read_csv(n03_ZSCOT_path)\n",
    "print(\"All Test:\", n03_ZSCOT_df.shape)\n",
    "\n",
    "# only select ZS-COT results for patients who have BRCA\n",
    "n03_ZSCOT_brca = n03_ZSCOT_df.merge(brca_n03_patients, on=\"patient_filename\")\n",
    "print(\"BRCA:\", n03_ZSCOT_brca.shape)\n",
    "\n",
    "# only select ZS-COT results for patients who have LUAD\n",
    "n03_ZSCOT_luad = n03_ZSCOT_df.merge(luad_n03_patients, on=\"patient_filename\")\n",
    "print(\"LUAD:\", n03_ZSCOT_luad.shape)"
   ]
  },
  {
   "cell_type": "markdown",
   "metadata": {},
   "source": [
    "# 3. M Category"
   ]
  },
  {
   "cell_type": "code",
   "execution_count": 13,
   "metadata": {},
   "outputs": [
    {
     "data": {
      "text/html": [
       "<div>\n",
       "<style scoped>\n",
       "    .dataframe tbody tr th:only-of-type {\n",
       "        vertical-align: middle;\n",
       "    }\n",
       "\n",
       "    .dataframe tbody tr th {\n",
       "        vertical-align: top;\n",
       "    }\n",
       "\n",
       "    .dataframe thead th {\n",
       "        text-align: right;\n",
       "    }\n",
       "</style>\n",
       "<table border=\"1\" class=\"dataframe\">\n",
       "  <thead>\n",
       "    <tr style=\"text-align: right;\">\n",
       "      <th></th>\n",
       "      <th>type</th>\n",
       "      <th>patient_filename</th>\n",
       "    </tr>\n",
       "  </thead>\n",
       "  <tbody>\n",
       "    <tr>\n",
       "      <th>0</th>\n",
       "      <td>BLCA</td>\n",
       "      <td>TCGA-2F-A9KO.FA1D30C7-E486-48DD-989F-E774B42EA1B1</td>\n",
       "    </tr>\n",
       "    <tr>\n",
       "      <th>1</th>\n",
       "      <td>BLCA</td>\n",
       "      <td>TCGA-2F-A9KQ.F35113C2-F4CC-43EC-8C52-B71B357DDA46</td>\n",
       "    </tr>\n",
       "    <tr>\n",
       "      <th>2</th>\n",
       "      <td>BLCA</td>\n",
       "      <td>TCGA-2F-A9KR.EC17D988-194A-4C20-9BF8-D7CC75D9DF55</td>\n",
       "    </tr>\n",
       "    <tr>\n",
       "      <th>3</th>\n",
       "      <td>BLCA</td>\n",
       "      <td>TCGA-2F-A9KT.EC566A42-E711-458F-8082-1C113AECDF60</td>\n",
       "    </tr>\n",
       "    <tr>\n",
       "      <th>4</th>\n",
       "      <td>BLCA</td>\n",
       "      <td>TCGA-4Z-AA7M.C14C42D1-6359-4625-90E1-B3E43646DB64</td>\n",
       "    </tr>\n",
       "    <tr>\n",
       "      <th>...</th>\n",
       "      <td>...</td>\n",
       "      <td>...</td>\n",
       "    </tr>\n",
       "    <tr>\n",
       "      <th>4603</th>\n",
       "      <td>UVM</td>\n",
       "      <td>TCGA-WC-A883.FDE93561-B0B0-495F-8BBD-932EA3B7D02D</td>\n",
       "    </tr>\n",
       "    <tr>\n",
       "      <th>4604</th>\n",
       "      <td>UVM</td>\n",
       "      <td>TCGA-WC-A884.21C6D225-052E-4E12-A639-A1B671E22CE4</td>\n",
       "    </tr>\n",
       "    <tr>\n",
       "      <th>4605</th>\n",
       "      <td>UVM</td>\n",
       "      <td>TCGA-WC-A885.1D5AEA80-D8C7-444F-BFB4-1B3822C8D17B</td>\n",
       "    </tr>\n",
       "    <tr>\n",
       "      <th>4606</th>\n",
       "      <td>UVM</td>\n",
       "      <td>TCGA-WC-A888.513B512E-E9DF-4628-BD36-CADBF3725D9A</td>\n",
       "    </tr>\n",
       "    <tr>\n",
       "      <th>4607</th>\n",
       "      <td>UVM</td>\n",
       "      <td>TCGA-WC-A88A.8A79DCBE-B2F9-48B3-AA7C-1F16608CF1C7</td>\n",
       "    </tr>\n",
       "  </tbody>\n",
       "</table>\n",
       "<p>4608 rows × 2 columns</p>\n",
       "</div>"
      ],
      "text/plain": [
       "      type                                   patient_filename\n",
       "0     BLCA  TCGA-2F-A9KO.FA1D30C7-E486-48DD-989F-E774B42EA1B1\n",
       "1     BLCA  TCGA-2F-A9KQ.F35113C2-F4CC-43EC-8C52-B71B357DDA46\n",
       "2     BLCA  TCGA-2F-A9KR.EC17D988-194A-4C20-9BF8-D7CC75D9DF55\n",
       "3     BLCA  TCGA-2F-A9KT.EC566A42-E711-458F-8082-1C113AECDF60\n",
       "4     BLCA  TCGA-4Z-AA7M.C14C42D1-6359-4625-90E1-B3E43646DB64\n",
       "...    ...                                                ...\n",
       "4603   UVM  TCGA-WC-A883.FDE93561-B0B0-495F-8BBD-932EA3B7D02D\n",
       "4604   UVM  TCGA-WC-A884.21C6D225-052E-4E12-A639-A1B671E22CE4\n",
       "4605   UVM  TCGA-WC-A885.1D5AEA80-D8C7-444F-BFB4-1B3822C8D17B\n",
       "4606   UVM  TCGA-WC-A888.513B512E-E9DF-4628-BD36-CADBF3725D9A\n",
       "4607   UVM  TCGA-WC-A88A.8A79DCBE-B2F9-48B3-AA7C-1F16608CF1C7\n",
       "\n",
       "[4608 rows x 2 columns]"
      ]
     },
     "execution_count": 13,
     "metadata": {},
     "output_type": "execute_result"
    }
   ],
   "source": [
    "m01_patient_df = cancer_type_df[cancer_type_df['patient'].isin(list(m01_df['case_submitter_id']))].copy()\n",
    "m01_patient_df.reset_index(inplace=True, drop=True)\n",
    "m01_patient_df['case_submitter_id']=m01_patient_df['patient']\n",
    "\n",
    "m01_merged_df = m01_patient_df.merge(m01_df, on='case_submitter_id')[['type','patient_filename','ajcc_pathologic_m','case_submitter_id']]\n",
    "m01_merged_df = m01_merged_df[m01_merged_df['ajcc_pathologic_m']!='MX']\n",
    "\n",
    "m01_merged_df.reset_index(inplace=True, drop=True)\n",
    "list_m=[]\n",
    "for a_value in list(m01_merged_df['ajcc_pathologic_m']):\n",
    "    if '0' in a_value:\n",
    "        list_m.append(0)\n",
    "    elif '1' in a_value:\n",
    "        list_m.append(1)\n",
    "    else:\n",
    "        print(a_value) #Check for any unrecognized terms\n",
    "\n",
    "m01_meta = m01_merged_df[[\"type\", \"patient_filename\"]]\n",
    "m01_meta"
   ]
  },
  {
   "cell_type": "code",
   "execution_count": 14,
   "metadata": {},
   "outputs": [
    {
     "name": "stdout",
     "output_type": "stream",
     "text": [
      "(869, 2)\n",
      "(353, 2)\n"
     ]
    }
   ],
   "source": [
    "\"\"\" select patients who are BRCA and LUAD\n",
    "\"\"\"\n",
    "brca_m01_patients = m01_meta[m01_meta[\"type\"] == \"BRCA\"].copy()\n",
    "print(brca_m01_patients.shape)\n",
    "luad_m01_patients = m01_meta[m01_meta[\"type\"] == \"LUAD\"].copy()\n",
    "print(luad_m01_patients.shape)"
   ]
  },
  {
   "cell_type": "markdown",
   "metadata": {},
   "source": [
    "## 3.1 Select BRCA/LUAD patients in M category"
   ]
  },
  {
   "cell_type": "code",
   "execution_count": 15,
   "metadata": {},
   "outputs": [
    {
     "name": "stdout",
     "output_type": "stream",
     "text": [
      "BRCA training pd: (731, 4) and testing pd: (138, 4)\n",
      "LUAD training pd: (290, 4) and testing pd: (63, 4)\n"
     ]
    }
   ],
   "source": [
    "m01_data_path = \"/secure/shared_data/tcga_path_reports/m01_data/\"\n",
    "m01_training_pd = pd.read_csv(m01_data_path+\"Target_Data_M01.csv\")\n",
    "m01_testing_pd = pd.read_csv(m01_data_path+\"Target_Data_M01_test.csv\")\n",
    "\n",
    "m01_brca_training = m01_training_pd.merge(brca_m01_patients, on=\"patient_filename\")\n",
    "m01_brca_testing = m01_testing_pd.merge(brca_m01_patients, on=\"patient_filename\")\n",
    "print(\"BRCA training pd: {} and testing pd: {}\".format(m01_brca_training.shape, m01_brca_testing.shape))\n",
    "\n",
    "m01_luad_training = m01_training_pd.merge(luad_m01_patients, on=\"patient_filename\")\n",
    "m01_luad_testing = m01_testing_pd.merge(luad_m01_patients, on=\"patient_filename\")\n",
    "print(\"LUAD training pd: {} and testing pd: {}\".format(m01_luad_training.shape, m01_luad_testing.shape))"
   ]
  },
  {
   "cell_type": "code",
   "execution_count": null,
   "metadata": {},
   "outputs": [],
   "source": [
    "m01_brca_training.to_csv(m01_data_path+\"BRCA_M01_training.csv\")\n",
    "m01_brca_testing.to_csv(m01_data_path+\"BRCA_M01_testing.csv\")\n",
    "m01_luad_training.to_csv(m01_data_path+\"LUAD_M01_training.csv\")\n",
    "m01_luad_testing.to_csv(m01_data_path+\"LUAD_M01_testing.csv\")"
   ]
  },
  {
   "cell_type": "markdown",
   "metadata": {},
   "source": [
    "## 3.2 Analyze ZSCOT Results for BRCA/LUAD Patients"
   ]
  },
  {
   "cell_type": "code",
   "execution_count": 10,
   "metadata": {},
   "outputs": [
    {
     "name": "stdout",
     "output_type": "stream",
     "text": [
      "All Test: (692, 17)\n",
      "BRCA: (138, 18)\n",
      "LUAD: (63, 18)\n"
     ]
    }
   ],
   "source": [
    "# load the ZS-COT results\n",
    "tmp1 = pd.read_csv(\"/secure/shared_data/tnm/m01_res/med42-t0.7-tp0.95-nrs5_batch1.csv\")\n",
    "tmp2 = pd.read_csv(\"/secure/shared_data/tnm/m01_res/med42-t0.7-tp0.95-nrs5_batch2.csv\")\n",
    "m01_med42_cot = pd.concat([tmp1, tmp2])\n",
    "print(\"All Test:\", m01_med42_cot.shape)\n",
    "\n",
    "# only select ZS-COT results for patients who have BRCA\n",
    "m01_ZSCOT_brca = m01_med42_cot.merge(brca_m01_patients, on=\"patient_filename\")\n",
    "print(\"BRCA:\", m01_ZSCOT_brca.shape)\n",
    "\n",
    "# only select ZS-COT results for patients who have LUAD\n",
    "m01_ZSCOT_luad = m01_med42_cot.merge(luad_m01_patients, on=\"patient_filename\")\n",
    "print(\"LUAD:\", m01_ZSCOT_luad.shape)"
   ]
  }
 ],
 "metadata": {
  "kernelspec": {
   "display_name": "cancer-staging",
   "language": "python",
   "name": "python3"
  },
  "language_info": {
   "codemirror_mode": {
    "name": "ipython",
    "version": 3
   },
   "file_extension": ".py",
   "mimetype": "text/x-python",
   "name": "python",
   "nbconvert_exporter": "python",
   "pygments_lexer": "ipython3",
   "version": "3.11.5"
  }
 },
 "nbformat": 4,
 "nbformat_minor": 2
}
