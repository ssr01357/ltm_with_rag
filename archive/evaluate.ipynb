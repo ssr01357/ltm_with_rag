{
 "cells": [
  {
   "cell_type": "code",
   "execution_count": 1,
   "metadata": {},
   "outputs": [],
   "source": [
    "from src.metrics import t14_performance_report, n03_performance_report, m01_performance_report\n",
    "import pandas as pd\n",
    "\n",
    "import warnings\n",
    "warnings.filterwarnings(\"ignore\")"
   ]
  },
  {
   "cell_type": "markdown",
   "metadata": {},
   "source": [
    "# T Category"
   ]
  },
  {
   "cell_type": "code",
   "execution_count": null,
   "metadata": {},
   "outputs": [],
   "source": [
    "t14_4096_full_test = pd.read_csv(\"/home/cc3859/projects/rag-tnm/t14_test_dir/greedy/med42-zs.csv\")\n",
    "_ = t14_performance_report(t14_4096_full_test)"
   ]
  },
  {
   "cell_type": "code",
   "execution_count": 2,
   "metadata": {},
   "outputs": [
    {
     "name": "stdout",
     "output_type": "stream",
     "text": [
      "/home/yl3427/cylab/yewon_data/result_brca_t_5folds_5st_fold_test_split.csv\n",
      "/home/yl3427/cylab/yewon_data/result_brca_t_5folds_2st_fold_test_split.csv\n",
      "/home/yl3427/cylab/yewon_data/result_brca_t_5folds_1st_fold_test_split.csv\n",
      "/home/yl3427/cylab/yewon_data/result_brca_t_5folds_4st_fold_test_split.csv\n",
      "/home/yl3427/cylab/yewon_data/result_brca_t_5folds_3st_fold_test_split.csv\n",
      "              precision    recall  f1-score   support\n",
      "\n",
      "          T1       0.63      0.81      0.71       266\n",
      "          T2       0.89      0.73      0.81       569\n",
      "          T3       0.84      0.60      0.70       127\n",
      "          T4       0.28      0.74      0.41        38\n",
      "\n",
      "    accuracy                           0.74      1000\n",
      "   macro avg       0.66      0.72      0.65      1000\n",
      "weighted avg       0.79      0.74      0.75      1000\n",
      "\n",
      "Precision: 0.6596363970454101 (CI: 0.6269738688870378 0.6891899787192008 )\n",
      "Recall: 0.7185507485110254 (CI: 0.6710258813277774 0.7592130951538077 )\n",
      "F1: 0.653906040711721 (CI: 0.6133362147113469 0.6908071481402646 )\n"
     ]
    },
    {
     "data": {
      "text/plain": [
       "array([[0.6261964 , 0.68801788, 0.62283125],\n",
       "       [0.66129168, 0.73632457, 0.65889191],\n",
       "       [0.65297709, 0.72823307, 0.63821914],\n",
       "       ...,\n",
       "       [0.66845728, 0.73036889, 0.65758902],\n",
       "       [0.67175284, 0.72385826, 0.66230071],\n",
       "       [0.66503092, 0.70490031, 0.64401812]])"
      ]
     },
     "execution_count": 2,
     "metadata": {},
     "output_type": "execute_result"
    }
   ],
   "source": [
    "import os\n",
    "import glob\n",
    "brca_t_dfs = []\n",
    "for file_path in glob.glob(os.path.join(\"/home/yl3427/cylab/yewon_data/\", \"result_brca_t_*.csv\")):\n",
    "    print(file_path)\n",
    "    df = pd.read_csv(file_path)\n",
    "    brca_t_dfs.append(df)\n",
    "\n",
    "brca_t_df = pd.concat(brca_t_dfs, axis=0, ignore_index= True)\n",
    "t14_performance_report(brca_t_df)"
   ]
  },
  {
   "cell_type": "code",
   "execution_count": 3,
   "metadata": {},
   "outputs": [
    {
     "name": "stdout",
     "output_type": "stream",
     "text": [
      "/home/yl3427/cylab/yewon_data/result_luad_t_5folds_4st_fold_test_split.csv\n",
      "/home/yl3427/cylab/yewon_data/result_luad_t_5folds_3st_fold_test_split.csv\n",
      "/home/yl3427/cylab/yewon_data/result_luad_t_5folds_2st_fold_test_split.csv\n",
      "/home/yl3427/cylab/yewon_data/result_luad_t_5folds_5st_fold_test_split.csv\n",
      "/home/yl3427/cylab/yewon_data/result_luad_t_5folds_1st_fold_test_split.csv\n",
      "486\n",
      "              precision    recall  f1-score   support\n",
      "\n",
      "          T1       0.77      0.92      0.84       158\n",
      "          T2       0.97      0.76      0.85       258\n",
      "          T3       0.76      0.76      0.76        41\n",
      "          T4       0.33      0.78      0.46        18\n",
      "\n",
      "    accuracy                           0.81       475\n",
      "   macro avg       0.70      0.80      0.73       475\n",
      "weighted avg       0.86      0.81      0.82       475\n",
      "\n",
      "Precision: 0.7065181137168688 (CI: 0.6548908727557695 0.7576738555302065 )\n",
      "Recall: 0.8029509814195344 (CI: 0.7379720843952527 0.8616934547337171 )\n",
      "F1: 0.7250743796912437 (CI: 0.6703813835807404 0.7780330251415547 )\n"
     ]
    },
    {
     "data": {
      "text/plain": [
       "array([[0.71939942, 0.80363176, 0.73300578],\n",
       "       [0.70674396, 0.82046762, 0.71271822],\n",
       "       [0.73103073, 0.80554454, 0.74586414],\n",
       "       ...,\n",
       "       [0.7156779 , 0.82910143, 0.74763485],\n",
       "       [0.75710804, 0.84471668, 0.78243985],\n",
       "       [0.73729226, 0.83410221, 0.76813526]])"
      ]
     },
     "execution_count": 3,
     "metadata": {},
     "output_type": "execute_result"
    }
   ],
   "source": [
    "luad_t_dfs = []\n",
    "for file_path in glob.glob(os.path.join(\"/home/yl3427/cylab/yewon_data/\", \"result_luad_t_*.csv\")):\n",
    "    print(file_path)\n",
    "    df = pd.read_csv(file_path)\n",
    "    luad_t_dfs.append(df)\n",
    "\n",
    "luad_t_df = pd.concat(luad_t_dfs, axis=0, ignore_index= True)\n",
    "print(len(luad_t_df))\n",
    "t14_performance_report(luad_t_df)"
   ]
  },
  {
   "cell_type": "markdown",
   "metadata": {},
   "source": [
    "## Detailed Analysis: Length effect"
   ]
  },
  {
   "cell_type": "code",
   "execution_count": null,
   "metadata": {},
   "outputs": [],
   "source": [
    "med42_t14_report_length_k1_test = pd.read_csv(\"/secure/shared_data/rag_tnm_results/t14_results/med42-formatted-report-length-k1.csv\")\n",
    "_ = t14_performance_report(med42_t14_report_length_k1_test)"
   ]
  },
  {
   "cell_type": "code",
   "execution_count": null,
   "metadata": {},
   "outputs": [],
   "source": [
    "med42_t14_report_length_k1_test[\"num_of_tokens\"].describe()"
   ]
  },
  {
   "cell_type": "code",
   "execution_count": null,
   "metadata": {},
   "outputs": [],
   "source": [
    "q1_df = med42_t14_report_length_k1_test[med42_t14_report_length_k1_test[\"num_of_tokens\"] < 2539].copy()\n",
    "_ = t14_performance_report(q1_df)\n",
    "\n",
    "q1_patients = q1_df[\"patient_filename\"].to_list()\n",
    "q1_zs_df = t14_4096_full_test[t14_4096_full_test[\"patient_filename\"].isin(q1_patients)].copy()\n",
    "_ = t14_performance_report(q1_zs_df)\n",
    "print(\"Avg. size of tokens to these reports: {}\".format(q1_zs_df[\"size_of_tokens\"].mean()))"
   ]
  },
  {
   "cell_type": "code",
   "execution_count": null,
   "metadata": {},
   "outputs": [],
   "source": [
    "q2_df = med42_t14_report_length_k1_test[(med42_t14_report_length_k1_test[\"num_of_tokens\"] > 2539) & (med42_t14_report_length_k1_test[\"num_of_tokens\"] < 5244)].copy()\n",
    "_ = t14_performance_report(q2_df)\n",
    "\n",
    "q2_patients = q2_df[\"patient_filename\"].to_list()\n",
    "q2_zs_df = t14_4096_full_test[t14_4096_full_test[\"patient_filename\"].isin(q2_patients)].copy()\n",
    "_ = t14_performance_report(q2_zs_df)\n",
    "print(\"Avg. size of tokens to these reports: {}\".format(q2_zs_df[\"size_of_tokens\"].mean()))"
   ]
  },
  {
   "cell_type": "code",
   "execution_count": null,
   "metadata": {},
   "outputs": [],
   "source": [
    "q3_df = med42_t14_report_length_k1_test[(med42_t14_report_length_k1_test[\"num_of_tokens\"] > 5244) & (med42_t14_report_length_k1_test[\"num_of_tokens\"] < 6952)].copy()\n",
    "_ = t14_performance_report(q3_df)\n",
    "\n",
    "q3_patients = q3_df[\"patient_filename\"].to_list()\n",
    "q3_zs_df = t14_4096_full_test[t14_4096_full_test[\"patient_filename\"].isin(q3_patients)].copy()\n",
    "_ = t14_performance_report(q3_zs_df)\n",
    "print(\"Avg. size of tokens to these reports: {}\".format(q3_zs_df[\"size_of_tokens\"].mean()))"
   ]
  },
  {
   "cell_type": "code",
   "execution_count": null,
   "metadata": {},
   "outputs": [],
   "source": [
    "q4_df = med42_t14_report_length_k1_test[med42_t14_report_length_k1_test[\"num_of_tokens\"] > 6952].copy()\n",
    "_ = t14_performance_report(q4_df)\n",
    "\n",
    "q4_patients = q4_df[\"patient_filename\"].to_list()\n",
    "q4_zs_df = t14_4096_full_test[t14_4096_full_test[\"patient_filename\"].isin(q4_patients)].copy()\n",
    "_ = t14_performance_report(q4_zs_df)\n",
    "print(\"Avg. size of tokens to these reports: {}\".format(q4_zs_df[\"size_of_tokens\"].mean()))"
   ]
  },
  {
   "cell_type": "markdown",
   "metadata": {},
   "source": [
    "# N category"
   ]
  },
  {
   "cell_type": "code",
   "execution_count": null,
   "metadata": {},
   "outputs": [],
   "source": [
    "n03_4096_all = pd.read_csv(\"./n03_test_dir/greedy/med42_4096_full-zs.csv\")\n",
    "_ = n03_performance_report(n03_4096_all)"
   ]
  },
  {
   "cell_type": "code",
   "execution_count": 4,
   "metadata": {},
   "outputs": [
    {
     "name": "stdout",
     "output_type": "stream",
     "text": [
      "/home/yl3427/cylab/yewon_data/result_brca_n_5folds_1st_fold_test_split.csv\n",
      "/home/yl3427/cylab/yewon_data/result_brca_n_5folds_4st_fold_test_split.csv\n",
      "/home/yl3427/cylab/yewon_data/result_brca_n_5folds_3st_fold_test_split.csv\n",
      "/home/yl3427/cylab/yewon_data/result_brca_n_5folds_5st_fold_test_split.csv\n",
      "/home/yl3427/cylab/yewon_data/result_brca_n_5folds_2st_fold_test_split.csv\n",
      "800\n",
      "              precision    recall  f1-score   support\n",
      "\n",
      "          N0       0.88      0.95      0.91       310\n",
      "          N1       0.87      0.79      0.83       281\n",
      "          N2       0.67      0.66      0.66       109\n",
      "          N3       0.75      0.74      0.74        72\n",
      "\n",
      "    accuracy                           0.83       772\n",
      "   macro avg       0.79      0.78      0.79       772\n",
      "weighted avg       0.83      0.83      0.83       772\n",
      "\n",
      "Precision: 0.7895214903219733 (CI: 0.7535381636287113 0.8253236016378243 )\n",
      "Recall: 0.7851741269596642 (CI: 0.7494688103353034 0.822476944237066 )\n",
      "F1: 0.7858761198098476 (CI: 0.7503139479527837 0.8208248160523273 )\n"
     ]
    },
    {
     "data": {
      "text/plain": [
       "array([[0.78392988, 0.77193308, 0.77729766],\n",
       "       [0.80567927, 0.80506223, 0.80427123],\n",
       "       [0.78547242, 0.79201251, 0.78719888],\n",
       "       ...,\n",
       "       [0.78082057, 0.77019608, 0.77464914],\n",
       "       [0.79307654, 0.80486538, 0.7979941 ],\n",
       "       [0.81022447, 0.81651494, 0.81262214]])"
      ]
     },
     "execution_count": 4,
     "metadata": {},
     "output_type": "execute_result"
    }
   ],
   "source": [
    "brca_n_dfs = []\n",
    "for file_path in glob.glob(os.path.join(\"/home/yl3427/cylab/yewon_data/\", \"result_brca_n_*.csv\")):\n",
    "    print(file_path)\n",
    "    df = pd.read_csv(file_path)\n",
    "    brca_n_dfs.append(df)\n",
    "\n",
    "brca_n_df = pd.concat(brca_n_dfs, axis=0, ignore_index= True)\n",
    "print(len(brca_n_df))\n",
    "n03_performance_report(brca_n_df)"
   ]
  },
  {
   "cell_type": "code",
   "execution_count": 5,
   "metadata": {},
   "outputs": [
    {
     "name": "stdout",
     "output_type": "stream",
     "text": [
      "/home/yl3427/cylab/yewon_data/result_luad_n_5folds_2st_fold_test_split.csv\n",
      "/home/yl3427/cylab/yewon_data/result_luad_n_5folds_3st_fold_test_split.csv\n",
      "/home/yl3427/cylab/yewon_data/result_luad_n_5folds_4st_fold_test_split.csv\n",
      "/home/yl3427/cylab/yewon_data/result_luad_n_5folds_1st_fold_test_split.csv\n",
      "/home/yl3427/cylab/yewon_data/result_luad_n_5folds_5st_fold_test_split.csv\n",
      "477\n",
      "              precision    recall  f1-score   support\n",
      "\n",
      "          N0       0.94      0.95      0.95       296\n",
      "          N1       0.81      0.82      0.81        94\n",
      "          N2       0.89      0.76      0.82        67\n",
      "          N3       0.22      1.00      0.36         2\n",
      "\n",
      "    accuracy                           0.90       459\n",
      "   macro avg       0.72      0.88      0.74       459\n",
      "weighted avg       0.91      0.90      0.90       459\n",
      "\n",
      "Precision: 0.7167891933087903 (CI: 0.6516623655292966 0.7968158710557749 )\n",
      "Recall: 0.8493195274595521 (CI: 0.6222555332119832 0.9107742802217673 )\n",
      "F1: 0.7294417745666126 (CI: 0.6365243686403109 0.8194003524057013 )\n"
     ]
    },
    {
     "data": {
      "text/plain": [
       "array([[0.76003969, 0.87471337, 0.7907154 ],\n",
       "       [0.6521344 , 0.61954762, 0.63349194],\n",
       "       [0.77193626, 0.90038867, 0.8015809 ],\n",
       "       ...,\n",
       "       [0.68187565, 0.63695179, 0.6573779 ],\n",
       "       [0.80390945, 0.89009662, 0.81927302],\n",
       "       [0.66206826, 0.64601887, 0.65373492]])"
      ]
     },
     "execution_count": 5,
     "metadata": {},
     "output_type": "execute_result"
    }
   ],
   "source": [
    "luad_n_dfs = []\n",
    "for file_path in glob.glob(os.path.join(\"/home/yl3427/cylab/yewon_data/\", \"result_luad_n_*.csv\")):\n",
    "    print(file_path)\n",
    "    df = pd.read_csv(file_path)\n",
    "    luad_n_dfs.append(df)\n",
    "\n",
    "luad_n_df = pd.concat(luad_n_dfs, axis=0, ignore_index= True)\n",
    "print(len(luad_n_df))\n",
    "n03_performance_report(luad_n_df)"
   ]
  },
  {
   "cell_type": "markdown",
   "metadata": {},
   "source": [
    "# M Category"
   ]
  },
  {
   "cell_type": "code",
   "execution_count": null,
   "metadata": {},
   "outputs": [],
   "source": [
    "m01_4096_all = pd.read_csv(\"./m01_test_dir/greedy/med42_4096_full-zs.csv\")\n",
    "_ = m01_performance_report(m01_4096_all)"
   ]
  },
  {
   "cell_type": "code",
   "execution_count": null,
   "metadata": {},
   "outputs": [],
   "source": []
  }
 ],
 "metadata": {
  "kernelspec": {
   "display_name": "cancer-staging",
   "language": "python",
   "name": "python3"
  },
  "language_info": {
   "codemirror_mode": {
    "name": "ipython",
    "version": 3
   },
   "file_extension": ".py",
   "mimetype": "text/x-python",
   "name": "python",
   "nbconvert_exporter": "python",
   "pygments_lexer": "ipython3",
   "version": "3.1.undefined"
  }
 },
 "nbformat": 4,
 "nbformat_minor": 2
}
