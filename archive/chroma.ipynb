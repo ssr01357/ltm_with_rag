{
 "cells": [
  {
   "cell_type": "code",
   "execution_count": 2,
   "metadata": {},
   "outputs": [],
   "source": [
    "# # setup a client\n",
    "# import chromadb\n",
    "# client = chromadb.Client()\n",
    "\n",
    "# create a collection (like a table)\n",
    "collection1 = client.create_collection(name=\"my_collection1\")\n"
   ]
  },
  {
   "cell_type": "code",
   "execution_count": 4,
   "metadata": {},
   "outputs": [],
   "source": [
    "client.delete_collection(\"my_collection1\")"
   ]
  },
  {
   "cell_type": "code",
   "execution_count": 5,
   "metadata": {},
   "outputs": [
    {
     "data": {
      "text/plain": [
       "[]"
      ]
     },
     "execution_count": 5,
     "metadata": {},
     "output_type": "execute_result"
    }
   ],
   "source": [
    "import pandas as pd\n",
    "import os\n",
    "import re\n",
    "from huggingface_hub import InferenceClient\n",
    "import chromadb\n",
    "import chromadb.utils.embedding_functions as embedding_functions\n",
    "import tiktoken\n",
    "from tqdm import tqdm\n",
    "import numpy\n",
    "import warnings\n",
    "warnings.filterwarnings(\"ignore\")\n",
    "from dotenv import load_dotenv, find_dotenv\n",
    "if not load_dotenv(find_dotenv()):\n",
    "    raise Exception(\"Failed to load .env file\")\n",
    "\n",
    "openai_ef = embedding_functions.OpenAIEmbeddingFunction(\n",
    "                api_key=os.getenv('OPENAI_API_KEY'),\n",
    "                model_name=\"text-embedding-3-small\"\n",
    "            )\n",
    "client = chromadb.PersistentClient(\"/home/yl3427/cylab/chroma_db\")\n",
    "client.list_collections()"
   ]
  },
  {
   "cell_type": "code",
   "execution_count": 2,
   "metadata": {},
   "outputs": [],
   "source": [
    "client.delete_collection(\"text-emb-3-small-n03-testing-split\")"
   ]
  },
  {
   "cell_type": "code",
   "execution_count": 2,
   "metadata": {},
   "outputs": [],
   "source": [
    "full_report_collection = client.get_or_create_collection(\"full_report_emb2\")\n",
    "full_report_collection.count()"
   ]
  },
  {
   "cell_type": "code",
   "execution_count": 3,
   "metadata": {},
   "outputs": [
    {
     "data": {
      "text/plain": [
       "Index(['patient_filename', 't', 'text', 'type', 'n', 'prompt_for_abstract',\n",
       "       'prompt_for_extract', 'abstractive_summary', 'extractive_summary',\n",
       "       'zs_ans_from_text_t', 'zs_ans_from_abstract_t', 'zs_ans_from_extract_t',\n",
       "       'zs_ans_from_text_n', 'zs_ans_from_abstract_n', 'zs_ans_from_extract_n',\n",
       "       '0_Has_Valid_Prediction_t', '0_coded_pred_t',\n",
       "       '1_Has_Valid_Prediction_t', '1_coded_pred_t',\n",
       "       '2_Has_Valid_Prediction_t', '2_coded_pred_t',\n",
       "       '0_Has_Valid_Prediction_n', '0_coded_pred_n',\n",
       "       '1_Has_Valid_Prediction_n', '1_coded_pred_n',\n",
       "       '2_Has_Valid_Prediction_n', '2_coded_pred_n', 'is_goodsum_t',\n",
       "       'is_goodsum_n'],\n",
       "      dtype='object')"
      ]
     },
     "execution_count": 3,
     "metadata": {},
     "output_type": "execute_result"
    }
   ],
   "source": [
    "summary_df = pd.read_csv(\"/secure/shared_data/rag_tnm_results/summary/5_folds_summary/Updated_withSummary_merged_df.csv\")\n",
    "summary_df.columns"
   ]
  },
  {
   "cell_type": "code",
   "execution_count": 4,
   "metadata": {},
   "outputs": [],
   "source": [
    "def update(report_df, collection):\n",
    "    pbar = tqdm(total=report_df.shape[0])\n",
    "\n",
    "    for _, report in report_df.iterrows():\n",
    "        report_text = report[\"text\"]\n",
    "        meta = {}\n",
    "        meta[\"patient_filename\"] = report[\"patient_filename\"]\n",
    "        meta[\"cancer_type\"] = report[\"type\"]\n",
    "        meta[\"t_label\"] = report['t']\n",
    "        meta[\"n_label\"] = report['n']\n",
    "        meta['is_goodsum_t'] = report['is_goodsum_t']\n",
    "        meta[\"is_goodsum_n\"] = report[\"is_goodsum_n\"]\n",
    "\n",
    "        collection.update(\n",
    "            ids=meta[\"patient_filename\"],\n",
    "            embeddings=openai_ef([report_text])[0],\n",
    "            metadatas=meta,\n",
    "            documents=report_text\n",
    "        )\n",
    "        pbar.update(1)\n",
    "    pbar.close()"
   ]
  },
  {
   "cell_type": "code",
   "execution_count": 5,
   "metadata": {},
   "outputs": [
    {
     "name": "stderr",
     "output_type": "stream",
     "text": [
      "  0%|          | 0/1517 [00:00<?, ?it/s]"
     ]
    }
   ],
   "source": [
    "update(summary_df, full_report_collection)"
   ]
  }
 ],
 "metadata": {
  "kernelspec": {
   "display_name": "rag_tnm_env",
   "language": "python",
   "name": "python3"
  },
  "language_info": {
   "codemirror_mode": {
    "name": "ipython",
    "version": 3
   },
   "file_extension": ".py",
   "mimetype": "text/x-python",
   "name": "python",
   "nbconvert_exporter": "python",
   "pygments_lexer": "ipython3",
   "version": "3.12.1"
  }
 },
 "nbformat": 4,
 "nbformat_minor": 2
}
